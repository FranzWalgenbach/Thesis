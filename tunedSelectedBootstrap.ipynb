{
 "cells": [
  {
   "cell_type": "code",
   "execution_count": 1,
   "metadata": {},
   "outputs": [],
   "source": [
    "from sklearn.metrics import accuracy_score, mean_squared_error, mean_absolute_error, roc_auc_score, f1_score\n",
    "from sklearn.model_selection import train_test_split, cross_val_score\n",
    "from sklearn.tree import DecisionTreeClassifier\n",
    "from sklearn.tree import DecisionTreeRegressor\n",
    "from sklearn.model_selection import GridSearchCV\n",
    "from sklearn.utils import resample\n",
    "import matplotlib.pyplot as pyplot\n",
    "from sklearn.feature_selection import RFE\n",
    "from sklearn.feature_selection import RFECV\n",
    "\n",
    "\n",
    "import math\n",
    "import numpy as np\n",
    "import copy\n",
    "import os\n",
    "\n",
    "import functions as func\n",
    "\n",
    "LENGTH = 1000\n",
    "\n",
    "def create_tree_png(dt, label,feature_names, measure):\n",
    "    \"\"\"Creates a png representation of given tree.\n",
    "\n",
    "    Parameters\n",
    "    ----------\n",
    "    dt : DecisionTreeClassifier or DecisionTreeRegressor\n",
    "        The model to render\n",
    "    label: str\n",
    "        Name of the label\n",
    "    measure: str\n",
    "        Name of the performance measure used in building the tree\n",
    "    \"\"\"\n",
    "        \n",
    "    os.makedirs(os.path.dirname('graphs/dot/hyper/selected/%s/%s/best_tuned.dot'%(label,measure)), exist_ok = True)\n",
    "    os.makedirs(os.path.dirname('graphs/hyper/selected/%s/%s/best_tuned.png'%(label,measure)), exist_ok = True)\n",
    "\n",
    "    tree.export_graphviz(dt, out_file='graphs/dot/hyper/selected/%s/%s/best_tuned.dot'%(label,measure), feature_names= feature_names,\n",
    "                        filled=True, rounded=True,special_characters=True)\n",
    "    os.system(\"dot -T png graphs/dot/hyper/selected/%s/%s/best_tuned.dot -o graphs/hyper/selected/%s/%s/best_tuned.png\"%(label,measure,label,measure))\n",
    "\n",
    " "
   ]
  },
  {
   "cell_type": "code",
   "execution_count": 2,
   "metadata": {},
   "outputs": [],
   "source": [
    "#Regression scenarios 1. - 3.\n",
    "dt_reg = DecisionTreeRegressor(random_state=42)\n",
    "#helper variables\n",
    "predictions_rmse_train = [[0] * LENGTH for i in range(4)]\n",
    "predictions_rmse_test = [[0] * LENGTH for i in range(4)]\n",
    "predictions_mae_train = [[0] * LENGTH for i in range(4)]\n",
    "predictions_mae_test = [[0] * LENGTH for i in range(4)]\n",
    "\n",
    "rmse_reg_train = [[0] * 1 for i in range(4)]\n",
    "rmse_reg_test = [[0] * 1 for i in range(4)]\n",
    "mae_reg_train = [[0] * 1 for i in range(4)]\n",
    "mae_reg_test = [[0] * 1 for i in range(4)]\n",
    "\n",
    "\n",
    "\n",
    "#Parameters to be considered in Grid Search\n",
    "param_grid = {\n",
    "    'criterion':['mse', 'mae'],\n",
    "    'max_depth':[3,4,5,7, 10, 15, 100],\n",
    "    'min_samples_split':[2,5,10,20, 30, 40],\n",
    "    'min_samples_leaf':[1,3,5,10,20],\n",
    "    'max_features':[0.25,0.5,0.75,1.0],\n",
    "    'max_leaf_nodes':[5,10,20,25,30,100],\n",
    "    }\n",
    "\n",
    "\n",
    "labels = [\"Prog1_scaled\",\"Prog1_beste\", \"MfI1_beste\", \"beste\"]\n",
    "others = [[\"Prog1_beste\",\"MfI1_beste\",\"beste\"],[\"MfI1_beste\",\"beste\",\"Prog1_scaled\"],[\"Prog1_beste\",\"beste\",\"Prog1_scaled\"],[\"Prog1_beste\",\"MfI1_beste\",\"Prog1_scaled\"]]\n",
    "labels = [\"Prog1_scaled\",\"Prog1_beste\", \"MfI1_beste\"]\n",
    "others = [[\"Prog1_beste\",\"MfI1_beste\",\"beste\"],[\"MfI1_beste\",\"beste\",\"Prog1_scaled\"],[\"Prog1_beste\",\"beste\",\"Prog1_scaled\"]]\n",
    "\n",
    "scenario = 0\n",
    "other_count = 0\n",
    "\n",
    "selector_rmse = {}\n",
    "selector_mae = {}\n",
    "#Methods for Feature Engineering\n",
    "methods_reg = {\"Prog1_beste\": [\"Korrelation\"],\n",
    "               \"Prog1_scaled\": [\"Korrelation\"],\n",
    "               \"MfI1_beste\": [\"Korrelation\"],\n",
    "               \"beste\": [\"RFE\"]}\n",
    "#Optimal number of attributes\n",
    "num_attributes_rmse = {\"Prog1_beste\": 8, \"Prog1_scaled\": 8, \"MfI1_beste\": 24, \"beste\": 27}\n",
    "num_attributes_mae = {\"Prog1_beste\": 7, \"Prog1_scaled\": 7, \"MfI1_beste\": 4, \"beste\": 13}\n",
    "#Attributes with highest correlation\n",
    "columns_reg = {\"Prog1_beste\": [\"Abinote\",\"SKMat_1\",\"SKMat_2\",\"SKMat_3\",\"SKMat_4\",\"mean_SKMat\",\"SKInf_1\", \"mean_SKInf\",\n",
    "                               \"Ktyp_exp\", \"BFI_K_3\", \"mean_BFI_K_G\", \"BM_Inf_17\"],\n",
    "               \"Prog1_scaled\": [\"Abinote\",\"SKMat_1\",\"SKMat_2\",\"SKMat_3\",\"SKMat_4\",\"mean_SKMat\",\"SKInf_1\",\n",
    "                               \"Ktyp_exp\", \"BFI_K_3\", \"mean_BFI_K_G\", \"BM_Inf_17\"],\n",
    "               \"MfI1_beste\": [\"Abinote\",\"SKMat_1\",\"SKMat_2\",\"SKMat_3\",\"SKMat_4\",\"mean_SKMat\",\"SKInf_1\", \"SKInf_4\",\n",
    "                              \"mean_SKInf\", \"Kurs_Inf\", \"Ktyp_exp\", \"BFI_K_7\", \"BM_Inf_14\",\"LMI_3\",\"LMI_6\"],\n",
    "               \"beste\": [\"Abinote\",\"SKMat_1\",\"SKMat_2\",\"SKMat_3\",\"SKMat_4\",\"mean_SKMat\",\"SKInf_1\",\"mean_SKInf\",\n",
    "                         \"Ktyp_exp\", \"BFI_K_3\",\"mean_BFI_K_G\",\"BM_Inf_17\",\"LMI_3\"]}\n"
   ]
  },
  {
   "cell_type": "code",
   "execution_count": 3,
   "metadata": {
    "scrolled": true
   },
   "outputs": [
    {
     "name": "stdout",
     "output_type": "stream",
     "text": [
      "=============\n",
      "Scenario:  1\n",
      "Methode:  Korrelation\n",
      "RMSE  Prog1_scaled\n",
      "Fitting 5 folds for each of 10080 candidates, totalling 50400 fits\n"
     ]
    },
    {
     "name": "stderr",
     "output_type": "stream",
     "text": [
      "[Parallel(n_jobs=-1)]: Using backend LokyBackend with 4 concurrent workers.\n",
      "[Parallel(n_jobs=-1)]: Done 320 tasks      | elapsed:    2.6s\n",
      "[Parallel(n_jobs=-1)]: Done 7220 tasks      | elapsed:   13.8s\n",
      "[Parallel(n_jobs=-1)]: Done 18720 tasks      | elapsed:   32.7s\n",
      "[Parallel(n_jobs=-1)]: Done 34820 tasks      | elapsed:  1.0min\n",
      "[Parallel(n_jobs=-1)]: Done 50400 out of 50400 | elapsed:  1.6min finished\n"
     ]
    },
    {
     "name": "stdout",
     "output_type": "stream",
     "text": [
      "Best parameter for RMSE (CV score=-14711.4590):\n",
      "{'criterion': 'mse', 'max_depth': 4, 'max_features': 0.5, 'max_leaf_nodes': 10, 'min_samples_leaf': 20, 'min_samples_split': 2}\n",
      "Scores: [112.08885554 122.14750328 131.78898434 115.5485164  123.90954282]\n",
      "Mean: 121.09668047901786\n",
      "Standard deviation: 6.8595163062212094\n",
      "0\n",
      "100\n",
      "200\n",
      "300\n",
      "400\n",
      "500\n",
      "600\n",
      "700\n",
      "800\n",
      "900\n"
     ]
    },
    {
     "data": {
      "image/png": "[encoded data removed]",
      "text/plain": [
       "<Figure size 432x288 with 1 Axes>"
      ]
     },
     "metadata": {
      "needs_background": "light"
     },
     "output_type": "display_data"
    },
    {
     "name": "stdout",
     "output_type": "stream",
     "text": [
      "95.0% confidence interval from 110.4183 to 135.9717\n",
      "MAE  Prog1_scaled\n",
      "Fitting 5 folds for each of 10080 candidates, totalling 50400 fits\n"
     ]
    },
    {
     "name": "stderr",
     "output_type": "stream",
     "text": [
      "[Parallel(n_jobs=-1)]: Using backend LokyBackend with 4 concurrent workers.\n",
      "[Parallel(n_jobs=-1)]: Done 2016 tasks      | elapsed:    3.5s\n",
      "[Parallel(n_jobs=-1)]: Done 12216 tasks      | elapsed:   20.0s\n",
      "[Parallel(n_jobs=-1)]: Done 29216 tasks      | elapsed:   48.8s\n",
      "[Parallel(n_jobs=-1)]: Done 50400 out of 50400 | elapsed:  1.5min finished\n"
     ]
    },
    {
     "name": "stdout",
     "output_type": "stream",
     "text": [
      "Best parameter for MAE (CV score=-102.3338):\n",
      "{'criterion': 'mse', 'max_depth': 10, 'max_features': 0.25, 'max_leaf_nodes': 25, 'min_samples_leaf': 3, 'min_samples_split': 10}\n",
      "Scores: [-104.62229679 -103.91820189 -108.92042869  -96.82546775  -97.38282747]\n",
      "Mean: -102.33384451779659\n",
      "Standard deviation: 4.604021667449616\n",
      "0\n",
      "100\n",
      "200\n",
      "300\n",
      "400\n",
      "500\n",
      "600\n",
      "700\n",
      "800\n",
      "900\n"
     ]
    },
    {
     "data": {
      "image/png": "[encoded data removed]",
      "text/plain": [
       "<Figure size 432x288 with 1 Axes>"
      ]
     },
     "metadata": {
      "needs_background": "light"
     },
     "output_type": "display_data"
    },
    {
     "name": "stdout",
     "output_type": "stream",
     "text": [
      "95.0% confidence interval from 95.2450 to 124.6147\n",
      "=============\n",
      "Scenario:  2\n",
      "Methode:  Korrelation\n",
      "RMSE  Prog1_beste\n",
      "Fitting 5 folds for each of 10080 candidates, totalling 50400 fits\n"
     ]
    },
    {
     "name": "stderr",
     "output_type": "stream",
     "text": [
      "[Parallel(n_jobs=-1)]: Using backend LokyBackend with 4 concurrent workers.\n",
      "[Parallel(n_jobs=-1)]: Done 1164 tasks      | elapsed:    2.0s\n",
      "[Parallel(n_jobs=-1)]: Done 6264 tasks      | elapsed:   10.4s\n",
      "[Parallel(n_jobs=-1)]: Done 14764 tasks      | elapsed:   24.4s\n",
      "[Parallel(n_jobs=-1)]: Done 26664 tasks      | elapsed:   44.2s\n",
      "[Parallel(n_jobs=-1)]: Done 41964 tasks      | elapsed:  1.3min\n",
      "[Parallel(n_jobs=-1)]: Done 50400 out of 50400 | elapsed:  1.6min finished\n"
     ]
    },
    {
     "name": "stdout",
     "output_type": "stream",
     "text": [
      "Best parameter for RMSE (CV score=-18725.6589):\n",
      "{'criterion': 'mse', 'max_depth': 7, 'max_features': 0.5, 'max_leaf_nodes': 10, 'min_samples_leaf': 3, 'min_samples_split': 10}\n",
      "Scores: [142.80043887 130.92584038 149.50798073 144.60350265 113.27817275]\n",
      "Mean: 136.2231870734085\n",
      "Standard deviation: 12.996239738908288\n",
      "0\n",
      "100\n",
      "200\n",
      "300\n",
      "400\n",
      "500\n",
      "600\n",
      "700\n",
      "800\n",
      "900\n"
     ]
    },
    {
     "data": {
      "image/png": "[encoded data removed]",
      "text/plain": [
       "<Figure size 432x288 with 1 Axes>"
      ]
     },
     "metadata": {
      "needs_background": "light"
     },
     "output_type": "display_data"
    },
    {
     "name": "stdout",
     "output_type": "stream",
     "text": [
      "95.0% confidence interval from 133.0065 to 166.9710\n",
      "MAE  Prog1_beste\n",
      "Fitting 5 folds for each of 10080 candidates, totalling 50400 fits\n"
     ]
    },
    {
     "name": "stderr",
     "output_type": "stream",
     "text": [
      "[Parallel(n_jobs=-1)]: Using backend LokyBackend with 4 concurrent workers.\n",
      "[Parallel(n_jobs=-1)]: Done 1984 tasks      | elapsed:    3.4s\n",
      "[Parallel(n_jobs=-1)]: Done 12184 tasks      | elapsed:   19.8s\n",
      "[Parallel(n_jobs=-1)]: Done 29184 tasks      | elapsed:   48.9s\n",
      "[Parallel(n_jobs=-1)]: Done 50400 out of 50400 | elapsed:  1.5min finished\n"
     ]
    },
    {
     "name": "stdout",
     "output_type": "stream",
     "text": [
      "Best parameter for MAE (CV score=-105.9258):\n",
      "{'criterion': 'mae', 'max_depth': 4, 'max_features': 1.0, 'max_leaf_nodes': 10, 'min_samples_leaf': 5, 'min_samples_split': 30}\n",
      "Scores: [-109.1025641   -90.         -121.05263158 -132.36842105  -77.10526316]\n",
      "Mean: -105.92577597840754\n",
      "Standard deviation: 20.11158631942551\n",
      "0\n",
      "100\n",
      "200\n",
      "300\n",
      "400\n",
      "500\n",
      "600\n",
      "700\n",
      "800\n",
      "900\n"
     ]
    },
    {
     "data": {
      "image/png": "[encoded data removed]",
      "text/plain": [
       "<Figure size 432x288 with 1 Axes>"
      ]
     },
     "metadata": {
      "needs_background": "light"
     },
     "output_type": "display_data"
    },
    {
     "name": "stdout",
     "output_type": "stream",
     "text": [
      "95.0% confidence interval from 103.7556 to 138.3365\n",
      "=============\n",
      "Scenario:  3\n",
      "Methode:  Korrelation\n",
      "RMSE  MfI1_beste\n",
      "Fitting 5 folds for each of 10080 candidates, totalling 50400 fits\n"
     ]
    },
    {
     "name": "stderr",
     "output_type": "stream",
     "text": [
      "[Parallel(n_jobs=-1)]: Using backend LokyBackend with 4 concurrent workers.\n",
      "[Parallel(n_jobs=-1)]: Done 1692 tasks      | elapsed:    2.9s\n",
      "[Parallel(n_jobs=-1)]: Done 10392 tasks      | elapsed:   16.9s\n",
      "[Parallel(n_jobs=-1)]: Done 24892 tasks      | elapsed:   40.1s\n",
      "[Parallel(n_jobs=-1)]: Done 45192 tasks      | elapsed:  1.3min\n",
      "[Parallel(n_jobs=-1)]: Done 50400 out of 50400 | elapsed:  1.4min finished\n"
     ]
    },
    {
     "name": "stdout",
     "output_type": "stream",
     "text": [
      "Best parameter for RMSE (CV score=-10232.4837):\n",
      "{'criterion': 'mae', 'max_depth': 7, 'max_features': 0.25, 'max_leaf_nodes': 10, 'min_samples_leaf': 3, 'min_samples_split': 2}\n",
      "Scores: [ 73.06770072  99.91172574 131.64680913  81.28562567 109.10060117]\n",
      "Mean: 99.00249248796732\n",
      "Standard deviation: 20.76030205225094\n",
      "0\n",
      "100\n",
      "200\n",
      "300\n",
      "400\n",
      "500\n",
      "600\n",
      "700\n",
      "800\n",
      "900\n"
     ]
    },
    {
     "data": {
      "image/png": "[encoded data removed]",
      "text/plain": [
       "<Figure size 432x288 with 1 Axes>"
      ]
     },
     "metadata": {
      "needs_background": "light"
     },
     "output_type": "display_data"
    },
    {
     "name": "stdout",
     "output_type": "stream",
     "text": [
      "95.0% confidence interval from 109.3758 to 167.9931\n",
      "MAE  MfI1_beste\n",
      "Fitting 5 folds for each of 10080 candidates, totalling 50400 fits\n"
     ]
    },
    {
     "name": "stderr",
     "output_type": "stream",
     "text": [
      "[Parallel(n_jobs=-1)]: Using backend LokyBackend with 4 concurrent workers.\n",
      "[Parallel(n_jobs=-1)]: Done 1792 tasks      | elapsed:    3.6s\n",
      "[Parallel(n_jobs=-1)]: Done 10792 tasks      | elapsed:   18.5s\n",
      "[Parallel(n_jobs=-1)]: Done 25792 tasks      | elapsed:   43.9s\n",
      "[Parallel(n_jobs=-1)]: Done 46792 tasks      | elapsed:  1.3min\n",
      "[Parallel(n_jobs=-1)]: Done 50400 out of 50400 | elapsed:  1.4min finished\n"
     ]
    },
    {
     "name": "stdout",
     "output_type": "stream",
     "text": [
      "Best parameter for MAE (CV score=-67.1046):\n",
      "{'criterion': 'mae', 'max_depth': 7, 'max_features': 0.25, 'max_leaf_nodes': 10, 'min_samples_leaf': 3, 'min_samples_split': 2}\n",
      "Scores: [-46.11111111 -58.23529412 -97.35294118 -55.58823529 -78.23529412]\n",
      "Mean: -67.10457516339869\n",
      "Standard deviation: 18.389520461758863\n",
      "0\n",
      "100\n",
      "200\n",
      "300\n",
      "400\n",
      "500\n",
      "600\n",
      "700\n",
      "800\n",
      "900\n"
     ]
    },
    {
     "data": {
      "image/png": "[encoded data removed]",
      "text/plain": [
       "<Figure size 432x288 with 1 Axes>"
      ]
     },
     "metadata": {
      "needs_background": "light"
     },
     "output_type": "display_data"
    },
    {
     "name": "stdout",
     "output_type": "stream",
     "text": [
      "95.0% confidence interval from 78.4504 to 130.5360\n",
      "RMSE Trainingsdaten: [111.56654948143658, 110.89571813372663, 84.21663648273491, [0]]\n",
      "RMSE Testdaten: [120.81933524459696, 149.82594300431975, 111.90044917834686, [0]]\n",
      "MAE Trainingsdaten: [75.07222811528196, 93.61256544502618, 45.93023255813954, [0]]\n",
      "MAE Testdaten: [96.92088415260291, 105.90361445783132, 82.76315789473684, [0]]\n"
     ]
    }
   ],
   "source": [
    "for label in labels:  \n",
    "    print(\"=============\")\n",
    "    print(\"Scenario: \",scenario+1)\n",
    "    for method in methods_reg[label]:\n",
    "        print(\"Methode: \", method)\n",
    "        #Load data\n",
    "        data,X,y,train_X,test_X,train_y,test_y,names,feature_names,numcols,numrows = func.load_data_noten(label,others[other_count][0],others[other_count][1],others[other_count][2])\n",
    "        if method == \"RFE\":\n",
    "            #RMSE\n",
    "            estimator = RandomForestRegressor(n_estimators = 100, verbose=1, n_jobs=-1, random_state=42)\n",
    "            selector_rmse[label] = RFE(estimator, n_features_to_select= num_attributes_rmse[label], step=1, verbose=1)\n",
    "            selector_rmse[label] = selector_rmse[label].fit(train_X, train_y)\n",
    "            estimator = RandomForestRegressor(n_estimators = 100, verbose=1, n_jobs=-1, random_state=42)\n",
    "            #MAE\n",
    "            selector_mae[label] = RFE(estimator, n_features_to_select=num_attributes_mae[label], step=1, verbose=1)\n",
    "            selector_mae[label] = selector_mae[label].fit(train_X, train_y)\n",
    "\n",
    "            #Select attributes\n",
    "            #RMSE\n",
    "            supp_rmse = selector_rmse[label].get_support() \n",
    "            sel_feat_rmse = train_X.columns[(supp_rmse)]\n",
    "            sel_feat_rmse = sel_feat_rmse.tolist()\n",
    "            print(len(sel_feat_rmse))\n",
    "            print(sel_feat_rmse)\n",
    "            train_X_rmse = copy.deepcopy(train_X[sel_feat_rmse])\n",
    "            test_X_rmse = copy.deepcopy(test_X[sel_feat_rmse])\n",
    "            sel_feat_rmse.extend([\"%s\"%(label)])\n",
    "            data_rmse = copy.deepcopy(data[sel_feat_rmse])\n",
    "            \n",
    "            #MAE\n",
    "            supp_mae = selector_mae[label].get_support() \n",
    "            sel_feat_mae = train_X.columns[(supp_mae)]\n",
    "            sel_feat_mae = sel_feat_mae.tolist()\n",
    "            print(len(sel_feat_mae))\n",
    "            print(sel_feat_mae)\n",
    "            train_X_mae = copy.deepcopy(train_X[sel_feat_mae])\n",
    "            test_X_mae = copy.deepcopy(test_X[sel_feat_mae])\n",
    "            sel_feat_mae.extend([\"%s\"%(label)])\n",
    "            data_mae = copy.deepcopy(data[sel_feat_mae])\n",
    "        elif method == \"RFECV\":\n",
    "            #RMSE\n",
    "            estimator = RandomForestRegressor(n_estimators = 100, verbose=1, n_jobs=-1, random_state=42)\n",
    "            selector_rmse[label] = RFECV(estimator, step=1, cv=5,scoring='neg_mean_squared_error', verbose=1, n_jobs=-1)\n",
    "            selector_rmse[label] = selector_rmse[label].fit(train_X, train_y)\n",
    "\n",
    "            estimator = RandomForestRegressor(n_estimators = 100, verbose=1, n_jobs=-1, random_state=42)\n",
    "            selector_mae[label] = RFECV(estimator, step=1, cv=5,scoring='neg_mean_absolute_error', verbose=1, n_jobs=-1)\n",
    "            selector_mae[label] = selector_mae[label].fit(train_X, train_y)\n",
    "\n",
    "            #Select attributes\n",
    "            #RMSE\n",
    "            supp_rmse = selector_rmse[label].get_support() \n",
    "            sel_feat_rmse = train_X.columns[(supp_rmse)]\n",
    "            sel_feat_rmse = sel_feat_rmse.tolist()\n",
    "            print(len(sel_feat_rmse))\n",
    "            print(sel_feat_rmse)\n",
    "            print(\"bester CV-Score\",sqrt(-1*np.max(selector_rmse[label].grid_scores_)))\n",
    "            train_X_rmse = copy.deepcopy(train_X[sel_feat_rmse])\n",
    "            test_X_rmse = copy.deepcopy(test_X[sel_feat_rmse])\n",
    "            sel_feat_rmse.extend([\"%s\"%(label)])\n",
    "            data_rmse = copy.deepcopy(data[sel_feat_rmse])        \n",
    "            #MAE\n",
    "            supp_mae = selector_mae[label].get_support() \n",
    "            sel_feat_mae = train_X.columns[(supp_mae)]\n",
    "            sel_feat_mae = sel_feat_mae.tolist()\n",
    "            print(len(sel_feat_mae))\n",
    "            print(sel_feat_mae)\n",
    "            print(\"bester CV-Score\",np.max(selector_mae[label].grid_scores_))\n",
    "            train_X_mae = copy.deepcopy(train_X[sel_feat_mae])\n",
    "            test_X_mae = copy.deepcopy(test_X[sel_feat_mae])\n",
    "            sel_feat_mae.extend([\"%s\"%(label)])\n",
    "            data_mae = copy.deepcopy(data[sel_feat_mae])\n",
    "        elif method == \"Basis\":\n",
    "            #RMSE\n",
    "            train_X_rmse = copy.deepcopy(train_X)\n",
    "            test_X_rmse = copy.deepcopy(test_X)\n",
    "            data_rmse = copy.deepcopy(data)\n",
    "            #MAE\n",
    "            train_X_mae = copy.deepcopy(train_X)\n",
    "            test_X_mae = copy.deepcopy(test_X)\n",
    "            data_mae = copy.deepcopy(data)   \n",
    "        elif method == \"Korrelation\":\n",
    "            #RMSE\n",
    "            train_X_rmse = copy.deepcopy(train_X[columns_reg[label]])\n",
    "            test_X_rmse = copy.deepcopy(test_X[columns_reg[label]])\n",
    "            \n",
    "            #MAE\n",
    "            train_X_mae = copy.deepcopy(train_X[columns_reg[label]])\n",
    "            test_X_mae = copy.deepcopy(test_X[columns_reg[label]])\n",
    "            \n",
    "            columns_reg[label].extend([\"%s\"%(label)])\n",
    "            data_rmse = copy.deepcopy(data[columns_reg[label]])  \n",
    "            data_mae = copy.deepcopy(data[columns_reg[label]])\n",
    "        \n",
    "        #Convert data\n",
    "        data_raw = data.to_numpy()\n",
    "        data_rmse_raw = data_rmse.to_numpy()    \n",
    "        data_mae_raw = data_mae.to_numpy()\n",
    "    \n",
    "        #Grid Search on train data\n",
    "        #RMSE\n",
    "        print(\"RMSE \",label)\n",
    "        grid = GridSearchCV(dt_reg, param_grid, n_jobs=-1,iid=False, cv=5,verbose=1, scoring='neg_mean_squared_error')\n",
    "        grid.fit(train_X_rmse, train_y)\n",
    "        print(\"Best parameter for RMSE (CV score=%0.4f):\" % (grid.best_score_))\n",
    "        print(grid.best_params_)\n",
    "        best_dt_rmse = grid.best_estimator_\n",
    "        func.cross_val(best_dt_rmse, train_X_rmse, train_y, scoring=\"neg_mean_squared_error\")\n",
    "        #Bootstrap confidence intervals\n",
    "        func.bootstrap_score(data_rmse_raw, best_dt_rmse,\"mean_squared_error\")\n",
    "\n",
    "        #MAE\n",
    "        print(\"MAE \",label)\n",
    "        grid = GridSearchCV(dt_reg, param_grid, n_jobs=-1,iid=False, cv=5,verbose=1, scoring='neg_mean_absolute_error')\n",
    "        grid.fit(train_X_mae, train_y)\n",
    "        print(\"Best parameter for MAE (CV score=%0.4f):\" % (grid.best_score_))\n",
    "        print(grid.best_params_)\n",
    "        best_dt_mae = grid.best_estimator_\n",
    "        func.cross_val(best_dt_mae, train_X_mae, train_y, scoring=\"neg_mean_absolute_error\")\n",
    "\n",
    "        #Bootstrap confidence intervals\n",
    "        func.bootstrap_score(data_mae_raw, best_dt_mae,\"mean_absolute_error\")\n",
    "\n",
    "        #Fit and store predictions\n",
    "        best_dt_rmse.fit(train_X_rmse, train_y)\n",
    "        predictions_rmse_train[scenario] = best_dt_rmse.predict(train_X_rmse)\n",
    "        predictions_rmse_test[scenario] = best_dt_rmse.predict(test_X_rmse)\n",
    "        create_tree_png(best_dt_rmse,label,train_X_rmse.columns, \"rmse\")\n",
    "\n",
    "        best_dt_mae.fit(train_X_mae, train_y)\n",
    "        predictions_mae_train[scenario] = best_dt_mae.predict(train_X_mae)\n",
    "        predictions_mae_test[scenario] = best_dt_mae.predict(test_X_mae)\n",
    "        create_tree_png(best_dt_mae,label,train_X_mae.columns, \"mae\")\n",
    "\n",
    "        #Calculate performance\n",
    "        rmse_reg_train[scenario] = sqrt(mean_squared_error(train_y,predictions_rmse_train[scenario]))\n",
    "        rmse_reg_test[scenario] = sqrt(mean_squared_error(test_y,predictions_rmse_test[scenario]))\n",
    "\n",
    "        mae_reg_train[scenario] = mean_absolute_error(train_y,predictions_mae_train[scenario])\n",
    "        mae_reg_test[scenario] = mean_absolute_error(test_y,predictions_mae_test[scenario])\n",
    "        scenario += 1\n",
    "        other_count += 1\n",
    "\n",
    "\n",
    "\n",
    "print(\"RMSE Trainingsdaten:\", rmse_reg_train)\n",
    "print(\"RMSE Testdaten:\",rmse_reg_test)\n",
    "print(\"MAE Trainingsdaten:\",mae_reg_train)\n",
    "print(\"MAE Testdaten:\",mae_reg_test)\n",
    "\n",
    "\n",
    "\n"
   ]
  },
  {
   "cell_type": "code",
   "execution_count": 5,
   "metadata": {},
   "outputs": [
    {
     "name": "stdout",
     "output_type": "stream",
     "text": [
      "==============\n",
      "Scenario:  1\n",
      "==============\n",
      "Scenario:  1\n",
      "Methode:  Korrelation\n",
      "ACC  Prog1_beste\n",
      "Fitting 5 folds for each of 10080 candidates, totalling 50400 fits\n"
     ]
    },
    {
     "name": "stderr",
     "output_type": "stream",
     "text": [
      "[Parallel(n_jobs=-1)]: Using backend LokyBackend with 4 concurrent workers.\n",
      "[Parallel(n_jobs=-1)]: Done 164 tasks      | elapsed:    2.4s\n",
      "[Parallel(n_jobs=-1)]: Done 7604 tasks      | elapsed:   16.3s\n",
      "[Parallel(n_jobs=-1)]: Done 20104 tasks      | elapsed:   38.3s\n",
      "[Parallel(n_jobs=-1)]: Done 37604 tasks      | elapsed:  1.2min\n",
      "[Parallel(n_jobs=-1)]: Done 50400 out of 50400 | elapsed:  1.5min finished\n"
     ]
    },
    {
     "name": "stdout",
     "output_type": "stream",
     "text": [
      "Best parameter for ACC (CV score=0.3616):\n",
      "{'criterion': 'entropy', 'max_depth': 4, 'max_features': 0.5, 'max_leaf_nodes': 5, 'min_samples_leaf': 10, 'min_samples_split': 30}\n",
      "Scores: [0.35714286 0.30952381 0.38461538 0.44444444 0.3125    ]\n",
      "Mean: 0.36164529914529914\n",
      "Standard deviation: 0.0500709604086068\n",
      "0\n",
      "100\n",
      "200\n",
      "300\n",
      "400\n",
      "500\n",
      "600\n",
      "700\n",
      "800\n",
      "900\n"
     ]
    },
    {
     "data": {
      "image/png": "[encoded data removed]",
      "text/plain": [
       "<Figure size 432x288 with 1 Axes>"
      ]
     },
     "metadata": {
      "needs_background": "light"
     },
     "output_type": "display_data"
    },
    {
     "name": "stdout",
     "output_type": "stream",
     "text": [
      "95.0% confidence interval from 20.00% to 37.50%\n",
      "==============\n",
      "Scenario:  2\n",
      "Methode:  Korrelation\n",
      "ACC  MfI1_beste\n",
      "Fitting 5 folds for each of 10080 candidates, totalling 50400 fits\n"
     ]
    },
    {
     "name": "stderr",
     "output_type": "stream",
     "text": [
      "/home/franz/miniconda3/envs/mainenv/lib/python3.7/site-packages/sklearn/model_selection/_split.py:657: Warning: The least populated class in y has only 1 members, which is too few. The minimum number of members in any class cannot be less than n_splits=5.\n",
      "  % (min_groups, self.n_splits)), Warning)\n",
      "[Parallel(n_jobs=-1)]: Using backend LokyBackend with 4 concurrent workers.\n",
      "[Parallel(n_jobs=-1)]: Done 892 tasks      | elapsed:    1.7s\n",
      "[Parallel(n_jobs=-1)]: Done 4792 tasks      | elapsed:    9.0s\n",
      "[Parallel(n_jobs=-1)]: Done 11292 tasks      | elapsed:   24.5s\n",
      "[Parallel(n_jobs=-1)]: Done 20392 tasks      | elapsed:   43.3s\n",
      "[Parallel(n_jobs=-1)]: Done 32092 tasks      | elapsed:  1.1min\n",
      "[Parallel(n_jobs=-1)]: Done 46392 tasks      | elapsed:  1.5min\n",
      "[Parallel(n_jobs=-1)]: Done 50400 out of 50400 | elapsed:  1.6min finished\n",
      "/home/franz/miniconda3/envs/mainenv/lib/python3.7/site-packages/sklearn/model_selection/_split.py:657: Warning: The least populated class in y has only 1 members, which is too few. The minimum number of members in any class cannot be less than n_splits=5.\n",
      "  % (min_groups, self.n_splits)), Warning)\n"
     ]
    },
    {
     "name": "stdout",
     "output_type": "stream",
     "text": [
      "Best parameter for ACC (CV score=0.4429):\n",
      "{'criterion': 'entropy', 'max_depth': 3, 'max_features': 0.25, 'max_leaf_nodes': 5, 'min_samples_leaf': 5, 'min_samples_split': 2}\n",
      "Scores: [0.38095238 0.35       0.41176471 0.53333333 0.53846154]\n",
      "Mean: 0.44290239172592105\n",
      "Standard deviation: 0.07841877253282332\n",
      "0\n",
      "100\n",
      "200\n",
      "300\n",
      "400\n",
      "500\n",
      "600\n",
      "700\n",
      "800\n",
      "900\n"
     ]
    },
    {
     "data": {
      "image/png": "[encoded data removed]",
      "text/plain": [
       "<Figure size 432x288 with 1 Axes>"
      ]
     },
     "metadata": {
      "needs_background": "light"
     },
     "output_type": "display_data"
    },
    {
     "name": "stdout",
     "output_type": "stream",
     "text": [
      "95.0% confidence interval from 19.64% to 46.04%\n",
      "================\n",
      "Scenario:  3\n",
      "Methode:  Basis\n",
      "ACC  Prog1_beste\n",
      "Fitting 5 folds for each of 10080 candidates, totalling 50400 fits\n"
     ]
    },
    {
     "name": "stderr",
     "output_type": "stream",
     "text": [
      "[Parallel(n_jobs=-1)]: Using backend LokyBackend with 4 concurrent workers.\n",
      "[Parallel(n_jobs=-1)]: Done 1604 tasks      | elapsed:    3.6s\n",
      "[Parallel(n_jobs=-1)]: Done 9704 tasks      | elapsed:   20.3s\n",
      "[Parallel(n_jobs=-1)]: Done 23204 tasks      | elapsed:   48.4s\n",
      "[Parallel(n_jobs=-1)]: Done 42104 tasks      | elapsed:  1.5min\n",
      "[Parallel(n_jobs=-1)]: Done 50400 out of 50400 | elapsed:  1.8min finished\n"
     ]
    },
    {
     "name": "stdout",
     "output_type": "stream",
     "text": [
      "Best parameter for ACC (CV score=0.7024):\n",
      "{'criterion': 'entropy', 'max_depth': 3, 'max_features': 0.75, 'max_leaf_nodes': 5, 'min_samples_leaf': 20, 'min_samples_split': 2}\n",
      "Scores: [0.74358974 0.64102564 0.68421053 0.60526316 0.83783784]\n",
      "Mean: 0.7023853813327496\n",
      "Standard deviation: 0.08194295187904205\n",
      "0\n",
      "100\n",
      "200\n",
      "300\n",
      "400\n",
      "500\n",
      "600\n",
      "700\n",
      "800\n",
      "900\n"
     ]
    },
    {
     "data": {
      "image/png": "[encoded data removed]",
      "text/plain": [
       "<Figure size 432x288 with 1 Axes>"
      ]
     },
     "metadata": {
      "needs_background": "light"
     },
     "output_type": "display_data"
    },
    {
     "name": "stdout",
     "output_type": "stream",
     "text": [
      "95.0% confidence interval from 55.83% to 75.20%\n",
      "F1  Prog1_beste\n",
      "Fitting 5 folds for each of 10080 candidates, totalling 50400 fits\n"
     ]
    },
    {
     "name": "stderr",
     "output_type": "stream",
     "text": [
      "[Parallel(n_jobs=-1)]: Using backend LokyBackend with 4 concurrent workers.\n",
      "[Parallel(n_jobs=-1)]: Done 892 tasks      | elapsed:    3.1s\n",
      "[Parallel(n_jobs=-1)]: Done 4792 tasks      | elapsed:   15.8s\n",
      "[Parallel(n_jobs=-1)]: Done 11292 tasks      | elapsed:   31.5s\n",
      "[Parallel(n_jobs=-1)]: Done 20392 tasks      | elapsed:   53.6s\n",
      "[Parallel(n_jobs=-1)]: Done 32092 tasks      | elapsed:  1.4min\n",
      "[Parallel(n_jobs=-1)]: Done 46392 tasks      | elapsed:  1.9min\n",
      "[Parallel(n_jobs=-1)]: Done 50400 out of 50400 | elapsed:  2.1min finished\n"
     ]
    },
    {
     "name": "stdout",
     "output_type": "stream",
     "text": [
      "Best parameter for F1 (CV score=0.4285):\n",
      "{'criterion': 'entropy', 'max_depth': 4, 'max_features': 0.75, 'max_leaf_nodes': 10, 'min_samples_leaf': 20, 'min_samples_split': 2}\n",
      "Scores: [0.56       0.5        0.33333333 0.11764706 0.63157895]\n",
      "Mean: 0.42851186790505674\n",
      "Standard deviation: 0.1840281519999246\n",
      "0\n",
      "100\n"
     ]
    },
    {
     "name": "stderr",
     "output_type": "stream",
     "text": [
      "/home/franz/miniconda3/envs/mainenv/lib/python3.7/site-packages/sklearn/metrics/classification.py:1437: UndefinedMetricWarning: F-score is ill-defined and being set to 0.0 due to no predicted samples.\n",
      "  'precision', 'predicted', average, warn_for)\n"
     ]
    },
    {
     "name": "stdout",
     "output_type": "stream",
     "text": [
      "200\n",
      "300\n"
     ]
    },
    {
     "name": "stderr",
     "output_type": "stream",
     "text": [
      "/home/franz/miniconda3/envs/mainenv/lib/python3.7/site-packages/sklearn/metrics/classification.py:1437: UndefinedMetricWarning: F-score is ill-defined and being set to 0.0 due to no predicted samples.\n",
      "  'precision', 'predicted', average, warn_for)\n"
     ]
    },
    {
     "name": "stdout",
     "output_type": "stream",
     "text": [
      "400\n",
      "500\n"
     ]
    },
    {
     "name": "stderr",
     "output_type": "stream",
     "text": [
      "/home/franz/miniconda3/envs/mainenv/lib/python3.7/site-packages/sklearn/metrics/classification.py:1437: UndefinedMetricWarning: F-score is ill-defined and being set to 0.0 due to no predicted samples.\n",
      "  'precision', 'predicted', average, warn_for)\n"
     ]
    },
    {
     "name": "stdout",
     "output_type": "stream",
     "text": [
      "600\n",
      "700\n",
      "800\n",
      "900\n"
     ]
    },
    {
     "data": {
      "image/png": "[encoded data removed]",
      "text/plain": [
       "<Figure size 432x288 with 1 Axes>"
      ]
     },
     "metadata": {
      "needs_background": "light"
     },
     "output_type": "display_data"
    },
    {
     "name": "stdout",
     "output_type": "stream",
     "text": [
      "95.0% confidence interval from 8.00% to 44.95%\n",
      "AUC  Prog1_beste\n",
      "Fitting 5 folds for each of 10080 candidates, totalling 50400 fits\n"
     ]
    },
    {
     "name": "stderr",
     "output_type": "stream",
     "text": [
      "[Parallel(n_jobs=-1)]: Using backend LokyBackend with 4 concurrent workers.\n",
      "[Parallel(n_jobs=-1)]: Done 892 tasks      | elapsed:    2.1s\n",
      "[Parallel(n_jobs=-1)]: Done 4792 tasks      | elapsed:   11.7s\n",
      "[Parallel(n_jobs=-1)]: Done 11292 tasks      | elapsed:   35.1s\n",
      "[Parallel(n_jobs=-1)]: Done 20392 tasks      | elapsed:  1.1min\n",
      "[Parallel(n_jobs=-1)]: Done 32092 tasks      | elapsed:  1.6min\n",
      "[Parallel(n_jobs=-1)]: Done 46392 tasks      | elapsed:  2.2min\n",
      "[Parallel(n_jobs=-1)]: Done 50400 out of 50400 | elapsed:  2.4min finished\n"
     ]
    },
    {
     "name": "stdout",
     "output_type": "stream",
     "text": [
      "Best parameter for AUC (CV score=0.6707):\n",
      "{'criterion': 'entropy', 'max_depth': 5, 'max_features': 0.75, 'max_leaf_nodes': 10, 'min_samples_leaf': 10, 'min_samples_split': 40}\n",
      "Scores: [0.73863636 0.64285714 0.63804714 0.52861953 0.80555556]\n",
      "Mean: 0.6707431457431458\n",
      "Standard deviation: 0.09468860068227977\n",
      "0\n",
      "100\n",
      "200\n",
      "300\n",
      "400\n",
      "500\n",
      "600\n",
      "700\n",
      "800\n",
      "900\n"
     ]
    },
    {
     "data": {
      "image/png": "[encoded data removed]",
      "text/plain": [
       "<Figure size 432x288 with 1 Axes>"
      ]
     },
     "metadata": {
      "needs_background": "light"
     },
     "output_type": "display_data"
    },
    {
     "name": "stdout",
     "output_type": "stream",
     "text": [
      "95.0% confidence interval from 0.4492 to 0.6350\n",
      "================\n",
      "Scenario:  4\n",
      "Methode:  Korrelation\n",
      "ACC  MfI1_beste\n",
      "Fitting 5 folds for each of 10080 candidates, totalling 50400 fits\n"
     ]
    },
    {
     "name": "stderr",
     "output_type": "stream",
     "text": [
      "[Parallel(n_jobs=-1)]: Using backend LokyBackend with 4 concurrent workers.\n",
      "[Parallel(n_jobs=-1)]: Done 1096 tasks      | elapsed:    2.0s\n",
      "[Parallel(n_jobs=-1)]: Done 5896 tasks      | elapsed:   10.8s\n",
      "[Parallel(n_jobs=-1)]: Done 13896 tasks      | elapsed:   24.9s\n",
      "[Parallel(n_jobs=-1)]: Done 25096 tasks      | elapsed:   44.5s\n",
      "[Parallel(n_jobs=-1)]: Done 39496 tasks      | elapsed:  1.2min\n",
      "[Parallel(n_jobs=-1)]: Done 50400 out of 50400 | elapsed:  1.7min finished\n"
     ]
    },
    {
     "name": "stdout",
     "output_type": "stream",
     "text": [
      "Best parameter for ACC (CV score=0.7340):\n",
      "{'criterion': 'gini', 'max_depth': 3, 'max_features': 0.75, 'max_leaf_nodes': 5, 'min_samples_leaf': 1, 'min_samples_split': 30}\n",
      "Scores: [0.61111111 0.82352941 0.64705882 0.70588235 0.88235294]\n",
      "Mean: 0.7339869281045752\n",
      "Standard deviation: 0.10341678696114237\n",
      "0\n",
      "100\n",
      "200\n",
      "300\n",
      "400\n",
      "500\n",
      "600\n",
      "700\n",
      "800\n",
      "900\n"
     ]
    },
    {
     "data": {
      "image/png": "[encoded data removed]",
      "text/plain": [
       "<Figure size 432x288 with 1 Axes>"
      ]
     },
     "metadata": {
      "needs_background": "light"
     },
     "output_type": "display_data"
    },
    {
     "name": "stdout",
     "output_type": "stream",
     "text": [
      "95.0% confidence interval from 50.82% to 74.58%\n",
      "['Abinote', 'SKMat_1', 'SKMat_2', 'SKMat_3', 'SKMat_4', 'mean_SKMat', 'SKInf_1', 'mean_SKInf', 'BFI_K_11', 'BM_Inf_18']\n",
      "F1  MfI1_beste\n",
      "Fitting 5 folds for each of 10080 candidates, totalling 50400 fits\n"
     ]
    },
    {
     "name": "stderr",
     "output_type": "stream",
     "text": [
      "[Parallel(n_jobs=-1)]: Using backend LokyBackend with 4 concurrent workers.\n",
      "[Parallel(n_jobs=-1)]: Done 824 tasks      | elapsed:    2.7s\n",
      "[Parallel(n_jobs=-1)]: Done 4424 tasks      | elapsed:   15.8s\n",
      "[Parallel(n_jobs=-1)]: Done 10424 tasks      | elapsed:   31.1s\n",
      "[Parallel(n_jobs=-1)]: Done 18824 tasks      | elapsed:   49.4s\n",
      "[Parallel(n_jobs=-1)]: Done 29624 tasks      | elapsed:  1.2min\n",
      "[Parallel(n_jobs=-1)]: Done 42824 tasks      | elapsed:  1.7min\n",
      "[Parallel(n_jobs=-1)]: Done 50400 out of 50400 | elapsed:  2.0min finished\n"
     ]
    },
    {
     "name": "stdout",
     "output_type": "stream",
     "text": [
      "Best parameter for F1 (CV score=0.6862):\n",
      "{'criterion': 'gini', 'max_depth': 3, 'max_features': 0.75, 'max_leaf_nodes': 5, 'min_samples_leaf': 1, 'min_samples_split': 30}\n",
      "Scores: [0.53333333 0.8        0.625      0.61538462 0.85714286]\n",
      "Mean: 0.6861721611721612\n",
      "Standard deviation: 0.12190190565299969\n",
      "0\n",
      "100\n",
      "200\n",
      "300\n",
      "400\n",
      "500\n",
      "600\n",
      "700\n",
      "800\n",
      "900\n"
     ]
    },
    {
     "data": {
      "image/png": "[encoded data removed]",
      "text/plain": [
       "<Figure size 432x288 with 1 Axes>"
      ]
     },
     "metadata": {
      "needs_background": "light"
     },
     "output_type": "display_data"
    },
    {
     "name": "stdout",
     "output_type": "stream",
     "text": [
      "95.0% confidence interval from 26.32% to 69.23%\n",
      "AUC  MfI1_beste\n",
      "Fitting 5 folds for each of 10080 candidates, totalling 50400 fits\n"
     ]
    },
    {
     "name": "stderr",
     "output_type": "stream",
     "text": [
      "[Parallel(n_jobs=-1)]: Using backend LokyBackend with 4 concurrent workers.\n",
      "[Parallel(n_jobs=-1)]: Done 1312 tasks      | elapsed:    3.1s\n",
      "[Parallel(n_jobs=-1)]: Done 7912 tasks      | elapsed:   17.1s\n",
      "[Parallel(n_jobs=-1)]: Done 18912 tasks      | elapsed:   40.9s\n",
      "[Parallel(n_jobs=-1)]: Done 34312 tasks      | elapsed:  1.2min\n",
      "[Parallel(n_jobs=-1)]: Done 50400 out of 50400 | elapsed:  1.8min finished\n"
     ]
    },
    {
     "name": "stdout",
     "output_type": "stream",
     "text": [
      "Best parameter for AUC (CV score=0.7649):\n",
      "{'criterion': 'gini', 'max_depth': 3, 'max_features': 0.75, 'max_leaf_nodes': 10, 'min_samples_leaf': 3, 'min_samples_split': 2}\n",
      "Scores: [0.75324675 0.86428571 0.53571429 0.72857143 0.94285714]\n",
      "Mean: 0.764935064935065\n",
      "Standard deviation: 0.13822294573969748\n",
      "0\n",
      "100\n",
      "200\n",
      "300\n",
      "400\n",
      "500\n",
      "600\n",
      "700\n",
      "800\n",
      "900\n"
     ]
    },
    {
     "data": {
      "image/png": "[encoded data removed]",
      "text/plain": [
       "<Figure size 432x288 with 1 Axes>"
      ]
     },
     "metadata": {
      "needs_background": "light"
     },
     "output_type": "display_data"
    },
    {
     "name": "stdout",
     "output_type": "stream",
     "text": [
      "95.0% confidence interval from 0.4882 to 0.7325\n",
      "================\n",
      "Scenario:  5\n",
      "Methode:  RFECV\n",
      "Fitting estimator with 84 features.\n"
     ]
    },
    {
     "name": "stderr",
     "output_type": "stream",
     "text": [
      "[Parallel(n_jobs=-1)]: Using backend ThreadingBackend with 4 concurrent workers.\n",
      "[Parallel(n_jobs=-1)]: Done  42 tasks      | elapsed:    0.1s\n",
      "[Parallel(n_jobs=-1)]: Done 100 out of 100 | elapsed:    0.1s finished\n"
     ]
    },
    {
     "name": "stdout",
     "output_type": "stream",
     "text": [
      "Fitting estimator with 83 features.\n"
     ]
    },
    {
     "name": "stderr",
     "output_type": "stream",
     "text": [
      "[Parallel(n_jobs=-1)]: Using backend ThreadingBackend with 4 concurrent workers.\n",
      "[Parallel(n_jobs=-1)]: Done  42 tasks      | elapsed:    0.1s\n",
      "[Parallel(n_jobs=-1)]: Done 100 out of 100 | elapsed:    0.2s finished\n"
     ]
    },
    {
     "name": "stdout",
     "output_type": "stream",
     "text": [
      "Fitting estimator with 82 features.\n"
     ]
    },
    {
     "name": "stderr",
     "output_type": "stream",
     "text": [
      "[Parallel(n_jobs=-1)]: Using backend ThreadingBackend with 4 concurrent workers.\n",
      "[Parallel(n_jobs=-1)]: Done  42 tasks      | elapsed:    0.1s\n",
      "[Parallel(n_jobs=-1)]: Done 100 out of 100 | elapsed:    0.1s finished\n"
     ]
    },
    {
     "name": "stdout",
     "output_type": "stream",
     "text": [
      "Fitting estimator with 81 features.\n"
     ]
    },
    {
     "name": "stderr",
     "output_type": "stream",
     "text": [
      "[Parallel(n_jobs=-1)]: Using backend ThreadingBackend with 4 concurrent workers.\n",
      "[Parallel(n_jobs=-1)]: Done  42 tasks      | elapsed:    0.1s\n",
      "[Parallel(n_jobs=-1)]: Done 100 out of 100 | elapsed:    0.1s finished\n"
     ]
    },
    {
     "name": "stdout",
     "output_type": "stream",
     "text": [
      "Fitting estimator with 80 features.\n"
     ]
    },
    {
     "name": "stderr",
     "output_type": "stream",
     "text": [
      "[Parallel(n_jobs=-1)]: Using backend ThreadingBackend with 4 concurrent workers.\n",
      "[Parallel(n_jobs=-1)]: Done  42 tasks      | elapsed:    0.1s\n",
      "[Parallel(n_jobs=-1)]: Done 100 out of 100 | elapsed:    0.1s finished\n",
      "[Parallel(n_jobs=-1)]: Using backend ThreadingBackend with 4 concurrent workers.\n",
      "[Parallel(n_jobs=-1)]: Done  42 tasks      | elapsed:    0.1s\n",
      "[Parallel(n_jobs=-1)]: Done 100 out of 100 | elapsed:    0.1s finished\n",
      "[Parallel(n_jobs=-1)]: Using backend ThreadingBackend with 4 concurrent workers.\n",
      "[Parallel(n_jobs=-1)]: Done  42 tasks      | elapsed:    0.1s\n",
      "[Parallel(n_jobs=-1)]: Done 100 out of 100 | elapsed:    0.1s finished\n"
     ]
    },
    {
     "name": "stdout",
     "output_type": "stream",
     "text": [
      "79\n",
      "['AbiBL', 'Abinote', 'BFI_K_1', 'BFI_K_11', 'BFI_K_12', 'BFI_K_13', 'BFI_K_14', 'BFI_K_16', 'BFI_K_17', 'BFI_K_18', 'BFI_K_19', 'BFI_K_2', 'BFI_K_3', 'BFI_K_4', 'BFI_K_6', 'BFI_K_7', 'BFI_K_8', 'BFI_K_9', 'BM_Inf_1', 'BM_Inf_10', 'BM_Inf_14', 'BM_Inf_15', 'BM_Inf_17', 'BM_Inf_18', 'BM_Inf_2', 'BM_Inf_3', 'BM_Inf_4', 'BM_Inf_6', 'BM_Inf_8', 'BM_Inf_9', 'Ktyp_exp', 'Ktyp_psych', 'Kurs_Inf', 'LK_Phy', 'LMI_1', 'LMI_10', 'LMI_11', 'LMI_12', 'LMI_13', 'LMI_14', 'LMI_15', 'LMI_16', 'LMI_17', 'LMI_18', 'LMI_19', 'LMI_2', 'LMI_20', 'LMI_21', 'LMI_22', 'LMI_23', 'LMI_24', 'LMI_25', 'LMI_26', 'LMI_27', 'LMI_28', 'LMI_29', 'LMI_3', 'LMI_30', 'LMI_4', 'LMI_5', 'LMI_6', 'LMI_7', 'LMI_8', 'LMI_9', 'SKInf_1', 'SKInf_2', 'SKInf_3', 'SKInf_4', 'SKMat_1', 'SKMat_2', 'SKMat_3', 'SKMat_4', 'mean_BFI_K_E', 'mean_BFI_K_G', 'mean_BFI_K_N', 'mean_BFI_K_V', 'mean_LMI', 'mean_SKInf', 'mean_SKMat']\n",
      "ACC  beste\n",
      "Fitting 5 folds for each of 10080 candidates, totalling 50400 fits\n"
     ]
    },
    {
     "name": "stderr",
     "output_type": "stream",
     "text": [
      "[Parallel(n_jobs=-1)]: Using backend LokyBackend with 4 concurrent workers.\n",
      "[Parallel(n_jobs=-1)]: Done 1300 tasks      | elapsed:    2.7s\n",
      "[Parallel(n_jobs=-1)]: Done 7000 tasks      | elapsed:   14.3s\n",
      "[Parallel(n_jobs=-1)]: Done 16500 tasks      | elapsed:   33.7s\n",
      "[Parallel(n_jobs=-1)]: Done 29800 tasks      | elapsed:  1.0min\n",
      "[Parallel(n_jobs=-1)]: Done 46900 tasks      | elapsed:  1.6min\n",
      "[Parallel(n_jobs=-1)]: Done 50400 out of 50400 | elapsed:  1.7min finished\n"
     ]
    },
    {
     "name": "stdout",
     "output_type": "stream",
     "text": [
      "Best parameter for ACC (CV score=0.7568):\n",
      "{'criterion': 'entropy', 'max_depth': 7, 'max_features': 1.0, 'max_leaf_nodes': 20, 'min_samples_leaf': 1, 'min_samples_split': 5}\n",
      "Scores: [0.76923077 0.71794872 0.71794872 0.76315789 0.81578947]\n",
      "Mean: 0.7568151147098516\n",
      "Standard deviation: 0.036588380522996206\n",
      "0\n",
      "100\n",
      "200\n",
      "300\n",
      "400\n",
      "500\n",
      "600\n",
      "700\n",
      "800\n",
      "900\n"
     ]
    },
    {
     "data": {
      "image/png": "[encoded data removed]",
      "text/plain": [
       "<Figure size 432x288 with 1 Axes>"
      ]
     },
     "metadata": {
      "needs_background": "light"
     },
     "output_type": "display_data"
    },
    {
     "name": "stdout",
     "output_type": "stream",
     "text": [
      "95.0% confidence interval from 53.73% to 70.90%\n",
      "Fitting estimator with 84 features.\n"
     ]
    },
    {
     "name": "stderr",
     "output_type": "stream",
     "text": [
      "[Parallel(n_jobs=-1)]: Using backend ThreadingBackend with 4 concurrent workers.\n",
      "[Parallel(n_jobs=-1)]: Done  42 tasks      | elapsed:    0.1s\n",
      "[Parallel(n_jobs=-1)]: Done 100 out of 100 | elapsed:    0.1s finished\n"
     ]
    },
    {
     "name": "stdout",
     "output_type": "stream",
     "text": [
      "Fitting estimator with 83 features.\n"
     ]
    },
    {
     "name": "stderr",
     "output_type": "stream",
     "text": [
      "[Parallel(n_jobs=-1)]: Using backend ThreadingBackend with 4 concurrent workers.\n",
      "[Parallel(n_jobs=-1)]: Done  42 tasks      | elapsed:    0.1s\n",
      "[Parallel(n_jobs=-1)]: Done 100 out of 100 | elapsed:    0.1s finished\n"
     ]
    },
    {
     "name": "stdout",
     "output_type": "stream",
     "text": [
      "Fitting estimator with 82 features.\n"
     ]
    },
    {
     "name": "stderr",
     "output_type": "stream",
     "text": [
      "[Parallel(n_jobs=-1)]: Using backend ThreadingBackend with 4 concurrent workers.\n",
      "[Parallel(n_jobs=-1)]: Done  42 tasks      | elapsed:    0.1s\n",
      "[Parallel(n_jobs=-1)]: Done 100 out of 100 | elapsed:    0.1s finished\n"
     ]
    },
    {
     "name": "stdout",
     "output_type": "stream",
     "text": [
      "Fitting estimator with 81 features.\n"
     ]
    },
    {
     "name": "stderr",
     "output_type": "stream",
     "text": [
      "[Parallel(n_jobs=-1)]: Using backend ThreadingBackend with 4 concurrent workers.\n",
      "[Parallel(n_jobs=-1)]: Done  42 tasks      | elapsed:    0.1s\n",
      "[Parallel(n_jobs=-1)]: Done 100 out of 100 | elapsed:    0.1s finished\n"
     ]
    },
    {
     "name": "stdout",
     "output_type": "stream",
     "text": [
      "Fitting estimator with 80 features.\n"
     ]
    },
    {
     "name": "stderr",
     "output_type": "stream",
     "text": [
      "[Parallel(n_jobs=-1)]: Using backend ThreadingBackend with 4 concurrent workers.\n",
      "[Parallel(n_jobs=-1)]: Done  42 tasks      | elapsed:    0.1s\n",
      "[Parallel(n_jobs=-1)]: Done 100 out of 100 | elapsed:    0.1s finished\n"
     ]
    },
    {
     "name": "stdout",
     "output_type": "stream",
     "text": [
      "Fitting estimator with 79 features.\n"
     ]
    },
    {
     "name": "stderr",
     "output_type": "stream",
     "text": [
      "[Parallel(n_jobs=-1)]: Using backend ThreadingBackend with 4 concurrent workers.\n",
      "[Parallel(n_jobs=-1)]: Done  42 tasks      | elapsed:    0.1s\n",
      "[Parallel(n_jobs=-1)]: Done 100 out of 100 | elapsed:    0.2s finished\n"
     ]
    },
    {
     "name": "stdout",
     "output_type": "stream",
     "text": [
      "Fitting estimator with 78 features.\n"
     ]
    },
    {
     "name": "stderr",
     "output_type": "stream",
     "text": [
      "[Parallel(n_jobs=-1)]: Using backend ThreadingBackend with 4 concurrent workers.\n",
      "[Parallel(n_jobs=-1)]: Done  42 tasks      | elapsed:    0.1s\n",
      "[Parallel(n_jobs=-1)]: Done 100 out of 100 | elapsed:    0.1s finished\n"
     ]
    },
    {
     "name": "stdout",
     "output_type": "stream",
     "text": [
      "Fitting estimator with 77 features.\n"
     ]
    },
    {
     "name": "stderr",
     "output_type": "stream",
     "text": [
      "[Parallel(n_jobs=-1)]: Using backend ThreadingBackend with 4 concurrent workers.\n",
      "[Parallel(n_jobs=-1)]: Done  42 tasks      | elapsed:    0.1s\n",
      "[Parallel(n_jobs=-1)]: Done 100 out of 100 | elapsed:    0.1s finished\n"
     ]
    },
    {
     "name": "stdout",
     "output_type": "stream",
     "text": [
      "Fitting estimator with 76 features.\n"
     ]
    },
    {
     "name": "stderr",
     "output_type": "stream",
     "text": [
      "[Parallel(n_jobs=-1)]: Using backend ThreadingBackend with 4 concurrent workers.\n",
      "[Parallel(n_jobs=-1)]: Done  42 tasks      | elapsed:    0.1s\n",
      "[Parallel(n_jobs=-1)]: Done 100 out of 100 | elapsed:    0.1s finished\n"
     ]
    },
    {
     "name": "stdout",
     "output_type": "stream",
     "text": [
      "Fitting estimator with 75 features.\n"
     ]
    },
    {
     "name": "stderr",
     "output_type": "stream",
     "text": [
      "[Parallel(n_jobs=-1)]: Using backend ThreadingBackend with 4 concurrent workers.\n",
      "[Parallel(n_jobs=-1)]: Done  42 tasks      | elapsed:    0.1s\n",
      "[Parallel(n_jobs=-1)]: Done 100 out of 100 | elapsed:    0.2s finished\n"
     ]
    },
    {
     "name": "stdout",
     "output_type": "stream",
     "text": [
      "Fitting estimator with 74 features.\n"
     ]
    },
    {
     "name": "stderr",
     "output_type": "stream",
     "text": [
      "[Parallel(n_jobs=-1)]: Using backend ThreadingBackend with 4 concurrent workers.\n",
      "[Parallel(n_jobs=-1)]: Done  42 tasks      | elapsed:    0.1s\n",
      "[Parallel(n_jobs=-1)]: Done 100 out of 100 | elapsed:    0.1s finished\n"
     ]
    },
    {
     "name": "stdout",
     "output_type": "stream",
     "text": [
      "Fitting estimator with 73 features.\n"
     ]
    },
    {
     "name": "stderr",
     "output_type": "stream",
     "text": [
      "[Parallel(n_jobs=-1)]: Using backend ThreadingBackend with 4 concurrent workers.\n",
      "[Parallel(n_jobs=-1)]: Done  42 tasks      | elapsed:    0.1s\n",
      "[Parallel(n_jobs=-1)]: Done 100 out of 100 | elapsed:    0.2s finished\n"
     ]
    },
    {
     "name": "stdout",
     "output_type": "stream",
     "text": [
      "Fitting estimator with 72 features.\n"
     ]
    },
    {
     "name": "stderr",
     "output_type": "stream",
     "text": [
      "[Parallel(n_jobs=-1)]: Using backend ThreadingBackend with 4 concurrent workers.\n",
      "[Parallel(n_jobs=-1)]: Done  42 tasks      | elapsed:    0.1s\n",
      "[Parallel(n_jobs=-1)]: Done 100 out of 100 | elapsed:    0.1s finished\n"
     ]
    },
    {
     "name": "stdout",
     "output_type": "stream",
     "text": [
      "Fitting estimator with 71 features.\n"
     ]
    },
    {
     "name": "stderr",
     "output_type": "stream",
     "text": [
      "[Parallel(n_jobs=-1)]: Using backend ThreadingBackend with 4 concurrent workers.\n",
      "[Parallel(n_jobs=-1)]: Done  42 tasks      | elapsed:    0.1s\n",
      "[Parallel(n_jobs=-1)]: Done 100 out of 100 | elapsed:    0.1s finished\n"
     ]
    },
    {
     "name": "stdout",
     "output_type": "stream",
     "text": [
      "Fitting estimator with 70 features.\n"
     ]
    },
    {
     "name": "stderr",
     "output_type": "stream",
     "text": [
      "[Parallel(n_jobs=-1)]: Using backend ThreadingBackend with 4 concurrent workers.\n",
      "[Parallel(n_jobs=-1)]: Done  42 tasks      | elapsed:    0.1s\n",
      "[Parallel(n_jobs=-1)]: Done 100 out of 100 | elapsed:    0.1s finished\n"
     ]
    },
    {
     "name": "stdout",
     "output_type": "stream",
     "text": [
      "Fitting estimator with 69 features.\n"
     ]
    },
    {
     "name": "stderr",
     "output_type": "stream",
     "text": [
      "[Parallel(n_jobs=-1)]: Using backend ThreadingBackend with 4 concurrent workers.\n",
      "[Parallel(n_jobs=-1)]: Done  42 tasks      | elapsed:    0.1s\n",
      "[Parallel(n_jobs=-1)]: Done 100 out of 100 | elapsed:    0.1s finished\n"
     ]
    },
    {
     "name": "stdout",
     "output_type": "stream",
     "text": [
      "Fitting estimator with 68 features.\n"
     ]
    },
    {
     "name": "stderr",
     "output_type": "stream",
     "text": [
      "[Parallel(n_jobs=-1)]: Using backend ThreadingBackend with 4 concurrent workers.\n",
      "[Parallel(n_jobs=-1)]: Done  42 tasks      | elapsed:    0.1s\n",
      "[Parallel(n_jobs=-1)]: Done 100 out of 100 | elapsed:    0.1s finished\n"
     ]
    },
    {
     "name": "stdout",
     "output_type": "stream",
     "text": [
      "Fitting estimator with 67 features.\n"
     ]
    },
    {
     "name": "stderr",
     "output_type": "stream",
     "text": [
      "[Parallel(n_jobs=-1)]: Using backend ThreadingBackend with 4 concurrent workers.\n",
      "[Parallel(n_jobs=-1)]: Done  42 tasks      | elapsed:    0.1s\n",
      "[Parallel(n_jobs=-1)]: Done 100 out of 100 | elapsed:    0.1s finished\n"
     ]
    },
    {
     "name": "stdout",
     "output_type": "stream",
     "text": [
      "Fitting estimator with 66 features.\n"
     ]
    },
    {
     "name": "stderr",
     "output_type": "stream",
     "text": [
      "[Parallel(n_jobs=-1)]: Using backend ThreadingBackend with 4 concurrent workers.\n",
      "[Parallel(n_jobs=-1)]: Done  42 tasks      | elapsed:    0.1s\n",
      "[Parallel(n_jobs=-1)]: Done 100 out of 100 | elapsed:    0.1s finished\n"
     ]
    },
    {
     "name": "stdout",
     "output_type": "stream",
     "text": [
      "Fitting estimator with 65 features.\n"
     ]
    },
    {
     "name": "stderr",
     "output_type": "stream",
     "text": [
      "[Parallel(n_jobs=-1)]: Using backend ThreadingBackend with 4 concurrent workers.\n",
      "[Parallel(n_jobs=-1)]: Done  42 tasks      | elapsed:    0.1s\n",
      "[Parallel(n_jobs=-1)]: Done 100 out of 100 | elapsed:    0.1s finished\n"
     ]
    },
    {
     "name": "stdout",
     "output_type": "stream",
     "text": [
      "Fitting estimator with 64 features.\n"
     ]
    },
    {
     "name": "stderr",
     "output_type": "stream",
     "text": [
      "[Parallel(n_jobs=-1)]: Using backend ThreadingBackend with 4 concurrent workers.\n",
      "[Parallel(n_jobs=-1)]: Done  42 tasks      | elapsed:    0.1s\n",
      "[Parallel(n_jobs=-1)]: Done 100 out of 100 | elapsed:    0.1s finished\n"
     ]
    },
    {
     "name": "stdout",
     "output_type": "stream",
     "text": [
      "Fitting estimator with 63 features.\n"
     ]
    },
    {
     "name": "stderr",
     "output_type": "stream",
     "text": [
      "[Parallel(n_jobs=-1)]: Using backend ThreadingBackend with 4 concurrent workers.\n",
      "[Parallel(n_jobs=-1)]: Done  42 tasks      | elapsed:    0.1s\n",
      "[Parallel(n_jobs=-1)]: Done 100 out of 100 | elapsed:    0.1s finished\n"
     ]
    },
    {
     "name": "stdout",
     "output_type": "stream",
     "text": [
      "Fitting estimator with 62 features.\n"
     ]
    },
    {
     "name": "stderr",
     "output_type": "stream",
     "text": [
      "[Parallel(n_jobs=-1)]: Using backend ThreadingBackend with 4 concurrent workers.\n",
      "[Parallel(n_jobs=-1)]: Done  42 tasks      | elapsed:    0.1s\n",
      "[Parallel(n_jobs=-1)]: Done 100 out of 100 | elapsed:    0.1s finished\n"
     ]
    },
    {
     "name": "stdout",
     "output_type": "stream",
     "text": [
      "Fitting estimator with 61 features.\n"
     ]
    },
    {
     "name": "stderr",
     "output_type": "stream",
     "text": [
      "[Parallel(n_jobs=-1)]: Using backend ThreadingBackend with 4 concurrent workers.\n",
      "[Parallel(n_jobs=-1)]: Done  42 tasks      | elapsed:    0.1s\n",
      "[Parallel(n_jobs=-1)]: Done 100 out of 100 | elapsed:    0.1s finished\n"
     ]
    },
    {
     "name": "stdout",
     "output_type": "stream",
     "text": [
      "Fitting estimator with 60 features.\n"
     ]
    },
    {
     "name": "stderr",
     "output_type": "stream",
     "text": [
      "[Parallel(n_jobs=-1)]: Using backend ThreadingBackend with 4 concurrent workers.\n",
      "[Parallel(n_jobs=-1)]: Done  42 tasks      | elapsed:    0.1s\n",
      "[Parallel(n_jobs=-1)]: Done 100 out of 100 | elapsed:    0.2s finished\n"
     ]
    },
    {
     "name": "stdout",
     "output_type": "stream",
     "text": [
      "Fitting estimator with 59 features.\n"
     ]
    },
    {
     "name": "stderr",
     "output_type": "stream",
     "text": [
      "[Parallel(n_jobs=-1)]: Using backend ThreadingBackend with 4 concurrent workers.\n",
      "[Parallel(n_jobs=-1)]: Done  42 tasks      | elapsed:    0.1s\n",
      "[Parallel(n_jobs=-1)]: Done 100 out of 100 | elapsed:    0.1s finished\n"
     ]
    },
    {
     "name": "stdout",
     "output_type": "stream",
     "text": [
      "Fitting estimator with 58 features.\n"
     ]
    },
    {
     "name": "stderr",
     "output_type": "stream",
     "text": [
      "[Parallel(n_jobs=-1)]: Using backend ThreadingBackend with 4 concurrent workers.\n",
      "[Parallel(n_jobs=-1)]: Done  42 tasks      | elapsed:    0.1s\n",
      "[Parallel(n_jobs=-1)]: Done 100 out of 100 | elapsed:    0.2s finished\n"
     ]
    },
    {
     "name": "stdout",
     "output_type": "stream",
     "text": [
      "Fitting estimator with 57 features.\n"
     ]
    },
    {
     "name": "stderr",
     "output_type": "stream",
     "text": [
      "[Parallel(n_jobs=-1)]: Using backend ThreadingBackend with 4 concurrent workers.\n",
      "[Parallel(n_jobs=-1)]: Done  42 tasks      | elapsed:    0.1s\n",
      "[Parallel(n_jobs=-1)]: Done 100 out of 100 | elapsed:    0.1s finished\n"
     ]
    },
    {
     "name": "stdout",
     "output_type": "stream",
     "text": [
      "Fitting estimator with 56 features.\n"
     ]
    },
    {
     "name": "stderr",
     "output_type": "stream",
     "text": [
      "[Parallel(n_jobs=-1)]: Using backend ThreadingBackend with 4 concurrent workers.\n",
      "[Parallel(n_jobs=-1)]: Done  42 tasks      | elapsed:    0.1s\n",
      "[Parallel(n_jobs=-1)]: Done 100 out of 100 | elapsed:    0.1s finished\n"
     ]
    },
    {
     "name": "stdout",
     "output_type": "stream",
     "text": [
      "Fitting estimator with 55 features.\n"
     ]
    },
    {
     "name": "stderr",
     "output_type": "stream",
     "text": [
      "[Parallel(n_jobs=-1)]: Using backend ThreadingBackend with 4 concurrent workers.\n",
      "[Parallel(n_jobs=-1)]: Done  42 tasks      | elapsed:    0.1s\n",
      "[Parallel(n_jobs=-1)]: Done 100 out of 100 | elapsed:    0.1s finished\n"
     ]
    },
    {
     "name": "stdout",
     "output_type": "stream",
     "text": [
      "Fitting estimator with 54 features.\n"
     ]
    },
    {
     "name": "stderr",
     "output_type": "stream",
     "text": [
      "[Parallel(n_jobs=-1)]: Using backend ThreadingBackend with 4 concurrent workers.\n",
      "[Parallel(n_jobs=-1)]: Done  42 tasks      | elapsed:    0.1s\n",
      "[Parallel(n_jobs=-1)]: Done 100 out of 100 | elapsed:    0.1s finished\n"
     ]
    },
    {
     "name": "stdout",
     "output_type": "stream",
     "text": [
      "Fitting estimator with 53 features.\n"
     ]
    },
    {
     "name": "stderr",
     "output_type": "stream",
     "text": [
      "[Parallel(n_jobs=-1)]: Using backend ThreadingBackend with 4 concurrent workers.\n",
      "[Parallel(n_jobs=-1)]: Done  42 tasks      | elapsed:    0.1s\n",
      "[Parallel(n_jobs=-1)]: Done 100 out of 100 | elapsed:    0.1s finished\n"
     ]
    },
    {
     "name": "stdout",
     "output_type": "stream",
     "text": [
      "Fitting estimator with 52 features.\n"
     ]
    },
    {
     "name": "stderr",
     "output_type": "stream",
     "text": [
      "[Parallel(n_jobs=-1)]: Using backend ThreadingBackend with 4 concurrent workers.\n",
      "[Parallel(n_jobs=-1)]: Done  42 tasks      | elapsed:    0.1s\n",
      "[Parallel(n_jobs=-1)]: Done 100 out of 100 | elapsed:    0.1s finished\n"
     ]
    },
    {
     "name": "stdout",
     "output_type": "stream",
     "text": [
      "Fitting estimator with 51 features.\n"
     ]
    },
    {
     "name": "stderr",
     "output_type": "stream",
     "text": [
      "[Parallel(n_jobs=-1)]: Using backend ThreadingBackend with 4 concurrent workers.\n",
      "[Parallel(n_jobs=-1)]: Done  42 tasks      | elapsed:    0.1s\n",
      "[Parallel(n_jobs=-1)]: Done 100 out of 100 | elapsed:    0.1s finished\n"
     ]
    },
    {
     "name": "stdout",
     "output_type": "stream",
     "text": [
      "Fitting estimator with 50 features.\n"
     ]
    },
    {
     "name": "stderr",
     "output_type": "stream",
     "text": [
      "[Parallel(n_jobs=-1)]: Using backend ThreadingBackend with 4 concurrent workers.\n",
      "[Parallel(n_jobs=-1)]: Done  42 tasks      | elapsed:    0.1s\n",
      "[Parallel(n_jobs=-1)]: Done 100 out of 100 | elapsed:    0.1s finished\n"
     ]
    },
    {
     "name": "stdout",
     "output_type": "stream",
     "text": [
      "Fitting estimator with 49 features.\n"
     ]
    },
    {
     "name": "stderr",
     "output_type": "stream",
     "text": [
      "[Parallel(n_jobs=-1)]: Using backend ThreadingBackend with 4 concurrent workers.\n",
      "[Parallel(n_jobs=-1)]: Done  42 tasks      | elapsed:    0.1s\n",
      "[Parallel(n_jobs=-1)]: Done 100 out of 100 | elapsed:    0.1s finished\n"
     ]
    },
    {
     "name": "stdout",
     "output_type": "stream",
     "text": [
      "Fitting estimator with 48 features.\n"
     ]
    },
    {
     "name": "stderr",
     "output_type": "stream",
     "text": [
      "[Parallel(n_jobs=-1)]: Using backend ThreadingBackend with 4 concurrent workers.\n",
      "[Parallel(n_jobs=-1)]: Done  42 tasks      | elapsed:    0.1s\n",
      "[Parallel(n_jobs=-1)]: Done 100 out of 100 | elapsed:    0.1s finished\n"
     ]
    },
    {
     "name": "stdout",
     "output_type": "stream",
     "text": [
      "Fitting estimator with 47 features.\n"
     ]
    },
    {
     "name": "stderr",
     "output_type": "stream",
     "text": [
      "[Parallel(n_jobs=-1)]: Using backend ThreadingBackend with 4 concurrent workers.\n",
      "[Parallel(n_jobs=-1)]: Done  42 tasks      | elapsed:    0.1s\n",
      "[Parallel(n_jobs=-1)]: Done 100 out of 100 | elapsed:    0.1s finished\n"
     ]
    },
    {
     "name": "stdout",
     "output_type": "stream",
     "text": [
      "Fitting estimator with 46 features.\n"
     ]
    },
    {
     "name": "stderr",
     "output_type": "stream",
     "text": [
      "[Parallel(n_jobs=-1)]: Using backend ThreadingBackend with 4 concurrent workers.\n",
      "[Parallel(n_jobs=-1)]: Done  42 tasks      | elapsed:    0.1s\n",
      "[Parallel(n_jobs=-1)]: Done 100 out of 100 | elapsed:    0.1s finished\n"
     ]
    },
    {
     "name": "stdout",
     "output_type": "stream",
     "text": [
      "Fitting estimator with 45 features.\n"
     ]
    },
    {
     "name": "stderr",
     "output_type": "stream",
     "text": [
      "[Parallel(n_jobs=-1)]: Using backend ThreadingBackend with 4 concurrent workers.\n",
      "[Parallel(n_jobs=-1)]: Done  42 tasks      | elapsed:    0.1s\n",
      "[Parallel(n_jobs=-1)]: Done 100 out of 100 | elapsed:    0.1s finished\n"
     ]
    },
    {
     "name": "stdout",
     "output_type": "stream",
     "text": [
      "Fitting estimator with 44 features.\n"
     ]
    },
    {
     "name": "stderr",
     "output_type": "stream",
     "text": [
      "[Parallel(n_jobs=-1)]: Using backend ThreadingBackend with 4 concurrent workers.\n",
      "[Parallel(n_jobs=-1)]: Done  42 tasks      | elapsed:    0.1s\n",
      "[Parallel(n_jobs=-1)]: Done 100 out of 100 | elapsed:    0.1s finished\n"
     ]
    },
    {
     "name": "stdout",
     "output_type": "stream",
     "text": [
      "Fitting estimator with 43 features.\n"
     ]
    },
    {
     "name": "stderr",
     "output_type": "stream",
     "text": [
      "[Parallel(n_jobs=-1)]: Using backend ThreadingBackend with 4 concurrent workers.\n",
      "[Parallel(n_jobs=-1)]: Done  42 tasks      | elapsed:    0.1s\n",
      "[Parallel(n_jobs=-1)]: Done 100 out of 100 | elapsed:    0.1s finished\n"
     ]
    },
    {
     "name": "stdout",
     "output_type": "stream",
     "text": [
      "Fitting estimator with 42 features.\n"
     ]
    },
    {
     "name": "stderr",
     "output_type": "stream",
     "text": [
      "[Parallel(n_jobs=-1)]: Using backend ThreadingBackend with 4 concurrent workers.\n",
      "[Parallel(n_jobs=-1)]: Done  42 tasks      | elapsed:    0.1s\n",
      "[Parallel(n_jobs=-1)]: Done 100 out of 100 | elapsed:    0.1s finished\n"
     ]
    },
    {
     "name": "stdout",
     "output_type": "stream",
     "text": [
      "Fitting estimator with 41 features.\n"
     ]
    },
    {
     "name": "stderr",
     "output_type": "stream",
     "text": [
      "[Parallel(n_jobs=-1)]: Using backend ThreadingBackend with 4 concurrent workers.\n",
      "[Parallel(n_jobs=-1)]: Done  42 tasks      | elapsed:    0.1s\n",
      "[Parallel(n_jobs=-1)]: Done 100 out of 100 | elapsed:    0.1s finished\n"
     ]
    },
    {
     "name": "stdout",
     "output_type": "stream",
     "text": [
      "Fitting estimator with 40 features.\n"
     ]
    },
    {
     "name": "stderr",
     "output_type": "stream",
     "text": [
      "[Parallel(n_jobs=-1)]: Using backend ThreadingBackend with 4 concurrent workers.\n",
      "[Parallel(n_jobs=-1)]: Done  42 tasks      | elapsed:    0.1s\n",
      "[Parallel(n_jobs=-1)]: Done 100 out of 100 | elapsed:    0.1s finished\n"
     ]
    },
    {
     "name": "stdout",
     "output_type": "stream",
     "text": [
      "Fitting estimator with 39 features.\n"
     ]
    },
    {
     "name": "stderr",
     "output_type": "stream",
     "text": [
      "[Parallel(n_jobs=-1)]: Using backend ThreadingBackend with 4 concurrent workers.\n",
      "[Parallel(n_jobs=-1)]: Done  42 tasks      | elapsed:    0.1s\n",
      "[Parallel(n_jobs=-1)]: Done 100 out of 100 | elapsed:    0.1s finished\n"
     ]
    },
    {
     "name": "stdout",
     "output_type": "stream",
     "text": [
      "Fitting estimator with 38 features.\n"
     ]
    },
    {
     "name": "stderr",
     "output_type": "stream",
     "text": [
      "[Parallel(n_jobs=-1)]: Using backend ThreadingBackend with 4 concurrent workers.\n",
      "[Parallel(n_jobs=-1)]: Done  42 tasks      | elapsed:    0.1s\n",
      "[Parallel(n_jobs=-1)]: Done 100 out of 100 | elapsed:    0.1s finished\n"
     ]
    },
    {
     "name": "stdout",
     "output_type": "stream",
     "text": [
      "Fitting estimator with 37 features.\n"
     ]
    },
    {
     "name": "stderr",
     "output_type": "stream",
     "text": [
      "[Parallel(n_jobs=-1)]: Using backend ThreadingBackend with 4 concurrent workers.\n",
      "[Parallel(n_jobs=-1)]: Done  42 tasks      | elapsed:    0.1s\n",
      "[Parallel(n_jobs=-1)]: Done 100 out of 100 | elapsed:    0.1s finished\n"
     ]
    },
    {
     "name": "stdout",
     "output_type": "stream",
     "text": [
      "Fitting estimator with 36 features.\n"
     ]
    },
    {
     "name": "stderr",
     "output_type": "stream",
     "text": [
      "[Parallel(n_jobs=-1)]: Using backend ThreadingBackend with 4 concurrent workers.\n",
      "[Parallel(n_jobs=-1)]: Done  42 tasks      | elapsed:    0.1s\n",
      "[Parallel(n_jobs=-1)]: Done 100 out of 100 | elapsed:    0.1s finished\n"
     ]
    },
    {
     "name": "stdout",
     "output_type": "stream",
     "text": [
      "Fitting estimator with 35 features.\n"
     ]
    },
    {
     "name": "stderr",
     "output_type": "stream",
     "text": [
      "[Parallel(n_jobs=-1)]: Using backend ThreadingBackend with 4 concurrent workers.\n",
      "[Parallel(n_jobs=-1)]: Done  42 tasks      | elapsed:    0.1s\n",
      "[Parallel(n_jobs=-1)]: Done 100 out of 100 | elapsed:    0.1s finished\n"
     ]
    },
    {
     "name": "stdout",
     "output_type": "stream",
     "text": [
      "Fitting estimator with 34 features.\n"
     ]
    },
    {
     "name": "stderr",
     "output_type": "stream",
     "text": [
      "[Parallel(n_jobs=-1)]: Using backend ThreadingBackend with 4 concurrent workers.\n",
      "[Parallel(n_jobs=-1)]: Done  42 tasks      | elapsed:    0.1s\n",
      "[Parallel(n_jobs=-1)]: Done 100 out of 100 | elapsed:    0.2s finished\n"
     ]
    },
    {
     "name": "stdout",
     "output_type": "stream",
     "text": [
      "Fitting estimator with 33 features.\n"
     ]
    },
    {
     "name": "stderr",
     "output_type": "stream",
     "text": [
      "[Parallel(n_jobs=-1)]: Using backend ThreadingBackend with 4 concurrent workers.\n",
      "[Parallel(n_jobs=-1)]: Done  42 tasks      | elapsed:    0.1s\n",
      "[Parallel(n_jobs=-1)]: Done 100 out of 100 | elapsed:    0.1s finished\n"
     ]
    },
    {
     "name": "stdout",
     "output_type": "stream",
     "text": [
      "Fitting estimator with 32 features.\n"
     ]
    },
    {
     "name": "stderr",
     "output_type": "stream",
     "text": [
      "[Parallel(n_jobs=-1)]: Using backend ThreadingBackend with 4 concurrent workers.\n",
      "[Parallel(n_jobs=-1)]: Done  42 tasks      | elapsed:    0.1s\n",
      "[Parallel(n_jobs=-1)]: Done 100 out of 100 | elapsed:    0.1s finished\n"
     ]
    },
    {
     "name": "stdout",
     "output_type": "stream",
     "text": [
      "Fitting estimator with 31 features.\n"
     ]
    },
    {
     "name": "stderr",
     "output_type": "stream",
     "text": [
      "[Parallel(n_jobs=-1)]: Using backend ThreadingBackend with 4 concurrent workers.\n",
      "[Parallel(n_jobs=-1)]: Done  42 tasks      | elapsed:    0.1s\n",
      "[Parallel(n_jobs=-1)]: Done 100 out of 100 | elapsed:    0.1s finished\n"
     ]
    },
    {
     "name": "stdout",
     "output_type": "stream",
     "text": [
      "Fitting estimator with 30 features.\n"
     ]
    },
    {
     "name": "stderr",
     "output_type": "stream",
     "text": [
      "[Parallel(n_jobs=-1)]: Using backend ThreadingBackend with 4 concurrent workers.\n",
      "[Parallel(n_jobs=-1)]: Done  42 tasks      | elapsed:    0.1s\n",
      "[Parallel(n_jobs=-1)]: Done 100 out of 100 | elapsed:    0.1s finished\n"
     ]
    },
    {
     "name": "stdout",
     "output_type": "stream",
     "text": [
      "Fitting estimator with 29 features.\n"
     ]
    },
    {
     "name": "stderr",
     "output_type": "stream",
     "text": [
      "[Parallel(n_jobs=-1)]: Using backend ThreadingBackend with 4 concurrent workers.\n",
      "[Parallel(n_jobs=-1)]: Done  42 tasks      | elapsed:    0.1s\n",
      "[Parallel(n_jobs=-1)]: Done 100 out of 100 | elapsed:    0.1s finished\n"
     ]
    },
    {
     "name": "stdout",
     "output_type": "stream",
     "text": [
      "Fitting estimator with 28 features.\n"
     ]
    },
    {
     "name": "stderr",
     "output_type": "stream",
     "text": [
      "[Parallel(n_jobs=-1)]: Using backend ThreadingBackend with 4 concurrent workers.\n",
      "[Parallel(n_jobs=-1)]: Done  42 tasks      | elapsed:    0.1s\n",
      "[Parallel(n_jobs=-1)]: Done 100 out of 100 | elapsed:    0.1s finished\n"
     ]
    },
    {
     "name": "stdout",
     "output_type": "stream",
     "text": [
      "Fitting estimator with 27 features.\n"
     ]
    },
    {
     "name": "stderr",
     "output_type": "stream",
     "text": [
      "[Parallel(n_jobs=-1)]: Using backend ThreadingBackend with 4 concurrent workers.\n",
      "[Parallel(n_jobs=-1)]: Done  42 tasks      | elapsed:    0.1s\n",
      "[Parallel(n_jobs=-1)]: Done 100 out of 100 | elapsed:    0.1s finished\n"
     ]
    },
    {
     "name": "stdout",
     "output_type": "stream",
     "text": [
      "Fitting estimator with 26 features.\n"
     ]
    },
    {
     "name": "stderr",
     "output_type": "stream",
     "text": [
      "[Parallel(n_jobs=-1)]: Using backend ThreadingBackend with 4 concurrent workers.\n",
      "[Parallel(n_jobs=-1)]: Done  42 tasks      | elapsed:    0.1s\n",
      "[Parallel(n_jobs=-1)]: Done 100 out of 100 | elapsed:    0.1s finished\n"
     ]
    },
    {
     "name": "stdout",
     "output_type": "stream",
     "text": [
      "Fitting estimator with 25 features.\n"
     ]
    },
    {
     "name": "stderr",
     "output_type": "stream",
     "text": [
      "[Parallel(n_jobs=-1)]: Using backend ThreadingBackend with 4 concurrent workers.\n",
      "[Parallel(n_jobs=-1)]: Done  42 tasks      | elapsed:    0.1s\n",
      "[Parallel(n_jobs=-1)]: Done 100 out of 100 | elapsed:    0.1s finished\n"
     ]
    },
    {
     "name": "stdout",
     "output_type": "stream",
     "text": [
      "Fitting estimator with 24 features.\n"
     ]
    },
    {
     "name": "stderr",
     "output_type": "stream",
     "text": [
      "[Parallel(n_jobs=-1)]: Using backend ThreadingBackend with 4 concurrent workers.\n",
      "[Parallel(n_jobs=-1)]: Done  42 tasks      | elapsed:    0.1s\n",
      "[Parallel(n_jobs=-1)]: Done 100 out of 100 | elapsed:    0.1s finished\n"
     ]
    },
    {
     "name": "stdout",
     "output_type": "stream",
     "text": [
      "Fitting estimator with 23 features.\n"
     ]
    },
    {
     "name": "stderr",
     "output_type": "stream",
     "text": [
      "[Parallel(n_jobs=-1)]: Using backend ThreadingBackend with 4 concurrent workers.\n",
      "[Parallel(n_jobs=-1)]: Done  42 tasks      | elapsed:    0.1s\n",
      "[Parallel(n_jobs=-1)]: Done 100 out of 100 | elapsed:    0.1s finished\n"
     ]
    },
    {
     "name": "stdout",
     "output_type": "stream",
     "text": [
      "Fitting estimator with 22 features.\n"
     ]
    },
    {
     "name": "stderr",
     "output_type": "stream",
     "text": [
      "[Parallel(n_jobs=-1)]: Using backend ThreadingBackend with 4 concurrent workers.\n",
      "[Parallel(n_jobs=-1)]: Done  42 tasks      | elapsed:    0.1s\n",
      "[Parallel(n_jobs=-1)]: Done 100 out of 100 | elapsed:    0.1s finished\n"
     ]
    },
    {
     "name": "stdout",
     "output_type": "stream",
     "text": [
      "Fitting estimator with 21 features.\n"
     ]
    },
    {
     "name": "stderr",
     "output_type": "stream",
     "text": [
      "[Parallel(n_jobs=-1)]: Using backend ThreadingBackend with 4 concurrent workers.\n",
      "[Parallel(n_jobs=-1)]: Done  42 tasks      | elapsed:    0.1s\n",
      "[Parallel(n_jobs=-1)]: Done 100 out of 100 | elapsed:    0.1s finished\n"
     ]
    },
    {
     "name": "stdout",
     "output_type": "stream",
     "text": [
      "Fitting estimator with 20 features.\n"
     ]
    },
    {
     "name": "stderr",
     "output_type": "stream",
     "text": [
      "[Parallel(n_jobs=-1)]: Using backend ThreadingBackend with 4 concurrent workers.\n",
      "[Parallel(n_jobs=-1)]: Done  42 tasks      | elapsed:    0.1s\n",
      "[Parallel(n_jobs=-1)]: Done 100 out of 100 | elapsed:    0.1s finished\n"
     ]
    },
    {
     "name": "stdout",
     "output_type": "stream",
     "text": [
      "Fitting estimator with 19 features.\n"
     ]
    },
    {
     "name": "stderr",
     "output_type": "stream",
     "text": [
      "[Parallel(n_jobs=-1)]: Using backend ThreadingBackend with 4 concurrent workers.\n",
      "[Parallel(n_jobs=-1)]: Done  42 tasks      | elapsed:    0.1s\n",
      "[Parallel(n_jobs=-1)]: Done 100 out of 100 | elapsed:    0.1s finished\n"
     ]
    },
    {
     "name": "stdout",
     "output_type": "stream",
     "text": [
      "Fitting estimator with 18 features.\n"
     ]
    },
    {
     "name": "stderr",
     "output_type": "stream",
     "text": [
      "[Parallel(n_jobs=-1)]: Using backend ThreadingBackend with 4 concurrent workers.\n",
      "[Parallel(n_jobs=-1)]: Done  42 tasks      | elapsed:    0.1s\n",
      "[Parallel(n_jobs=-1)]: Done 100 out of 100 | elapsed:    0.1s finished\n"
     ]
    },
    {
     "name": "stdout",
     "output_type": "stream",
     "text": [
      "Fitting estimator with 17 features.\n"
     ]
    },
    {
     "name": "stderr",
     "output_type": "stream",
     "text": [
      "[Parallel(n_jobs=-1)]: Using backend ThreadingBackend with 4 concurrent workers.\n",
      "[Parallel(n_jobs=-1)]: Done  42 tasks      | elapsed:    0.1s\n",
      "[Parallel(n_jobs=-1)]: Done 100 out of 100 | elapsed:    0.1s finished\n"
     ]
    },
    {
     "name": "stdout",
     "output_type": "stream",
     "text": [
      "Fitting estimator with 16 features.\n"
     ]
    },
    {
     "name": "stderr",
     "output_type": "stream",
     "text": [
      "[Parallel(n_jobs=-1)]: Using backend ThreadingBackend with 4 concurrent workers.\n",
      "[Parallel(n_jobs=-1)]: Done  42 tasks      | elapsed:    0.1s\n",
      "[Parallel(n_jobs=-1)]: Done 100 out of 100 | elapsed:    0.1s finished\n"
     ]
    },
    {
     "name": "stdout",
     "output_type": "stream",
     "text": [
      "Fitting estimator with 15 features.\n"
     ]
    },
    {
     "name": "stderr",
     "output_type": "stream",
     "text": [
      "[Parallel(n_jobs=-1)]: Using backend ThreadingBackend with 4 concurrent workers.\n",
      "[Parallel(n_jobs=-1)]: Done  42 tasks      | elapsed:    0.1s\n",
      "[Parallel(n_jobs=-1)]: Done 100 out of 100 | elapsed:    0.1s finished\n"
     ]
    },
    {
     "name": "stdout",
     "output_type": "stream",
     "text": [
      "Fitting estimator with 14 features.\n"
     ]
    },
    {
     "name": "stderr",
     "output_type": "stream",
     "text": [
      "[Parallel(n_jobs=-1)]: Using backend ThreadingBackend with 4 concurrent workers.\n",
      "[Parallel(n_jobs=-1)]: Done  42 tasks      | elapsed:    0.1s\n",
      "[Parallel(n_jobs=-1)]: Done 100 out of 100 | elapsed:    0.1s finished\n"
     ]
    },
    {
     "name": "stdout",
     "output_type": "stream",
     "text": [
      "Fitting estimator with 13 features.\n"
     ]
    },
    {
     "name": "stderr",
     "output_type": "stream",
     "text": [
      "[Parallel(n_jobs=-1)]: Using backend ThreadingBackend with 4 concurrent workers.\n",
      "[Parallel(n_jobs=-1)]: Done  42 tasks      | elapsed:    0.1s\n",
      "[Parallel(n_jobs=-1)]: Done 100 out of 100 | elapsed:    0.1s finished\n"
     ]
    },
    {
     "name": "stdout",
     "output_type": "stream",
     "text": [
      "Fitting estimator with 12 features.\n"
     ]
    },
    {
     "name": "stderr",
     "output_type": "stream",
     "text": [
      "[Parallel(n_jobs=-1)]: Using backend ThreadingBackend with 4 concurrent workers.\n",
      "[Parallel(n_jobs=-1)]: Done  42 tasks      | elapsed:    0.1s\n",
      "[Parallel(n_jobs=-1)]: Done 100 out of 100 | elapsed:    0.1s finished\n"
     ]
    },
    {
     "name": "stdout",
     "output_type": "stream",
     "text": [
      "Fitting estimator with 11 features.\n"
     ]
    },
    {
     "name": "stderr",
     "output_type": "stream",
     "text": [
      "[Parallel(n_jobs=-1)]: Using backend ThreadingBackend with 4 concurrent workers.\n",
      "[Parallel(n_jobs=-1)]: Done  42 tasks      | elapsed:    0.1s\n",
      "[Parallel(n_jobs=-1)]: Done 100 out of 100 | elapsed:    0.1s finished\n"
     ]
    },
    {
     "name": "stdout",
     "output_type": "stream",
     "text": [
      "Fitting estimator with 10 features.\n"
     ]
    },
    {
     "name": "stderr",
     "output_type": "stream",
     "text": [
      "[Parallel(n_jobs=-1)]: Using backend ThreadingBackend with 4 concurrent workers.\n",
      "[Parallel(n_jobs=-1)]: Done  42 tasks      | elapsed:    0.1s\n",
      "[Parallel(n_jobs=-1)]: Done 100 out of 100 | elapsed:    0.1s finished\n"
     ]
    },
    {
     "name": "stdout",
     "output_type": "stream",
     "text": [
      "Fitting estimator with 9 features.\n"
     ]
    },
    {
     "name": "stderr",
     "output_type": "stream",
     "text": [
      "[Parallel(n_jobs=-1)]: Using backend ThreadingBackend with 4 concurrent workers.\n",
      "[Parallel(n_jobs=-1)]: Done  42 tasks      | elapsed:    0.1s\n",
      "[Parallel(n_jobs=-1)]: Done 100 out of 100 | elapsed:    0.1s finished\n"
     ]
    },
    {
     "name": "stdout",
     "output_type": "stream",
     "text": [
      "Fitting estimator with 8 features.\n"
     ]
    },
    {
     "name": "stderr",
     "output_type": "stream",
     "text": [
      "[Parallel(n_jobs=-1)]: Using backend ThreadingBackend with 4 concurrent workers.\n",
      "[Parallel(n_jobs=-1)]: Done  42 tasks      | elapsed:    0.1s\n",
      "[Parallel(n_jobs=-1)]: Done 100 out of 100 | elapsed:    0.1s finished\n"
     ]
    },
    {
     "name": "stdout",
     "output_type": "stream",
     "text": [
      "Fitting estimator with 7 features.\n"
     ]
    },
    {
     "name": "stderr",
     "output_type": "stream",
     "text": [
      "[Parallel(n_jobs=-1)]: Using backend ThreadingBackend with 4 concurrent workers.\n",
      "[Parallel(n_jobs=-1)]: Done  42 tasks      | elapsed:    0.1s\n",
      "[Parallel(n_jobs=-1)]: Done 100 out of 100 | elapsed:    0.1s finished\n"
     ]
    },
    {
     "name": "stdout",
     "output_type": "stream",
     "text": [
      "Fitting estimator with 6 features.\n"
     ]
    },
    {
     "name": "stderr",
     "output_type": "stream",
     "text": [
      "[Parallel(n_jobs=-1)]: Using backend ThreadingBackend with 4 concurrent workers.\n",
      "[Parallel(n_jobs=-1)]: Done  42 tasks      | elapsed:    0.1s\n",
      "[Parallel(n_jobs=-1)]: Done 100 out of 100 | elapsed:    0.2s finished\n"
     ]
    },
    {
     "name": "stdout",
     "output_type": "stream",
     "text": [
      "Fitting estimator with 5 features.\n"
     ]
    },
    {
     "name": "stderr",
     "output_type": "stream",
     "text": [
      "[Parallel(n_jobs=-1)]: Using backend ThreadingBackend with 4 concurrent workers.\n",
      "[Parallel(n_jobs=-1)]: Done  42 tasks      | elapsed:    0.1s\n",
      "[Parallel(n_jobs=-1)]: Done 100 out of 100 | elapsed:    0.1s finished\n"
     ]
    },
    {
     "name": "stdout",
     "output_type": "stream",
     "text": [
      "Fitting estimator with 4 features.\n"
     ]
    },
    {
     "name": "stderr",
     "output_type": "stream",
     "text": [
      "[Parallel(n_jobs=-1)]: Using backend ThreadingBackend with 4 concurrent workers.\n",
      "[Parallel(n_jobs=-1)]: Done  42 tasks      | elapsed:    0.1s\n",
      "[Parallel(n_jobs=-1)]: Done 100 out of 100 | elapsed:    0.1s finished\n",
      "[Parallel(n_jobs=-1)]: Using backend ThreadingBackend with 4 concurrent workers.\n",
      "[Parallel(n_jobs=-1)]: Done  42 tasks      | elapsed:    0.1s\n",
      "[Parallel(n_jobs=-1)]: Done 100 out of 100 | elapsed:    0.1s finished\n",
      "[Parallel(n_jobs=-1)]: Using backend ThreadingBackend with 4 concurrent workers.\n",
      "[Parallel(n_jobs=-1)]: Done  42 tasks      | elapsed:    0.1s\n",
      "[Parallel(n_jobs=-1)]: Done 100 out of 100 | elapsed:    0.1s finished\n"
     ]
    },
    {
     "name": "stdout",
     "output_type": "stream",
     "text": [
      "Fitting estimator with 84 features.\n"
     ]
    },
    {
     "name": "stderr",
     "output_type": "stream",
     "text": [
      "[Parallel(n_jobs=-1)]: Using backend ThreadingBackend with 4 concurrent workers.\n",
      "[Parallel(n_jobs=-1)]: Done  42 tasks      | elapsed:    0.1s\n",
      "[Parallel(n_jobs=-1)]: Done 100 out of 100 | elapsed:    0.2s finished\n"
     ]
    },
    {
     "name": "stdout",
     "output_type": "stream",
     "text": [
      "Fitting estimator with 83 features.\n"
     ]
    },
    {
     "name": "stderr",
     "output_type": "stream",
     "text": [
      "[Parallel(n_jobs=-1)]: Using backend ThreadingBackend with 4 concurrent workers.\n",
      "[Parallel(n_jobs=-1)]: Done  42 tasks      | elapsed:    0.1s\n",
      "[Parallel(n_jobs=-1)]: Done 100 out of 100 | elapsed:    0.2s finished\n"
     ]
    },
    {
     "name": "stdout",
     "output_type": "stream",
     "text": [
      "Fitting estimator with 82 features.\n"
     ]
    },
    {
     "name": "stderr",
     "output_type": "stream",
     "text": [
      "[Parallel(n_jobs=-1)]: Using backend ThreadingBackend with 4 concurrent workers.\n",
      "[Parallel(n_jobs=-1)]: Done  42 tasks      | elapsed:    0.1s\n",
      "[Parallel(n_jobs=-1)]: Done 100 out of 100 | elapsed:    0.2s finished\n"
     ]
    },
    {
     "name": "stdout",
     "output_type": "stream",
     "text": [
      "Fitting estimator with 81 features.\n"
     ]
    },
    {
     "name": "stderr",
     "output_type": "stream",
     "text": [
      "[Parallel(n_jobs=-1)]: Using backend ThreadingBackend with 4 concurrent workers.\n",
      "[Parallel(n_jobs=-1)]: Done  42 tasks      | elapsed:    0.1s\n",
      "[Parallel(n_jobs=-1)]: Done 100 out of 100 | elapsed:    0.2s finished\n"
     ]
    },
    {
     "name": "stdout",
     "output_type": "stream",
     "text": [
      "Fitting estimator with 80 features.\n"
     ]
    },
    {
     "name": "stderr",
     "output_type": "stream",
     "text": [
      "[Parallel(n_jobs=-1)]: Using backend ThreadingBackend with 4 concurrent workers.\n",
      "[Parallel(n_jobs=-1)]: Done  42 tasks      | elapsed:    0.1s\n",
      "[Parallel(n_jobs=-1)]: Done 100 out of 100 | elapsed:    0.2s finished\n"
     ]
    },
    {
     "name": "stdout",
     "output_type": "stream",
     "text": [
      "Fitting estimator with 79 features.\n"
     ]
    },
    {
     "name": "stderr",
     "output_type": "stream",
     "text": [
      "[Parallel(n_jobs=-1)]: Using backend ThreadingBackend with 4 concurrent workers.\n",
      "[Parallel(n_jobs=-1)]: Done  42 tasks      | elapsed:    0.1s\n",
      "[Parallel(n_jobs=-1)]: Done 100 out of 100 | elapsed:    0.2s finished\n"
     ]
    },
    {
     "name": "stdout",
     "output_type": "stream",
     "text": [
      "Fitting estimator with 78 features.\n"
     ]
    },
    {
     "name": "stderr",
     "output_type": "stream",
     "text": [
      "[Parallel(n_jobs=-1)]: Using backend ThreadingBackend with 4 concurrent workers.\n",
      "[Parallel(n_jobs=-1)]: Done  42 tasks      | elapsed:    0.1s\n",
      "[Parallel(n_jobs=-1)]: Done 100 out of 100 | elapsed:    0.2s finished\n"
     ]
    },
    {
     "name": "stdout",
     "output_type": "stream",
     "text": [
      "Fitting estimator with 77 features.\n"
     ]
    },
    {
     "name": "stderr",
     "output_type": "stream",
     "text": [
      "[Parallel(n_jobs=-1)]: Using backend ThreadingBackend with 4 concurrent workers.\n",
      "[Parallel(n_jobs=-1)]: Done  42 tasks      | elapsed:    0.1s\n",
      "[Parallel(n_jobs=-1)]: Done 100 out of 100 | elapsed:    0.2s finished\n"
     ]
    },
    {
     "name": "stdout",
     "output_type": "stream",
     "text": [
      "Fitting estimator with 76 features.\n"
     ]
    },
    {
     "name": "stderr",
     "output_type": "stream",
     "text": [
      "[Parallel(n_jobs=-1)]: Using backend ThreadingBackend with 4 concurrent workers.\n",
      "[Parallel(n_jobs=-1)]: Done  42 tasks      | elapsed:    0.2s\n",
      "[Parallel(n_jobs=-1)]: Done 100 out of 100 | elapsed:    0.3s finished\n",
      "[Parallel(n_jobs=-1)]: Using backend ThreadingBackend with 4 concurrent workers.\n"
     ]
    },
    {
     "name": "stdout",
     "output_type": "stream",
     "text": [
      "Fitting estimator with 75 features.\n"
     ]
    },
    {
     "name": "stderr",
     "output_type": "stream",
     "text": [
      "[Parallel(n_jobs=-1)]: Done  42 tasks      | elapsed:    0.1s\n",
      "[Parallel(n_jobs=-1)]: Done 100 out of 100 | elapsed:    0.2s finished\n"
     ]
    },
    {
     "name": "stdout",
     "output_type": "stream",
     "text": [
      "Fitting estimator with 74 features.\n"
     ]
    },
    {
     "name": "stderr",
     "output_type": "stream",
     "text": [
      "[Parallel(n_jobs=-1)]: Using backend ThreadingBackend with 4 concurrent workers.\n",
      "[Parallel(n_jobs=-1)]: Done  42 tasks      | elapsed:    0.3s\n",
      "[Parallel(n_jobs=-1)]: Done 100 out of 100 | elapsed:    0.6s finished\n"
     ]
    },
    {
     "name": "stdout",
     "output_type": "stream",
     "text": [
      "Fitting estimator with 73 features.\n"
     ]
    },
    {
     "name": "stderr",
     "output_type": "stream",
     "text": [
      "[Parallel(n_jobs=-1)]: Using backend ThreadingBackend with 4 concurrent workers.\n",
      "[Parallel(n_jobs=-1)]: Done  42 tasks      | elapsed:    0.1s\n",
      "[Parallel(n_jobs=-1)]: Done 100 out of 100 | elapsed:    0.2s finished\n"
     ]
    },
    {
     "name": "stdout",
     "output_type": "stream",
     "text": [
      "Fitting estimator with 72 features.\n"
     ]
    },
    {
     "name": "stderr",
     "output_type": "stream",
     "text": [
      "[Parallel(n_jobs=-1)]: Using backend ThreadingBackend with 4 concurrent workers.\n",
      "[Parallel(n_jobs=-1)]: Done  42 tasks      | elapsed:    0.1s\n",
      "[Parallel(n_jobs=-1)]: Done 100 out of 100 | elapsed:    0.2s finished\n"
     ]
    },
    {
     "name": "stdout",
     "output_type": "stream",
     "text": [
      "Fitting estimator with 71 features.\n"
     ]
    },
    {
     "name": "stderr",
     "output_type": "stream",
     "text": [
      "[Parallel(n_jobs=-1)]: Using backend ThreadingBackend with 4 concurrent workers.\n",
      "[Parallel(n_jobs=-1)]: Done  42 tasks      | elapsed:    0.1s\n",
      "[Parallel(n_jobs=-1)]: Done 100 out of 100 | elapsed:    0.2s finished\n"
     ]
    },
    {
     "name": "stdout",
     "output_type": "stream",
     "text": [
      "Fitting estimator with 70 features.\n"
     ]
    },
    {
     "name": "stderr",
     "output_type": "stream",
     "text": [
      "[Parallel(n_jobs=-1)]: Using backend ThreadingBackend with 4 concurrent workers.\n",
      "[Parallel(n_jobs=-1)]: Done  42 tasks      | elapsed:    0.1s\n",
      "[Parallel(n_jobs=-1)]: Done 100 out of 100 | elapsed:    0.3s finished\n",
      "[Parallel(n_jobs=-1)]: Using backend ThreadingBackend with 4 concurrent workers.\n"
     ]
    },
    {
     "name": "stdout",
     "output_type": "stream",
     "text": [
      "Fitting estimator with 69 features.\n"
     ]
    },
    {
     "name": "stderr",
     "output_type": "stream",
     "text": [
      "[Parallel(n_jobs=-1)]: Done  42 tasks      | elapsed:    0.1s\n",
      "[Parallel(n_jobs=-1)]: Done 100 out of 100 | elapsed:    0.2s finished\n"
     ]
    },
    {
     "name": "stdout",
     "output_type": "stream",
     "text": [
      "Fitting estimator with 68 features.\n"
     ]
    },
    {
     "name": "stderr",
     "output_type": "stream",
     "text": [
      "[Parallel(n_jobs=-1)]: Using backend ThreadingBackend with 4 concurrent workers.\n",
      "[Parallel(n_jobs=-1)]: Done  42 tasks      | elapsed:    0.1s\n",
      "[Parallel(n_jobs=-1)]: Done 100 out of 100 | elapsed:    0.2s finished\n"
     ]
    },
    {
     "name": "stdout",
     "output_type": "stream",
     "text": [
      "Fitting estimator with 67 features.\n"
     ]
    },
    {
     "name": "stderr",
     "output_type": "stream",
     "text": [
      "[Parallel(n_jobs=-1)]: Using backend ThreadingBackend with 4 concurrent workers.\n",
      "[Parallel(n_jobs=-1)]: Done  42 tasks      | elapsed:    0.1s\n",
      "[Parallel(n_jobs=-1)]: Done 100 out of 100 | elapsed:    0.2s finished\n"
     ]
    },
    {
     "name": "stdout",
     "output_type": "stream",
     "text": [
      "Fitting estimator with 66 features.\n"
     ]
    },
    {
     "name": "stderr",
     "output_type": "stream",
     "text": [
      "[Parallel(n_jobs=-1)]: Using backend ThreadingBackend with 4 concurrent workers.\n",
      "[Parallel(n_jobs=-1)]: Done  42 tasks      | elapsed:    0.1s\n",
      "[Parallel(n_jobs=-1)]: Done 100 out of 100 | elapsed:    0.2s finished\n"
     ]
    },
    {
     "name": "stdout",
     "output_type": "stream",
     "text": [
      "Fitting estimator with 65 features.\n"
     ]
    },
    {
     "name": "stderr",
     "output_type": "stream",
     "text": [
      "[Parallel(n_jobs=-1)]: Using backend ThreadingBackend with 4 concurrent workers.\n",
      "[Parallel(n_jobs=-1)]: Done  42 tasks      | elapsed:    0.1s\n",
      "[Parallel(n_jobs=-1)]: Done 100 out of 100 | elapsed:    0.2s finished\n"
     ]
    },
    {
     "name": "stdout",
     "output_type": "stream",
     "text": [
      "Fitting estimator with 64 features.\n"
     ]
    },
    {
     "name": "stderr",
     "output_type": "stream",
     "text": [
      "[Parallel(n_jobs=-1)]: Using backend ThreadingBackend with 4 concurrent workers.\n",
      "[Parallel(n_jobs=-1)]: Done  42 tasks      | elapsed:    0.1s\n",
      "[Parallel(n_jobs=-1)]: Done 100 out of 100 | elapsed:    0.2s finished\n"
     ]
    },
    {
     "name": "stdout",
     "output_type": "stream",
     "text": [
      "Fitting estimator with 63 features.\n"
     ]
    },
    {
     "name": "stderr",
     "output_type": "stream",
     "text": [
      "[Parallel(n_jobs=-1)]: Using backend ThreadingBackend with 4 concurrent workers.\n",
      "[Parallel(n_jobs=-1)]: Done  42 tasks      | elapsed:    0.1s\n",
      "[Parallel(n_jobs=-1)]: Done 100 out of 100 | elapsed:    0.2s finished\n"
     ]
    },
    {
     "name": "stdout",
     "output_type": "stream",
     "text": [
      "Fitting estimator with 62 features.\n"
     ]
    },
    {
     "name": "stderr",
     "output_type": "stream",
     "text": [
      "[Parallel(n_jobs=-1)]: Using backend ThreadingBackend with 4 concurrent workers.\n",
      "[Parallel(n_jobs=-1)]: Done  42 tasks      | elapsed:    0.1s\n",
      "[Parallel(n_jobs=-1)]: Done 100 out of 100 | elapsed:    0.2s finished\n"
     ]
    },
    {
     "name": "stdout",
     "output_type": "stream",
     "text": [
      "Fitting estimator with 61 features.\n"
     ]
    },
    {
     "name": "stderr",
     "output_type": "stream",
     "text": [
      "[Parallel(n_jobs=-1)]: Using backend ThreadingBackend with 4 concurrent workers.\n",
      "[Parallel(n_jobs=-1)]: Done  42 tasks      | elapsed:    0.1s\n",
      "[Parallel(n_jobs=-1)]: Done 100 out of 100 | elapsed:    0.2s finished\n"
     ]
    },
    {
     "name": "stdout",
     "output_type": "stream",
     "text": [
      "Fitting estimator with 60 features.\n"
     ]
    },
    {
     "name": "stderr",
     "output_type": "stream",
     "text": [
      "[Parallel(n_jobs=-1)]: Using backend ThreadingBackend with 4 concurrent workers.\n",
      "[Parallel(n_jobs=-1)]: Done  42 tasks      | elapsed:    0.1s\n",
      "[Parallel(n_jobs=-1)]: Done 100 out of 100 | elapsed:    0.2s finished\n"
     ]
    },
    {
     "name": "stdout",
     "output_type": "stream",
     "text": [
      "Fitting estimator with 59 features.\n"
     ]
    },
    {
     "name": "stderr",
     "output_type": "stream",
     "text": [
      "[Parallel(n_jobs=-1)]: Using backend ThreadingBackend with 4 concurrent workers.\n",
      "[Parallel(n_jobs=-1)]: Done  42 tasks      | elapsed:    0.1s\n",
      "[Parallel(n_jobs=-1)]: Done 100 out of 100 | elapsed:    0.2s finished\n"
     ]
    },
    {
     "name": "stdout",
     "output_type": "stream",
     "text": [
      "Fitting estimator with 58 features.\n"
     ]
    },
    {
     "name": "stderr",
     "output_type": "stream",
     "text": [
      "[Parallel(n_jobs=-1)]: Using backend ThreadingBackend with 4 concurrent workers.\n",
      "[Parallel(n_jobs=-1)]: Done  42 tasks      | elapsed:    0.1s\n",
      "[Parallel(n_jobs=-1)]: Done 100 out of 100 | elapsed:    0.2s finished\n"
     ]
    },
    {
     "name": "stdout",
     "output_type": "stream",
     "text": [
      "Fitting estimator with 57 features.\n"
     ]
    },
    {
     "name": "stderr",
     "output_type": "stream",
     "text": [
      "[Parallel(n_jobs=-1)]: Using backend ThreadingBackend with 4 concurrent workers.\n",
      "[Parallel(n_jobs=-1)]: Done  42 tasks      | elapsed:    0.1s\n",
      "[Parallel(n_jobs=-1)]: Done 100 out of 100 | elapsed:    0.2s finished\n"
     ]
    },
    {
     "name": "stdout",
     "output_type": "stream",
     "text": [
      "Fitting estimator with 56 features.\n"
     ]
    },
    {
     "name": "stderr",
     "output_type": "stream",
     "text": [
      "[Parallel(n_jobs=-1)]: Using backend ThreadingBackend with 4 concurrent workers.\n",
      "[Parallel(n_jobs=-1)]: Done  42 tasks      | elapsed:    0.1s\n",
      "[Parallel(n_jobs=-1)]: Done 100 out of 100 | elapsed:    0.2s finished\n"
     ]
    },
    {
     "name": "stdout",
     "output_type": "stream",
     "text": [
      "Fitting estimator with 55 features.\n"
     ]
    },
    {
     "name": "stderr",
     "output_type": "stream",
     "text": [
      "[Parallel(n_jobs=-1)]: Using backend ThreadingBackend with 4 concurrent workers.\n",
      "[Parallel(n_jobs=-1)]: Done  42 tasks      | elapsed:    0.1s\n",
      "[Parallel(n_jobs=-1)]: Done 100 out of 100 | elapsed:    0.2s finished\n"
     ]
    },
    {
     "name": "stdout",
     "output_type": "stream",
     "text": [
      "Fitting estimator with 54 features.\n"
     ]
    },
    {
     "name": "stderr",
     "output_type": "stream",
     "text": [
      "[Parallel(n_jobs=-1)]: Using backend ThreadingBackend with 4 concurrent workers.\n",
      "[Parallel(n_jobs=-1)]: Done  42 tasks      | elapsed:    0.1s\n",
      "[Parallel(n_jobs=-1)]: Done 100 out of 100 | elapsed:    0.3s finished\n"
     ]
    },
    {
     "name": "stdout",
     "output_type": "stream",
     "text": [
      "Fitting estimator with 53 features.\n"
     ]
    },
    {
     "name": "stderr",
     "output_type": "stream",
     "text": [
      "[Parallel(n_jobs=-1)]: Using backend ThreadingBackend with 4 concurrent workers.\n",
      "[Parallel(n_jobs=-1)]: Done  42 tasks      | elapsed:    0.2s\n",
      "[Parallel(n_jobs=-1)]: Done 100 out of 100 | elapsed:    0.6s finished\n"
     ]
    },
    {
     "name": "stdout",
     "output_type": "stream",
     "text": [
      "Fitting estimator with 52 features.\n"
     ]
    },
    {
     "name": "stderr",
     "output_type": "stream",
     "text": [
      "[Parallel(n_jobs=-1)]: Using backend ThreadingBackend with 4 concurrent workers.\n",
      "[Parallel(n_jobs=-1)]: Done  42 tasks      | elapsed:    0.2s\n",
      "[Parallel(n_jobs=-1)]: Done 100 out of 100 | elapsed:    0.4s finished\n"
     ]
    },
    {
     "name": "stdout",
     "output_type": "stream",
     "text": [
      "Fitting estimator with 51 features.\n"
     ]
    },
    {
     "name": "stderr",
     "output_type": "stream",
     "text": [
      "[Parallel(n_jobs=-1)]: Using backend ThreadingBackend with 4 concurrent workers.\n",
      "[Parallel(n_jobs=-1)]: Done  42 tasks      | elapsed:    0.1s\n",
      "[Parallel(n_jobs=-1)]: Done 100 out of 100 | elapsed:    0.2s finished\n"
     ]
    },
    {
     "name": "stdout",
     "output_type": "stream",
     "text": [
      "Fitting estimator with 50 features.\n"
     ]
    },
    {
     "name": "stderr",
     "output_type": "stream",
     "text": [
      "[Parallel(n_jobs=-1)]: Using backend ThreadingBackend with 4 concurrent workers.\n",
      "[Parallel(n_jobs=-1)]: Done  42 tasks      | elapsed:    0.1s\n",
      "[Parallel(n_jobs=-1)]: Done 100 out of 100 | elapsed:    0.2s finished\n"
     ]
    },
    {
     "name": "stdout",
     "output_type": "stream",
     "text": [
      "Fitting estimator with 49 features.\n"
     ]
    },
    {
     "name": "stderr",
     "output_type": "stream",
     "text": [
      "[Parallel(n_jobs=-1)]: Using backend ThreadingBackend with 4 concurrent workers.\n",
      "[Parallel(n_jobs=-1)]: Done  42 tasks      | elapsed:    0.1s\n",
      "[Parallel(n_jobs=-1)]: Done 100 out of 100 | elapsed:    0.2s finished\n"
     ]
    },
    {
     "name": "stdout",
     "output_type": "stream",
     "text": [
      "Fitting estimator with 48 features.\n"
     ]
    },
    {
     "name": "stderr",
     "output_type": "stream",
     "text": [
      "[Parallel(n_jobs=-1)]: Using backend ThreadingBackend with 4 concurrent workers.\n",
      "[Parallel(n_jobs=-1)]: Done  42 tasks      | elapsed:    0.1s\n",
      "[Parallel(n_jobs=-1)]: Done 100 out of 100 | elapsed:    0.1s finished\n"
     ]
    },
    {
     "name": "stdout",
     "output_type": "stream",
     "text": [
      "Fitting estimator with 47 features.\n"
     ]
    },
    {
     "name": "stderr",
     "output_type": "stream",
     "text": [
      "[Parallel(n_jobs=-1)]: Using backend ThreadingBackend with 4 concurrent workers.\n",
      "[Parallel(n_jobs=-1)]: Done  42 tasks      | elapsed:    0.1s\n",
      "[Parallel(n_jobs=-1)]: Done 100 out of 100 | elapsed:    0.2s finished\n"
     ]
    },
    {
     "name": "stdout",
     "output_type": "stream",
     "text": [
      "Fitting estimator with 46 features.\n"
     ]
    },
    {
     "name": "stderr",
     "output_type": "stream",
     "text": [
      "[Parallel(n_jobs=-1)]: Using backend ThreadingBackend with 4 concurrent workers.\n",
      "[Parallel(n_jobs=-1)]: Done  42 tasks      | elapsed:    0.1s\n",
      "[Parallel(n_jobs=-1)]: Done 100 out of 100 | elapsed:    0.1s finished\n"
     ]
    },
    {
     "name": "stdout",
     "output_type": "stream",
     "text": [
      "Fitting estimator with 45 features.\n"
     ]
    },
    {
     "name": "stderr",
     "output_type": "stream",
     "text": [
      "[Parallel(n_jobs=-1)]: Using backend ThreadingBackend with 4 concurrent workers.\n",
      "[Parallel(n_jobs=-1)]: Done  42 tasks      | elapsed:    0.1s\n",
      "[Parallel(n_jobs=-1)]: Done 100 out of 100 | elapsed:    0.1s finished\n"
     ]
    },
    {
     "name": "stdout",
     "output_type": "stream",
     "text": [
      "Fitting estimator with 44 features.\n"
     ]
    },
    {
     "name": "stderr",
     "output_type": "stream",
     "text": [
      "[Parallel(n_jobs=-1)]: Using backend ThreadingBackend with 4 concurrent workers.\n",
      "[Parallel(n_jobs=-1)]: Done  42 tasks      | elapsed:    0.1s\n",
      "[Parallel(n_jobs=-1)]: Done 100 out of 100 | elapsed:    0.1s finished\n"
     ]
    },
    {
     "name": "stdout",
     "output_type": "stream",
     "text": [
      "Fitting estimator with 43 features.\n"
     ]
    },
    {
     "name": "stderr",
     "output_type": "stream",
     "text": [
      "[Parallel(n_jobs=-1)]: Using backend ThreadingBackend with 4 concurrent workers.\n",
      "[Parallel(n_jobs=-1)]: Done  42 tasks      | elapsed:    0.1s\n",
      "[Parallel(n_jobs=-1)]: Done 100 out of 100 | elapsed:    0.2s finished\n"
     ]
    },
    {
     "name": "stdout",
     "output_type": "stream",
     "text": [
      "Fitting estimator with 42 features.\n"
     ]
    },
    {
     "name": "stderr",
     "output_type": "stream",
     "text": [
      "[Parallel(n_jobs=-1)]: Using backend ThreadingBackend with 4 concurrent workers.\n",
      "[Parallel(n_jobs=-1)]: Done  42 tasks      | elapsed:    0.1s\n",
      "[Parallel(n_jobs=-1)]: Done 100 out of 100 | elapsed:    0.1s finished\n"
     ]
    },
    {
     "name": "stdout",
     "output_type": "stream",
     "text": [
      "Fitting estimator with 41 features.\n"
     ]
    },
    {
     "name": "stderr",
     "output_type": "stream",
     "text": [
      "[Parallel(n_jobs=-1)]: Using backend ThreadingBackend with 4 concurrent workers.\n",
      "[Parallel(n_jobs=-1)]: Done  42 tasks      | elapsed:    0.1s\n",
      "[Parallel(n_jobs=-1)]: Done 100 out of 100 | elapsed:    0.1s finished\n"
     ]
    },
    {
     "name": "stdout",
     "output_type": "stream",
     "text": [
      "Fitting estimator with 40 features.\n"
     ]
    },
    {
     "name": "stderr",
     "output_type": "stream",
     "text": [
      "[Parallel(n_jobs=-1)]: Using backend ThreadingBackend with 4 concurrent workers.\n",
      "[Parallel(n_jobs=-1)]: Done  42 tasks      | elapsed:    0.1s\n",
      "[Parallel(n_jobs=-1)]: Done 100 out of 100 | elapsed:    0.1s finished\n"
     ]
    },
    {
     "name": "stdout",
     "output_type": "stream",
     "text": [
      "Fitting estimator with 39 features.\n"
     ]
    },
    {
     "name": "stderr",
     "output_type": "stream",
     "text": [
      "[Parallel(n_jobs=-1)]: Using backend ThreadingBackend with 4 concurrent workers.\n",
      "[Parallel(n_jobs=-1)]: Done  42 tasks      | elapsed:    0.1s\n",
      "[Parallel(n_jobs=-1)]: Done 100 out of 100 | elapsed:    0.1s finished\n"
     ]
    },
    {
     "name": "stdout",
     "output_type": "stream",
     "text": [
      "Fitting estimator with 38 features.\n"
     ]
    },
    {
     "name": "stderr",
     "output_type": "stream",
     "text": [
      "[Parallel(n_jobs=-1)]: Using backend ThreadingBackend with 4 concurrent workers.\n",
      "[Parallel(n_jobs=-1)]: Done  42 tasks      | elapsed:    0.1s\n",
      "[Parallel(n_jobs=-1)]: Done 100 out of 100 | elapsed:    0.1s finished\n"
     ]
    },
    {
     "name": "stdout",
     "output_type": "stream",
     "text": [
      "Fitting estimator with 37 features.\n"
     ]
    },
    {
     "name": "stderr",
     "output_type": "stream",
     "text": [
      "[Parallel(n_jobs=-1)]: Using backend ThreadingBackend with 4 concurrent workers.\n",
      "[Parallel(n_jobs=-1)]: Done  42 tasks      | elapsed:    0.1s\n",
      "[Parallel(n_jobs=-1)]: Done 100 out of 100 | elapsed:    0.1s finished\n"
     ]
    },
    {
     "name": "stdout",
     "output_type": "stream",
     "text": [
      "Fitting estimator with 36 features.\n"
     ]
    },
    {
     "name": "stderr",
     "output_type": "stream",
     "text": [
      "[Parallel(n_jobs=-1)]: Using backend ThreadingBackend with 4 concurrent workers.\n",
      "[Parallel(n_jobs=-1)]: Done  42 tasks      | elapsed:    0.1s\n",
      "[Parallel(n_jobs=-1)]: Done 100 out of 100 | elapsed:    0.1s finished\n"
     ]
    },
    {
     "name": "stdout",
     "output_type": "stream",
     "text": [
      "Fitting estimator with 35 features.\n"
     ]
    },
    {
     "name": "stderr",
     "output_type": "stream",
     "text": [
      "[Parallel(n_jobs=-1)]: Using backend ThreadingBackend with 4 concurrent workers.\n",
      "[Parallel(n_jobs=-1)]: Done  42 tasks      | elapsed:    0.1s\n",
      "[Parallel(n_jobs=-1)]: Done 100 out of 100 | elapsed:    0.1s finished\n"
     ]
    },
    {
     "name": "stdout",
     "output_type": "stream",
     "text": [
      "Fitting estimator with 34 features.\n"
     ]
    },
    {
     "name": "stderr",
     "output_type": "stream",
     "text": [
      "[Parallel(n_jobs=-1)]: Using backend ThreadingBackend with 4 concurrent workers.\n",
      "[Parallel(n_jobs=-1)]: Done  42 tasks      | elapsed:    0.1s\n",
      "[Parallel(n_jobs=-1)]: Done 100 out of 100 | elapsed:    0.1s finished\n"
     ]
    },
    {
     "name": "stdout",
     "output_type": "stream",
     "text": [
      "Fitting estimator with 33 features.\n"
     ]
    },
    {
     "name": "stderr",
     "output_type": "stream",
     "text": [
      "[Parallel(n_jobs=-1)]: Using backend ThreadingBackend with 4 concurrent workers.\n",
      "[Parallel(n_jobs=-1)]: Done  42 tasks      | elapsed:    0.1s\n",
      "[Parallel(n_jobs=-1)]: Done 100 out of 100 | elapsed:    0.1s finished\n"
     ]
    },
    {
     "name": "stdout",
     "output_type": "stream",
     "text": [
      "Fitting estimator with 32 features.\n"
     ]
    },
    {
     "name": "stderr",
     "output_type": "stream",
     "text": [
      "[Parallel(n_jobs=-1)]: Using backend ThreadingBackend with 4 concurrent workers.\n",
      "[Parallel(n_jobs=-1)]: Done  42 tasks      | elapsed:    0.1s\n",
      "[Parallel(n_jobs=-1)]: Done 100 out of 100 | elapsed:    0.2s finished\n"
     ]
    },
    {
     "name": "stdout",
     "output_type": "stream",
     "text": [
      "Fitting estimator with 31 features.\n"
     ]
    },
    {
     "name": "stderr",
     "output_type": "stream",
     "text": [
      "[Parallel(n_jobs=-1)]: Using backend ThreadingBackend with 4 concurrent workers.\n",
      "[Parallel(n_jobs=-1)]: Done  42 tasks      | elapsed:    0.1s\n",
      "[Parallel(n_jobs=-1)]: Done 100 out of 100 | elapsed:    0.1s finished\n"
     ]
    },
    {
     "name": "stdout",
     "output_type": "stream",
     "text": [
      "Fitting estimator with 30 features.\n"
     ]
    },
    {
     "name": "stderr",
     "output_type": "stream",
     "text": [
      "[Parallel(n_jobs=-1)]: Using backend ThreadingBackend with 4 concurrent workers.\n",
      "[Parallel(n_jobs=-1)]: Done  42 tasks      | elapsed:    0.1s\n",
      "[Parallel(n_jobs=-1)]: Done 100 out of 100 | elapsed:    0.1s finished\n"
     ]
    },
    {
     "name": "stdout",
     "output_type": "stream",
     "text": [
      "Fitting estimator with 29 features.\n"
     ]
    },
    {
     "name": "stderr",
     "output_type": "stream",
     "text": [
      "[Parallel(n_jobs=-1)]: Using backend ThreadingBackend with 4 concurrent workers.\n",
      "[Parallel(n_jobs=-1)]: Done  42 tasks      | elapsed:    0.1s\n",
      "[Parallel(n_jobs=-1)]: Done 100 out of 100 | elapsed:    0.1s finished\n"
     ]
    },
    {
     "name": "stdout",
     "output_type": "stream",
     "text": [
      "Fitting estimator with 28 features.\n"
     ]
    },
    {
     "name": "stderr",
     "output_type": "stream",
     "text": [
      "[Parallel(n_jobs=-1)]: Using backend ThreadingBackend with 4 concurrent workers.\n",
      "[Parallel(n_jobs=-1)]: Done  42 tasks      | elapsed:    0.1s\n",
      "[Parallel(n_jobs=-1)]: Done 100 out of 100 | elapsed:    0.1s finished\n"
     ]
    },
    {
     "name": "stdout",
     "output_type": "stream",
     "text": [
      "Fitting estimator with 27 features.\n"
     ]
    },
    {
     "name": "stderr",
     "output_type": "stream",
     "text": [
      "[Parallel(n_jobs=-1)]: Using backend ThreadingBackend with 4 concurrent workers.\n",
      "[Parallel(n_jobs=-1)]: Done  42 tasks      | elapsed:    0.1s\n",
      "[Parallel(n_jobs=-1)]: Done 100 out of 100 | elapsed:    0.1s finished\n"
     ]
    },
    {
     "name": "stdout",
     "output_type": "stream",
     "text": [
      "Fitting estimator with 26 features.\n"
     ]
    },
    {
     "name": "stderr",
     "output_type": "stream",
     "text": [
      "[Parallel(n_jobs=-1)]: Using backend ThreadingBackend with 4 concurrent workers.\n",
      "[Parallel(n_jobs=-1)]: Done  42 tasks      | elapsed:    0.1s\n",
      "[Parallel(n_jobs=-1)]: Done 100 out of 100 | elapsed:    0.1s finished\n"
     ]
    },
    {
     "name": "stdout",
     "output_type": "stream",
     "text": [
      "Fitting estimator with 25 features.\n"
     ]
    },
    {
     "name": "stderr",
     "output_type": "stream",
     "text": [
      "[Parallel(n_jobs=-1)]: Using backend ThreadingBackend with 4 concurrent workers.\n",
      "[Parallel(n_jobs=-1)]: Done  42 tasks      | elapsed:    0.1s\n",
      "[Parallel(n_jobs=-1)]: Done 100 out of 100 | elapsed:    0.1s finished\n"
     ]
    },
    {
     "name": "stdout",
     "output_type": "stream",
     "text": [
      "Fitting estimator with 24 features.\n"
     ]
    },
    {
     "name": "stderr",
     "output_type": "stream",
     "text": [
      "[Parallel(n_jobs=-1)]: Using backend ThreadingBackend with 4 concurrent workers.\n",
      "[Parallel(n_jobs=-1)]: Done  42 tasks      | elapsed:    0.1s\n",
      "[Parallel(n_jobs=-1)]: Done 100 out of 100 | elapsed:    0.1s finished\n"
     ]
    },
    {
     "name": "stdout",
     "output_type": "stream",
     "text": [
      "Fitting estimator with 23 features.\n"
     ]
    },
    {
     "name": "stderr",
     "output_type": "stream",
     "text": [
      "[Parallel(n_jobs=-1)]: Using backend ThreadingBackend with 4 concurrent workers.\n",
      "[Parallel(n_jobs=-1)]: Done  42 tasks      | elapsed:    0.1s\n",
      "[Parallel(n_jobs=-1)]: Done 100 out of 100 | elapsed:    0.1s finished\n"
     ]
    },
    {
     "name": "stdout",
     "output_type": "stream",
     "text": [
      "Fitting estimator with 22 features.\n"
     ]
    },
    {
     "name": "stderr",
     "output_type": "stream",
     "text": [
      "[Parallel(n_jobs=-1)]: Using backend ThreadingBackend with 4 concurrent workers.\n",
      "[Parallel(n_jobs=-1)]: Done  42 tasks      | elapsed:    0.1s\n",
      "[Parallel(n_jobs=-1)]: Done 100 out of 100 | elapsed:    0.1s finished\n"
     ]
    },
    {
     "name": "stdout",
     "output_type": "stream",
     "text": [
      "Fitting estimator with 21 features.\n"
     ]
    },
    {
     "name": "stderr",
     "output_type": "stream",
     "text": [
      "[Parallel(n_jobs=-1)]: Using backend ThreadingBackend with 4 concurrent workers.\n",
      "[Parallel(n_jobs=-1)]: Done  42 tasks      | elapsed:    0.1s\n",
      "[Parallel(n_jobs=-1)]: Done 100 out of 100 | elapsed:    0.1s finished\n"
     ]
    },
    {
     "name": "stdout",
     "output_type": "stream",
     "text": [
      "Fitting estimator with 20 features.\n"
     ]
    },
    {
     "name": "stderr",
     "output_type": "stream",
     "text": [
      "[Parallel(n_jobs=-1)]: Using backend ThreadingBackend with 4 concurrent workers.\n",
      "[Parallel(n_jobs=-1)]: Done  42 tasks      | elapsed:    0.1s\n",
      "[Parallel(n_jobs=-1)]: Done 100 out of 100 | elapsed:    0.1s finished\n"
     ]
    },
    {
     "name": "stdout",
     "output_type": "stream",
     "text": [
      "Fitting estimator with 19 features.\n"
     ]
    },
    {
     "name": "stderr",
     "output_type": "stream",
     "text": [
      "[Parallel(n_jobs=-1)]: Using backend ThreadingBackend with 4 concurrent workers.\n",
      "[Parallel(n_jobs=-1)]: Done  42 tasks      | elapsed:    0.1s\n",
      "[Parallel(n_jobs=-1)]: Done 100 out of 100 | elapsed:    0.2s finished\n"
     ]
    },
    {
     "name": "stdout",
     "output_type": "stream",
     "text": [
      "Fitting estimator with 18 features.\n"
     ]
    },
    {
     "name": "stderr",
     "output_type": "stream",
     "text": [
      "[Parallel(n_jobs=-1)]: Using backend ThreadingBackend with 4 concurrent workers.\n",
      "[Parallel(n_jobs=-1)]: Done  42 tasks      | elapsed:    0.1s\n",
      "[Parallel(n_jobs=-1)]: Done 100 out of 100 | elapsed:    0.2s finished\n"
     ]
    },
    {
     "name": "stdout",
     "output_type": "stream",
     "text": [
      "Fitting estimator with 17 features.\n"
     ]
    },
    {
     "name": "stderr",
     "output_type": "stream",
     "text": [
      "[Parallel(n_jobs=-1)]: Using backend ThreadingBackend with 4 concurrent workers.\n",
      "[Parallel(n_jobs=-1)]: Done  42 tasks      | elapsed:    0.1s\n",
      "[Parallel(n_jobs=-1)]: Done 100 out of 100 | elapsed:    0.2s finished\n"
     ]
    },
    {
     "name": "stdout",
     "output_type": "stream",
     "text": [
      "Fitting estimator with 16 features.\n"
     ]
    },
    {
     "name": "stderr",
     "output_type": "stream",
     "text": [
      "[Parallel(n_jobs=-1)]: Using backend ThreadingBackend with 4 concurrent workers.\n",
      "[Parallel(n_jobs=-1)]: Done  42 tasks      | elapsed:    0.1s\n",
      "[Parallel(n_jobs=-1)]: Done 100 out of 100 | elapsed:    0.1s finished\n"
     ]
    },
    {
     "name": "stdout",
     "output_type": "stream",
     "text": [
      "Fitting estimator with 15 features.\n"
     ]
    },
    {
     "name": "stderr",
     "output_type": "stream",
     "text": [
      "[Parallel(n_jobs=-1)]: Using backend ThreadingBackend with 4 concurrent workers.\n",
      "[Parallel(n_jobs=-1)]: Done  42 tasks      | elapsed:    0.1s\n",
      "[Parallel(n_jobs=-1)]: Done 100 out of 100 | elapsed:    0.1s finished\n"
     ]
    },
    {
     "name": "stdout",
     "output_type": "stream",
     "text": [
      "Fitting estimator with 14 features.\n"
     ]
    },
    {
     "name": "stderr",
     "output_type": "stream",
     "text": [
      "[Parallel(n_jobs=-1)]: Using backend ThreadingBackend with 4 concurrent workers.\n",
      "[Parallel(n_jobs=-1)]: Done  42 tasks      | elapsed:    0.1s\n",
      "[Parallel(n_jobs=-1)]: Done 100 out of 100 | elapsed:    0.1s finished\n"
     ]
    },
    {
     "name": "stdout",
     "output_type": "stream",
     "text": [
      "Fitting estimator with 13 features.\n"
     ]
    },
    {
     "name": "stderr",
     "output_type": "stream",
     "text": [
      "[Parallel(n_jobs=-1)]: Using backend ThreadingBackend with 4 concurrent workers.\n",
      "[Parallel(n_jobs=-1)]: Done  42 tasks      | elapsed:    0.1s\n",
      "[Parallel(n_jobs=-1)]: Done 100 out of 100 | elapsed:    0.1s finished\n",
      "[Parallel(n_jobs=-1)]: Using backend ThreadingBackend with 4 concurrent workers.\n",
      "[Parallel(n_jobs=-1)]: Done  42 tasks      | elapsed:    0.1s\n",
      "[Parallel(n_jobs=-1)]: Done 100 out of 100 | elapsed:    0.1s finished\n",
      "[Parallel(n_jobs=-1)]: Using backend ThreadingBackend with 4 concurrent workers.\n",
      "[Parallel(n_jobs=-1)]: Done  42 tasks      | elapsed:    0.1s\n",
      "[Parallel(n_jobs=-1)]: Done 100 out of 100 | elapsed:    0.1s finished\n"
     ]
    },
    {
     "name": "stdout",
     "output_type": "stream",
     "text": [
      "3\n",
      "['Abinote', 'mean_BFI_K_V', 'mean_LMI']\n",
      "12\n",
      "['Abinote', 'Kurs_Inf', 'LMI_3', 'LMI_6', 'LMI_8', 'SKInf_1', 'SKMat_1', 'mean_BFI_K_G', 'mean_BFI_K_V', 'mean_LMI', 'mean_SKInf', 'mean_SKMat']\n",
      "F1  beste\n",
      "Fitting 5 folds for each of 10080 candidates, totalling 50400 fits\n"
     ]
    },
    {
     "name": "stderr",
     "output_type": "stream",
     "text": [
      "[Parallel(n_jobs=-1)]: Using backend LokyBackend with 4 concurrent workers.\n",
      "[Parallel(n_jobs=-1)]: Done 1096 tasks      | elapsed:    2.3s\n",
      "[Parallel(n_jobs=-1)]: Done 5896 tasks      | elapsed:   11.4s\n",
      "[Parallel(n_jobs=-1)]: Done 13896 tasks      | elapsed:   26.7s\n",
      "[Parallel(n_jobs=-1)]: Done 25096 tasks      | elapsed:   48.7s\n",
      "[Parallel(n_jobs=-1)]: Done 39496 tasks      | elapsed:  1.3min\n",
      "[Parallel(n_jobs=-1)]: Done 50400 out of 50400 | elapsed:  1.7min finished\n"
     ]
    },
    {
     "name": "stdout",
     "output_type": "stream",
     "text": [
      "Best parameter for F1 (CV score=0.6418):\n",
      "{'criterion': 'gini', 'max_depth': 15, 'max_features': 0.25, 'max_leaf_nodes': 30, 'min_samples_leaf': 1, 'min_samples_split': 2}\n",
      "Scores: [0.66666667 0.69230769 0.6        0.66666667 0.58333333]\n",
      "Mean: 0.6417948717948717\n",
      "Standard deviation: 0.042316238453079455\n",
      "0\n",
      "100\n",
      "200\n",
      "300\n",
      "400\n",
      "500\n",
      "600\n",
      "700\n",
      "800\n",
      "900\n"
     ]
    },
    {
     "data": {
      "image/png": "[encoded data removed]",
      "text/plain": [
       "<Figure size 432x288 with 1 Axes>"
      ]
     },
     "metadata": {
      "needs_background": "light"
     },
     "output_type": "display_data"
    },
    {
     "name": "stdout",
     "output_type": "stream",
     "text": [
      "95.0% confidence interval from 15.09% to 46.38%\n",
      "AUC  beste\n",
      "Fitting 5 folds for each of 10080 candidates, totalling 50400 fits\n"
     ]
    },
    {
     "name": "stderr",
     "output_type": "stream",
     "text": [
      "[Parallel(n_jobs=-1)]: Using backend LokyBackend with 4 concurrent workers.\n",
      "[Parallel(n_jobs=-1)]: Done 824 tasks      | elapsed:    2.1s\n",
      "[Parallel(n_jobs=-1)]: Done 4424 tasks      | elapsed:   10.5s\n",
      "[Parallel(n_jobs=-1)]: Done 10424 tasks      | elapsed:   24.3s\n",
      "[Parallel(n_jobs=-1)]: Done 18824 tasks      | elapsed:   48.1s\n",
      "[Parallel(n_jobs=-1)]: Done 29624 tasks      | elapsed:  1.3min\n",
      "[Parallel(n_jobs=-1)]: Done 42824 tasks      | elapsed:  1.8min\n",
      "[Parallel(n_jobs=-1)]: Done 50400 out of 50400 | elapsed:  2.1min finished\n"
     ]
    },
    {
     "name": "stdout",
     "output_type": "stream",
     "text": [
      "Best parameter for AUC (CV score=0.7671):\n",
      "{'criterion': 'gini', 'max_depth': 5, 'max_features': 0.25, 'max_leaf_nodes': 10, 'min_samples_leaf': 3, 'min_samples_split': 10}\n",
      "Scores: [0.7987013  0.71103896 0.85064935 0.725      0.75      ]\n",
      "Mean: 0.767077922077922\n",
      "Standard deviation: 0.051355221206328704\n",
      "0\n",
      "100\n",
      "200\n",
      "300\n",
      "400\n",
      "500\n",
      "600\n",
      "700\n",
      "800\n",
      "900\n"
     ]
    },
    {
     "data": {
      "image/png": "[encoded data removed]",
      "text/plain": [
       "<Figure size 432x288 with 1 Axes>"
      ]
     },
     "metadata": {
      "needs_background": "light"
     },
     "output_type": "display_data"
    },
    {
     "name": "stdout",
     "output_type": "stream",
     "text": [
      "95.0% confidence interval from 0.4580 to 0.6454\n",
      "================\n",
      "Scenario:  6\n",
      "Methode:  RFE\n",
      "Fitting estimator with 85 features.\n"
     ]
    },
    {
     "name": "stderr",
     "output_type": "stream",
     "text": [
      "[Parallel(n_jobs=-1)]: Using backend ThreadingBackend with 4 concurrent workers.\n",
      "[Parallel(n_jobs=-1)]: Done  42 tasks      | elapsed:    0.1s\n",
      "[Parallel(n_jobs=-1)]: Done 100 out of 100 | elapsed:    0.2s finished\n"
     ]
    },
    {
     "name": "stdout",
     "output_type": "stream",
     "text": [
      "Fitting estimator with 84 features.\n"
     ]
    },
    {
     "name": "stderr",
     "output_type": "stream",
     "text": [
      "[Parallel(n_jobs=-1)]: Using backend ThreadingBackend with 4 concurrent workers.\n",
      "[Parallel(n_jobs=-1)]: Done  42 tasks      | elapsed:    0.1s\n",
      "[Parallel(n_jobs=-1)]: Done 100 out of 100 | elapsed:    0.2s finished\n"
     ]
    },
    {
     "name": "stdout",
     "output_type": "stream",
     "text": [
      "Fitting estimator with 83 features.\n"
     ]
    },
    {
     "name": "stderr",
     "output_type": "stream",
     "text": [
      "[Parallel(n_jobs=-1)]: Using backend ThreadingBackend with 4 concurrent workers.\n",
      "[Parallel(n_jobs=-1)]: Done  42 tasks      | elapsed:    0.1s\n",
      "[Parallel(n_jobs=-1)]: Done 100 out of 100 | elapsed:    0.2s finished\n"
     ]
    },
    {
     "name": "stdout",
     "output_type": "stream",
     "text": [
      "Fitting estimator with 82 features.\n"
     ]
    },
    {
     "name": "stderr",
     "output_type": "stream",
     "text": [
      "[Parallel(n_jobs=-1)]: Using backend ThreadingBackend with 4 concurrent workers.\n",
      "[Parallel(n_jobs=-1)]: Done  42 tasks      | elapsed:    0.1s\n",
      "[Parallel(n_jobs=-1)]: Done 100 out of 100 | elapsed:    0.1s finished\n"
     ]
    },
    {
     "name": "stdout",
     "output_type": "stream",
     "text": [
      "Fitting estimator with 81 features.\n"
     ]
    },
    {
     "name": "stderr",
     "output_type": "stream",
     "text": [
      "[Parallel(n_jobs=-1)]: Using backend ThreadingBackend with 4 concurrent workers.\n",
      "[Parallel(n_jobs=-1)]: Done  42 tasks      | elapsed:    0.1s\n",
      "[Parallel(n_jobs=-1)]: Done 100 out of 100 | elapsed:    0.1s finished\n"
     ]
    },
    {
     "name": "stdout",
     "output_type": "stream",
     "text": [
      "Fitting estimator with 80 features.\n"
     ]
    },
    {
     "name": "stderr",
     "output_type": "stream",
     "text": [
      "[Parallel(n_jobs=-1)]: Using backend ThreadingBackend with 4 concurrent workers.\n",
      "[Parallel(n_jobs=-1)]: Done  42 tasks      | elapsed:    0.1s\n",
      "[Parallel(n_jobs=-1)]: Done 100 out of 100 | elapsed:    0.1s finished\n"
     ]
    },
    {
     "name": "stdout",
     "output_type": "stream",
     "text": [
      "Fitting estimator with 79 features.\n"
     ]
    },
    {
     "name": "stderr",
     "output_type": "stream",
     "text": [
      "[Parallel(n_jobs=-1)]: Using backend ThreadingBackend with 4 concurrent workers.\n",
      "[Parallel(n_jobs=-1)]: Done  42 tasks      | elapsed:    0.1s\n",
      "[Parallel(n_jobs=-1)]: Done 100 out of 100 | elapsed:    0.2s finished\n"
     ]
    },
    {
     "name": "stdout",
     "output_type": "stream",
     "text": [
      "Fitting estimator with 78 features.\n"
     ]
    },
    {
     "name": "stderr",
     "output_type": "stream",
     "text": [
      "[Parallel(n_jobs=-1)]: Using backend ThreadingBackend with 4 concurrent workers.\n",
      "[Parallel(n_jobs=-1)]: Done  42 tasks      | elapsed:    0.1s\n",
      "[Parallel(n_jobs=-1)]: Done 100 out of 100 | elapsed:    0.1s finished\n"
     ]
    },
    {
     "name": "stdout",
     "output_type": "stream",
     "text": [
      "Fitting estimator with 77 features.\n"
     ]
    },
    {
     "name": "stderr",
     "output_type": "stream",
     "text": [
      "[Parallel(n_jobs=-1)]: Using backend ThreadingBackend with 4 concurrent workers.\n",
      "[Parallel(n_jobs=-1)]: Done  42 tasks      | elapsed:    0.1s\n",
      "[Parallel(n_jobs=-1)]: Done 100 out of 100 | elapsed:    0.1s finished\n"
     ]
    },
    {
     "name": "stdout",
     "output_type": "stream",
     "text": [
      "Fitting estimator with 76 features.\n"
     ]
    },
    {
     "name": "stderr",
     "output_type": "stream",
     "text": [
      "[Parallel(n_jobs=-1)]: Using backend ThreadingBackend with 4 concurrent workers.\n",
      "[Parallel(n_jobs=-1)]: Done  42 tasks      | elapsed:    0.1s\n",
      "[Parallel(n_jobs=-1)]: Done 100 out of 100 | elapsed:    0.1s finished\n"
     ]
    },
    {
     "name": "stdout",
     "output_type": "stream",
     "text": [
      "Fitting estimator with 75 features.\n"
     ]
    },
    {
     "name": "stderr",
     "output_type": "stream",
     "text": [
      "[Parallel(n_jobs=-1)]: Using backend ThreadingBackend with 4 concurrent workers.\n",
      "[Parallel(n_jobs=-1)]: Done  42 tasks      | elapsed:    0.1s\n",
      "[Parallel(n_jobs=-1)]: Done 100 out of 100 | elapsed:    0.1s finished\n"
     ]
    },
    {
     "name": "stdout",
     "output_type": "stream",
     "text": [
      "Fitting estimator with 74 features.\n"
     ]
    },
    {
     "name": "stderr",
     "output_type": "stream",
     "text": [
      "[Parallel(n_jobs=-1)]: Using backend ThreadingBackend with 4 concurrent workers.\n",
      "[Parallel(n_jobs=-1)]: Done  42 tasks      | elapsed:    0.1s\n",
      "[Parallel(n_jobs=-1)]: Done 100 out of 100 | elapsed:    0.1s finished\n"
     ]
    },
    {
     "name": "stdout",
     "output_type": "stream",
     "text": [
      "Fitting estimator with 73 features.\n"
     ]
    },
    {
     "name": "stderr",
     "output_type": "stream",
     "text": [
      "[Parallel(n_jobs=-1)]: Using backend ThreadingBackend with 4 concurrent workers.\n",
      "[Parallel(n_jobs=-1)]: Done  42 tasks      | elapsed:    0.1s\n",
      "[Parallel(n_jobs=-1)]: Done 100 out of 100 | elapsed:    0.1s finished\n"
     ]
    },
    {
     "name": "stdout",
     "output_type": "stream",
     "text": [
      "Fitting estimator with 72 features.\n"
     ]
    },
    {
     "name": "stderr",
     "output_type": "stream",
     "text": [
      "[Parallel(n_jobs=-1)]: Using backend ThreadingBackend with 4 concurrent workers.\n",
      "[Parallel(n_jobs=-1)]: Done  42 tasks      | elapsed:    0.1s\n",
      "[Parallel(n_jobs=-1)]: Done 100 out of 100 | elapsed:    0.1s finished\n"
     ]
    },
    {
     "name": "stdout",
     "output_type": "stream",
     "text": [
      "Fitting estimator with 71 features.\n"
     ]
    },
    {
     "name": "stderr",
     "output_type": "stream",
     "text": [
      "[Parallel(n_jobs=-1)]: Using backend ThreadingBackend with 4 concurrent workers.\n",
      "[Parallel(n_jobs=-1)]: Done  42 tasks      | elapsed:    0.1s\n",
      "[Parallel(n_jobs=-1)]: Done 100 out of 100 | elapsed:    0.1s finished\n"
     ]
    },
    {
     "name": "stdout",
     "output_type": "stream",
     "text": [
      "Fitting estimator with 70 features.\n"
     ]
    },
    {
     "name": "stderr",
     "output_type": "stream",
     "text": [
      "[Parallel(n_jobs=-1)]: Using backend ThreadingBackend with 4 concurrent workers.\n",
      "[Parallel(n_jobs=-1)]: Done  42 tasks      | elapsed:    0.1s\n",
      "[Parallel(n_jobs=-1)]: Done 100 out of 100 | elapsed:    0.1s finished\n"
     ]
    },
    {
     "name": "stdout",
     "output_type": "stream",
     "text": [
      "Fitting estimator with 69 features.\n"
     ]
    },
    {
     "name": "stderr",
     "output_type": "stream",
     "text": [
      "[Parallel(n_jobs=-1)]: Using backend ThreadingBackend with 4 concurrent workers.\n",
      "[Parallel(n_jobs=-1)]: Done  42 tasks      | elapsed:    0.1s\n",
      "[Parallel(n_jobs=-1)]: Done 100 out of 100 | elapsed:    0.1s finished\n"
     ]
    },
    {
     "name": "stdout",
     "output_type": "stream",
     "text": [
      "Fitting estimator with 68 features.\n"
     ]
    },
    {
     "name": "stderr",
     "output_type": "stream",
     "text": [
      "[Parallel(n_jobs=-1)]: Using backend ThreadingBackend with 4 concurrent workers.\n",
      "[Parallel(n_jobs=-1)]: Done  42 tasks      | elapsed:    0.1s\n",
      "[Parallel(n_jobs=-1)]: Done 100 out of 100 | elapsed:    0.1s finished\n"
     ]
    },
    {
     "name": "stdout",
     "output_type": "stream",
     "text": [
      "Fitting estimator with 67 features.\n"
     ]
    },
    {
     "name": "stderr",
     "output_type": "stream",
     "text": [
      "[Parallel(n_jobs=-1)]: Using backend ThreadingBackend with 4 concurrent workers.\n",
      "[Parallel(n_jobs=-1)]: Done  42 tasks      | elapsed:    0.1s\n",
      "[Parallel(n_jobs=-1)]: Done 100 out of 100 | elapsed:    0.1s finished\n"
     ]
    },
    {
     "name": "stdout",
     "output_type": "stream",
     "text": [
      "Fitting estimator with 66 features.\n"
     ]
    },
    {
     "name": "stderr",
     "output_type": "stream",
     "text": [
      "[Parallel(n_jobs=-1)]: Using backend ThreadingBackend with 4 concurrent workers.\n",
      "[Parallel(n_jobs=-1)]: Done  42 tasks      | elapsed:    0.1s\n",
      "[Parallel(n_jobs=-1)]: Done 100 out of 100 | elapsed:    0.1s finished\n"
     ]
    },
    {
     "name": "stdout",
     "output_type": "stream",
     "text": [
      "Fitting estimator with 65 features.\n"
     ]
    },
    {
     "name": "stderr",
     "output_type": "stream",
     "text": [
      "[Parallel(n_jobs=-1)]: Using backend ThreadingBackend with 4 concurrent workers.\n",
      "[Parallel(n_jobs=-1)]: Done  42 tasks      | elapsed:    0.1s\n",
      "[Parallel(n_jobs=-1)]: Done 100 out of 100 | elapsed:    0.1s finished\n"
     ]
    },
    {
     "name": "stdout",
     "output_type": "stream",
     "text": [
      "Fitting estimator with 64 features.\n"
     ]
    },
    {
     "name": "stderr",
     "output_type": "stream",
     "text": [
      "[Parallel(n_jobs=-1)]: Using backend ThreadingBackend with 4 concurrent workers.\n",
      "[Parallel(n_jobs=-1)]: Done  42 tasks      | elapsed:    0.1s\n",
      "[Parallel(n_jobs=-1)]: Done 100 out of 100 | elapsed:    0.1s finished\n"
     ]
    },
    {
     "name": "stdout",
     "output_type": "stream",
     "text": [
      "Fitting estimator with 63 features.\n"
     ]
    },
    {
     "name": "stderr",
     "output_type": "stream",
     "text": [
      "[Parallel(n_jobs=-1)]: Using backend ThreadingBackend with 4 concurrent workers.\n",
      "[Parallel(n_jobs=-1)]: Done  42 tasks      | elapsed:    0.1s\n",
      "[Parallel(n_jobs=-1)]: Done 100 out of 100 | elapsed:    0.1s finished\n"
     ]
    },
    {
     "name": "stdout",
     "output_type": "stream",
     "text": [
      "Fitting estimator with 62 features.\n"
     ]
    },
    {
     "name": "stderr",
     "output_type": "stream",
     "text": [
      "[Parallel(n_jobs=-1)]: Using backend ThreadingBackend with 4 concurrent workers.\n",
      "[Parallel(n_jobs=-1)]: Done  42 tasks      | elapsed:    0.1s\n",
      "[Parallel(n_jobs=-1)]: Done 100 out of 100 | elapsed:    0.1s finished\n"
     ]
    },
    {
     "name": "stdout",
     "output_type": "stream",
     "text": [
      "Fitting estimator with 61 features.\n"
     ]
    },
    {
     "name": "stderr",
     "output_type": "stream",
     "text": [
      "[Parallel(n_jobs=-1)]: Using backend ThreadingBackend with 4 concurrent workers.\n",
      "[Parallel(n_jobs=-1)]: Done  42 tasks      | elapsed:    0.1s\n",
      "[Parallel(n_jobs=-1)]: Done 100 out of 100 | elapsed:    0.1s finished\n"
     ]
    },
    {
     "name": "stdout",
     "output_type": "stream",
     "text": [
      "Fitting estimator with 60 features.\n"
     ]
    },
    {
     "name": "stderr",
     "output_type": "stream",
     "text": [
      "[Parallel(n_jobs=-1)]: Using backend ThreadingBackend with 4 concurrent workers.\n",
      "[Parallel(n_jobs=-1)]: Done  42 tasks      | elapsed:    0.1s\n",
      "[Parallel(n_jobs=-1)]: Done 100 out of 100 | elapsed:    0.2s finished\n",
      "[Parallel(n_jobs=-1)]: Using backend ThreadingBackend with 4 concurrent workers.\n",
      "[Parallel(n_jobs=-1)]: Done  42 tasks      | elapsed:    0.1s\n",
      "[Parallel(n_jobs=-1)]: Done 100 out of 100 | elapsed:    0.2s finished\n",
      "[Parallel(n_jobs=-1)]: Using backend LokyBackend with 4 concurrent workers.\n"
     ]
    },
    {
     "name": "stdout",
     "output_type": "stream",
     "text": [
      "59\n",
      "['AbiBL', 'Abinote', 'BFI_K_11', 'BFI_K_12', 'BFI_K_14', 'BFI_K_17', 'BFI_K_19', 'BFI_K_2', 'BFI_K_6', 'BFI_K_7', 'BFI_K_9', 'BM_Inf_17', 'BM_Inf_18', 'BM_Inf_8', 'Ktyp_psych', 'Kurs_Inf', 'LMI_1', 'LMI_10', 'LMI_11', 'LMI_12', 'LMI_13', 'LMI_14', 'LMI_15', 'LMI_16', 'LMI_17', 'LMI_18', 'LMI_19', 'LMI_2', 'LMI_20', 'LMI_21', 'LMI_22', 'LMI_23', 'LMI_24', 'LMI_25', 'LMI_28', 'LMI_29', 'LMI_3', 'LMI_4', 'LMI_5', 'LMI_6', 'LMI_7', 'LMI_8', 'LMI_9', 'SKInf_1', 'SKInf_2', 'SKInf_3', 'SKInf_4', 'SKMat_1', 'SKMat_2', 'SKMat_3', 'SKMat_4', 'mean_BFI_K_E', 'mean_BFI_K_G', 'mean_BFI_K_N', 'mean_BFI_K_V', 'mean_LMI', 'mean_SKInf', 'mean_SKMat', 'Std_Inf']\n",
      "ACC  beide\n",
      "Fitting 5 folds for each of 10080 candidates, totalling 50400 fits\n"
     ]
    },
    {
     "name": "stderr",
     "output_type": "stream",
     "text": [
      "[Parallel(n_jobs=-1)]: Done 620 tasks      | elapsed:    1.6s\n",
      "[Parallel(n_jobs=-1)]: Done 3320 tasks      | elapsed:    7.4s\n",
      "[Parallel(n_jobs=-1)]: Done 7820 tasks      | elapsed:   17.4s\n",
      "[Parallel(n_jobs=-1)]: Done 14120 tasks      | elapsed:   29.2s\n",
      "[Parallel(n_jobs=-1)]: Done 22220 tasks      | elapsed:   44.4s\n",
      "[Parallel(n_jobs=-1)]: Done 32120 tasks      | elapsed:  1.1min\n",
      "[Parallel(n_jobs=-1)]: Done 43820 tasks      | elapsed:  1.4min\n",
      "[Parallel(n_jobs=-1)]: Done 50400 out of 50400 | elapsed:  1.6min finished\n"
     ]
    },
    {
     "name": "stdout",
     "output_type": "stream",
     "text": [
      "Best parameter for ACC (CV score=0.5329):\n",
      "{'criterion': 'gini', 'max_depth': 3, 'max_features': 0.5, 'max_leaf_nodes': 5, 'min_samples_leaf': 20, 'min_samples_split': 2}\n",
      "Scores: [0.45454545 0.54545455 0.54545455 0.61904762 0.5       ]\n",
      "Mean: 0.5329004329004329\n",
      "Standard deviation: 0.05469641721934922\n",
      "0\n",
      "100\n",
      "200\n",
      "300\n",
      "400\n",
      "500\n",
      "600\n",
      "700\n",
      "800\n",
      "900\n"
     ]
    },
    {
     "data": {
      "image/png": "[encoded data removed]",
      "text/plain": [
       "<Figure size 432x288 with 1 Axes>"
      ]
     },
     "metadata": {
      "needs_background": "light"
     },
     "output_type": "display_data"
    },
    {
     "name": "stdout",
     "output_type": "stream",
     "text": [
      "95.0% confidence interval from 30.00% to 57.70%\n",
      "Accuracy Trainingsdaten: [0.387434554973822, 0.47674418604651164, 0.7696335078534031, 0.7674418604651163, 0.9481865284974094, 0.5700934579439252, [0]]\n",
      "Accuracy Testdaten: [0.37349397590361444, 0.3684210526315789, 0.7108433734939759, 0.631578947368421, 0.5714285714285714, 0.46808510638297873, [0]]\n",
      "F1 Trainingsdaten: [[0], [0], 0.4054054054054055, 0.7297297297297296, 0.7826086956521738, [0], [0]]\n",
      "F1 Testdaten: [[0], [0], 0.4, 0.5625000000000001, 0.3404255319148936, [0], [0]]\n",
      "AUC Trainingsdaten: [[0], [0], 0.849080832657475, 0.8848739495798319, 0.859501347708895, [0], [0]]\n",
      "AUC Testdaten: [[0], [0], 0.653954802259887, 0.6279761904761905, 0.5420338983050847, [0], [0]]\n"
     ]
    }
   ],
   "source": [
    "#Classification\n",
    "dt_class = DecisionTreeClassifier(random_state=42)\n",
    "#helper variables\n",
    "predictions_acc_train = [[0] * LENGTH for i in range(7)]\n",
    "predictions_acc_test = [[0] * LENGTH for i in range(7)]\n",
    "predictions_f1_train = [[0] * LENGTH for i in range(7)]\n",
    "predictions_f1_test = [[0] * LENGTH for i in range(7)]\n",
    "predictions_auc_train = [[0] * LENGTH for i in range(7)]\n",
    "predictions_auc_test = [[0] * LENGTH for i in range(7)]\n",
    "\n",
    "probs_class_train = [[0] * LENGTH for i in range(7)]\n",
    "probs_class_test = [[0] * LENGTH for i in range(7)]\n",
    "\n",
    "\n",
    "acc_train = [[0] * 1 for i in range(7)]\n",
    "acc_test = [[0] * 1 for i in range(7)]\n",
    "f1_train = [[0] * 1 for i in range(7)]\n",
    "f1_test = [[0] * 1 for i in range(7)]\n",
    "auc_train = [[0] * 1 for i in range(7)]\n",
    "auc_test = [[0] * 1 for i in range(7)]\n",
    "\n",
    "\n",
    "labels_class = [\"Prog1_beste\", \"MfI1_beste\", \"beste\", \"beide\"]\n",
    "others_class = [[\"MfI1_beste\",\"beste\",\"beide\"],[\"Prog1_beste\",\"beste\",\"beide\"],[\"Prog1_beste\",\"MfI1_beste\",\"beide\"]\n",
    "         ,[\"Prog1_beste\",\"MfI1_beste\",\"beste\"]]\n",
    "\n",
    "scenario = 0\n",
    "other_count = 0\n",
    "\n",
    "#Parameters to be considered in Grid Search\n",
    "param_grid_class = {\n",
    "    'criterion':('gini', 'entropy'),\n",
    "    'max_depth':[3,4,5,7, 10, 15, 100],\n",
    "    'min_samples_split':[2,5,10,20, 30, 40],\n",
    "    'min_samples_leaf':[1,3,5,10,20],\n",
    "    'max_features':[0.25,0.5,0.75,1.0],\n",
    "    'max_leaf_nodes':[5,10,20,25,30,100],\n",
    "    }\n",
    "\n",
    "#Methods for Feature Engineering\n",
    "methods_class = {\"Prog1_beste\": [\"Basis\"],\n",
    "               \"MfI1_beste\": [\"Korrelation\"],\n",
    "               \"beste\": [\"RFECV\"],\n",
    "                \"beide\": [\"RFE\"]}\n",
    "\n",
    "#Optimal number of attributes\n",
    "num_attributes_acc_noten = {\"Prog1_beste\": 7, \"MfI1_beste\": 48, \"beste\": 6}\n",
    "num_attributes_acc_bestanden = {\"Prog1_beste\": 6, \"MfI1_beste\": 35, \"beste\": 28, \"beide\": 59}\n",
    "num_attributes_f1 = {\"Prog1_beste\": 6, \"MfI1_beste\": 35, \"beste\": 3}\n",
    "num_attributes_auc = {\"Prog1_beste\": 5, \"MfI1_beste\": 66, \"beste\": 4}\n",
    "\n",
    "selector_acc = {}\n",
    "selector_f1 = {}\n",
    "selector_auc = {}\n",
    "\n",
    "#Attributes with highest correlation\n",
    "columns_reg = {\"Prog1_beste\": [\"Abinote\",\"SKMat_1\",\"SKMat_2\",\"SKMat_3\",\"SKMat_4\",\"mean_SKMat\",\"SKInf_1\", \"mean_SKInf\",\n",
    "                               \"Ktyp_exp\", \"BFI_K_3\", \"mean_BFI_K_G\", \"BM_Inf_17\"],\n",
    "               \"MfI1_beste\": [\"Abinote\",\"SKMat_1\",\"SKMat_2\",\"SKMat_3\",\"SKMat_4\",\"mean_SKMat\",\"SKInf_1\", \"SKInf_4\",\n",
    "                              \"mean_SKInf\", \"Kurs_Inf\", \"Ktyp_exp\", \"BFI_K_7\", \"BM_Inf_14\",\"LMI_3\",\"LMI_6\"],\n",
    "               \"beste\": [\"Abinote\",\"SKMat_1\",\"SKMat_2\",\"SKMat_3\",\"SKMat_4\",\"mean_SKMat\",\"SKInf_1\",\"mean_SKInf\",\n",
    "                         \"Ktyp_exp\", \"BFI_K_3\",\"mean_BFI_K_G\",\"BM_Inf_17\",\"LMI_3\"]}\n",
    "\n",
    "\n",
    "columns_class = {\"Prog1_beste\": [\"Abinote\",\"SKMat_1\",\"SKMat_3\",\"mean_SKMat\",\"SKInf_1\"],\n",
    "               \"MfI1_beste\": [\"Abinote\",\"SKMat_1\",\"SKMat_2\",\"SKMat_3\",\"SKMat_4\",\"mean_SKMat\",\"SKInf_1\",\"mean_SKInf\", \n",
    "                              \"BFI_K_11\", \"BM_Inf_18\"],\n",
    "                \"beste\": [\"Abinote\",\"SKMat_1\",\"SKMat_3\",\"mean_SKMat\",\"SKInf_1\"],\n",
    "               \"beide\": [\"Abinote\",\"SKMat_1\",\"SKMat_3\",\"SKMat_4\",\"mean_SKMat\",\"SKInf_1\",\"SKInf_4\",\"mean_SKInf\",\"Kurs_Inf\",\n",
    "                         \"BFI_K_7\",\"BM_Inf_17\",\"LMI_3\",\"LMI_28\"]}\n",
    "\n",
    "\n",
    "#Scenarios 1. - 3.\n",
    "for label in labels:\n",
    "    print(\"==============\")\n",
    "    print(\"Scenario: \",scenario+1)\n",
    "    #Continuuos labels after normalization and scaling not suitable for accuracy\n",
    "    if label == \"Prog1_scaled\":\n",
    "        other_count+=1\n",
    "        continue\n",
    "    for method in methods_reg[label]:\n",
    "        print(\"Methode: \", method)\n",
    "        #Load data\n",
    "        data,X,y,train_X,test_X,train_y,test_y,names,feature_names,numcols,numrows = func.load_data_noten(label,others[other_count][0],others[other_count][1],others[other_count][2])\n",
    "\n",
    "        if method == \"RFE\":\n",
    "            estimator = RandomForestRegressor(n_estimators = 100, verbose=1, n_jobs=-1, random_state=42)\n",
    "            selector_acc[label] = RFE(estimator, n_features_to_select= num_attributes_acc_noten[label], step=1, verbose=1)\n",
    "            selector_acc[label] = selector_acc[label].fit(train_X, train_y)\n",
    "            \n",
    "        elif method == \"RFECV\":\n",
    "            estimator = RandomForestRegressor(n_estimators = 100, verbose=1, n_jobs=-1, random_state=42)\n",
    "            selector_acc[label] = RFECV(estimator, step=1, cv=5,scoring='accuracy', verbose=1, n_jobs=-1)\n",
    "            selector_acc[label] = selector_acc[label].fit(train_X, train_y)\n",
    "     \n",
    "        elif method == \"Basis\":\n",
    "            train_X_acc = copy.deepcopy(train_X)\n",
    "            test_X_acc = copy.deepcopy(test_X)\n",
    "            data_acc = copy.deepcopy(data)\n",
    "\n",
    "        elif method == \"Korrelation\":\n",
    "            train_X_acc = copy.deepcopy(train_X[columns_reg[label]])\n",
    "            test_X_acc = copy.deepcopy(test_X[columns_reg[label]])            \n",
    "            columns_reg[label].extend([\"%s\"%(label)])\n",
    "            data_acc = copy.deepcopy(data[columns_reg[label]])  \n",
    "\n",
    "        if (method == \"RFE\" or method == \"RFECV\"):\n",
    "            #Select attributes\n",
    "            supp_acc = selector_acc[label].get_support() \n",
    "            sel_feat_acc = train_X.columns[(supp_acc)]\n",
    "            sel_feat_acc = sel_feat_acc.tolist()\n",
    "            print(len(sel_feat_acc))\n",
    "            print(sel_feat_acc)\n",
    "            train_X_acc = copy.deepcopy(train_X[sel_feat_acc])\n",
    "            test_X_acc = copy.deepcopy(test_X[sel_feat_acc])\n",
    "            sel_feat_acc.extend([\"%s\"%(label)])\n",
    "            data_acc = copy.deepcopy(data[sel_feat_acc])\n",
    "            \n",
    "        #Convert data\n",
    "        data_raw = data.to_numpy()\n",
    "        data_acc_raw = data_acc.to_numpy()    \n",
    "    \n",
    "        #Grid Search on train data for accuracy\n",
    "        print(\"ACC \",label)\n",
    "        grid = GridSearchCV(dt_class, param_grid_class, n_jobs=-1,iid=False, cv=5,verbose=1, scoring='accuracy')\n",
    "        grid.fit(train_X_acc, train_y)\n",
    "        print(\"Best parameter for ACC (CV score=%0.4f):\" % (grid.best_score_))\n",
    "        print(grid.best_params_)\n",
    "        best_dt_acc = grid.best_estimator_\n",
    "        func.cross_val(best_dt_acc, train_X_acc, train_y, scoring=\"accuracy\")\n",
    "\n",
    "        #Bootstrap confidence intervals\n",
    "        func.bootstrap_score(data_acc_raw, best_dt_acc,\"accuracy\")\n",
    "\n",
    "        #Fit and store predictions\n",
    "        best_dt_acc.fit(train_X_acc, train_y)\n",
    "        predictions_acc_train[scenario] = best_dt_acc.predict(train_X_acc)\n",
    "        predictions_acc_test[scenario] = best_dt_acc.predict(test_X_acc)\n",
    "        create_tree_png(best_dt_acc,label,train_X_acc.columns, \"reg_accuracy\")\n",
    "\n",
    "        #Calculate accuracy\n",
    "        acc_train[scenario] = accuracy_score(train_y,predictions_acc_train[scenario])\n",
    "        acc_test[scenario] = accuracy_score(test_y,predictions_acc_test[scenario])   \n",
    "    scenario += 1\n",
    "    other_count += 1\n",
    "    \n",
    "other_count = 0\n",
    "#Scenarios 4. - 7.\n",
    "for label in labels_class:   \n",
    "    print(\"================\")\n",
    "    print(\"Scenario: \",scenario+1)\n",
    "    for method in methods_class[label]:\n",
    "        print(\"Methode: \", method)\n",
    "        #Load data\n",
    "        data,X,y,train_X,test_X,train_y,test_y,names,feature_names,numcols,numrows = func.load_data_bestanden(label,others_class[other_count][0],\n",
    "                                                                 others_class[other_count][1],\n",
    "                                                                 others_class[other_count][2])\n",
    "        if method == \"RFE\":\n",
    "            estimator = RandomForestClassifier(n_estimators = 100, verbose=1, n_jobs=-1, random_state=42)\n",
    "            selector_acc[label] = RFE(estimator, n_features_to_select= num_attributes_acc_bestanden[label], step=1, verbose=1)\n",
    "            selector_acc[label] = selector_acc[label].fit(train_X, train_y)\n",
    "            \n",
    "        elif method == \"RFECV\":\n",
    "            estimator = RandomForestClassifier(n_estimators = 100, verbose=1, n_jobs=-1, random_state=42)\n",
    "            selector_acc[label] = RFECV(estimator, step=1, cv=5,scoring='accuracy', verbose=1, n_jobs=-1)\n",
    "            selector_acc[label] = selector_acc[label].fit(train_X, train_y)\n",
    "     \n",
    "        elif method == \"Basis\":\n",
    "            train_X_acc = copy.deepcopy(train_X)\n",
    "            test_X_acc = copy.deepcopy(test_X)\n",
    "            data_acc = copy.deepcopy(data)\n",
    "\n",
    "        elif method == \"Korrelation\":\n",
    "            train_X_acc = copy.deepcopy(train_X[columns_class[label]])\n",
    "            test_X_acc = copy.deepcopy(test_X[columns_class[label]])            \n",
    "            columns_class[label].extend([\"%s\"%(label)])\n",
    "            data_acc = copy.deepcopy(data[columns_class[label]])  \n",
    "            del columns_class[label][-1]\n",
    "            \n",
    "\n",
    "        if (method == \"RFE\" or method == \"RFECV\"):\n",
    "            #Select attributes\n",
    "            supp_acc = selector_acc[label].get_support() \n",
    "            sel_feat_acc = train_X.columns[(supp_acc)]\n",
    "            sel_feat_acc = sel_feat_acc.tolist()\n",
    "            print(len(sel_feat_acc))\n",
    "            print(sel_feat_acc)\n",
    "            train_X_acc = copy.deepcopy(train_X[sel_feat_acc])\n",
    "            test_X_acc = copy.deepcopy(test_X[sel_feat_acc])\n",
    "            sel_feat_acc.extend([\"%s\"%(label)])\n",
    "            data_acc = copy.deepcopy(data[sel_feat_acc])\n",
    "            \n",
    "        #Convert data\n",
    "        data_raw = data.to_numpy()\n",
    "        data_acc_raw = data_acc.to_numpy()    \n",
    "    \n",
    "        #Grid Search for accuracy\n",
    "        print(\"ACC \",label)\n",
    "        grid = GridSearchCV(dt_class, param_grid_class, n_jobs=-1,iid=False, cv=5,verbose=1, scoring='accuracy')\n",
    "        grid.fit(train_X_acc, train_y)\n",
    "        print(\"Best parameter for ACC (CV score=%0.4f):\" % (grid.best_score_))\n",
    "        print(grid.best_params_)\n",
    "        best_dt_acc = grid.best_estimator_\n",
    "        func.cross_val(best_dt_acc, train_X_acc, train_y, scoring=\"accuracy\")\n",
    "        #Bootstrap confidence intervals\n",
    "        func.bootstrap_score(data_acc_raw, best_dt_acc,\"accuracy\")\n",
    "    \n",
    "        #Fit and store predictions\n",
    "        best_dt_acc.fit(train_X_acc, train_y)\n",
    "        predictions_acc_train[scenario] = best_dt_acc.predict(train_X_acc)\n",
    "        predictions_acc_test[scenario] = best_dt_acc.predict(test_X_acc)\n",
    "        create_tree_png(best_dt_acc,label, train_X_acc.columns, \"accuracy\")\n",
    "\n",
    "        #Calculate accuracy\n",
    "        acc_train[scenario] = accuracy_score(train_y,predictions_acc_train[scenario])\n",
    "        acc_test[scenario] = accuracy_score(test_y,predictions_acc_test[scenario])\n",
    "        \n",
    "        if(label!=\"beide\"):\n",
    "            #F1 and ROC_AUC\n",
    "            if method == \"RFE\":\n",
    "                estimator = RandomForestClassifier(n_estimators = 100, verbose=1, n_jobs=-1, random_state=42)\n",
    "                selector_f1[label] = RFE(estimator, n_features_to_select= num_attributes_f1[label], step=1, verbose=1)\n",
    "                selector_f1[label] = selector_f1[label].fit(train_X, train_y)\n",
    "                estimator = RandomForestClassifier(n_estimators = 100, verbose=1, n_jobs=-1, random_state=42)\n",
    "                selector_auc[label] = RFE(estimator, n_features_to_select= num_attributes_auc[label], step=1, verbose=1)\n",
    "                selector_auc[label] = selector_auc[label].fit(train_X, train_y)\n",
    "\n",
    "            elif method == \"RFECV\":\n",
    "                estimator = RandomForestClassifier(n_estimators = 100, verbose=1, n_jobs=-1, random_state=42)\n",
    "                selector_f1[label] = RFECV(estimator, step=1, cv=5,scoring='f1', verbose=1, n_jobs=-1)\n",
    "                selector_f1[label] = selector_f1[label].fit(train_X, train_y)\n",
    "                estimator = RandomForestClassifier(n_estimators = 100, verbose=1, n_jobs=-1, random_state=42)\n",
    "                selector_auc[label] = RFECV(estimator, step=1, cv=5,scoring='roc_auc', verbose=1, n_jobs=-1)\n",
    "                selector_auc[label] = selector_auc[label].fit(train_X, train_y)\n",
    "\n",
    "            elif method == \"Basis\":\n",
    "                train_X_f1 = copy.deepcopy(train_X)\n",
    "                test_X_f1 = copy.deepcopy(test_X)\n",
    "                data_f1 = copy.deepcopy(data)\n",
    "                train_X_auc = copy.deepcopy(train_X)\n",
    "                test_X_auc = copy.deepcopy(test_X)\n",
    "                data_auc = copy.deepcopy(data)\n",
    "\n",
    "            elif method == \"Korrelation\":\n",
    "                print(columns_class[label])\n",
    "                train_X_f1 = copy.deepcopy(train_X[columns_class[label]])\n",
    "                test_X_f1 = copy.deepcopy(test_X[columns_class[label]])            \n",
    "                \n",
    "                train_X_auc = copy.deepcopy(train_X[columns_class[label]])\n",
    "                test_X_auc = copy.deepcopy(test_X[columns_class[label]])            \n",
    "                \n",
    "                columns_class[label].extend([\"%s\"%(label)])\n",
    "                data_f1 = copy.deepcopy(data[columns_class[label]])  \n",
    "                data_auc = copy.deepcopy(data[columns_class[label]]) \n",
    "                del columns_class[label][-1]\n",
    "\n",
    "            if (method == \"RFE\" or method == \"RFECV\"):\n",
    "                #Select attributes\n",
    "                supp_f1 = selector_f1[label].get_support() \n",
    "                sel_feat_f1 = train_X.columns[(supp_f1)]\n",
    "                sel_feat_f1 = sel_feat_f1.tolist()\n",
    "                print(len(sel_feat_f1))\n",
    "                print(sel_feat_f1)\n",
    "                train_X_f1 = copy.deepcopy(train_X[sel_feat_f1])\n",
    "                test_X_f1 = copy.deepcopy(test_X[sel_feat_f1])\n",
    "                sel_feat_f1.extend([\"%s\"%(label)])\n",
    "                data_f1 = copy.deepcopy(data[sel_feat_f1])\n",
    "                \n",
    "                supp_auc = selector_auc[label].get_support() \n",
    "                sel_feat_auc = train_X.columns[(supp_auc)]\n",
    "                sel_feat_auc = sel_feat_auc.tolist()\n",
    "                print(len(sel_feat_auc))\n",
    "                print(sel_feat_auc)\n",
    "                train_X_auc = copy.deepcopy(train_X[sel_feat_auc])\n",
    "                test_X_auc = copy.deepcopy(test_X[sel_feat_auc])\n",
    "                sel_feat_auc.extend([\"%s\"%(label)])\n",
    "                data_auc = copy.deepcopy(data[sel_feat_auc])\n",
    "                \n",
    "            #Convert data    \n",
    "            data_f1_raw = data_f1.to_numpy()\n",
    "            data_auc_raw = data_auc.to_numpy()    \n",
    "            \n",
    "            #Grid Search for F1\n",
    "            print(\"F1 \",label)\n",
    "            grid = GridSearchCV(dt_class, param_grid_class, n_jobs=-1,iid=False, cv=5,verbose=1, scoring='f1')\n",
    "            grid.fit(train_X_f1, train_y)\n",
    "            print(\"Best parameter for F1 (CV score=%0.4f):\" % (grid.best_score_))\n",
    "            print(grid.best_params_)\n",
    "            best_dt_f1 = grid.best_estimator_\n",
    "            func.cross_val(best_dt_f1, train_X_f1, train_y, scoring=\"f1\")\n",
    "\n",
    "            #Bootstrap confidence intervals\n",
    "            func.bootstrap_score(data_f1_raw, best_dt_f1,\"f1\")\n",
    "\n",
    "            #Grid Search for ROC_AUC\n",
    "            print(\"AUC \",label)\n",
    "            grid = GridSearchCV(dt_class, param_grid_class, n_jobs=-1,iid=False, cv=5,verbose=1, scoring='roc_auc')\n",
    "            grid.fit(train_X_auc, train_y)\n",
    "            print(\"Best parameter for AUC (CV score=%0.4f):\" % (grid.best_score_))\n",
    "            print(grid.best_params_)\n",
    "            best_dt_auc = grid.best_estimator_\n",
    "            func.cross_val(best_dt_auc, train_X_auc, train_y, scoring=\"roc_auc\")\n",
    "\n",
    "            #Bootstrap confidence intervals\n",
    "            func.bootstrap_score(data_auc_raw, best_dt_auc,\"roc_auc\")\n",
    "\n",
    "            #Fit and store predictions\n",
    "            best_dt_f1.fit(train_X_f1, train_y)\n",
    "            predictions_f1_train[scenario] = best_dt_f1.predict(train_X_f1)\n",
    "            predictions_f1_test[scenario] = best_dt_f1.predict(test_X_f1)\n",
    "            create_tree_png(best_dt_f1,label,train_X_f1.columns, \"f1\")\n",
    "\n",
    "            best_dt_auc.fit(train_X_auc, train_y)\n",
    "            create_tree_png(best_dt_auc,label,train_X_auc.columns,\"roc_auc\")\n",
    "    \n",
    "            #Calculate performance\n",
    "            f1_train[scenario] = f1_score(train_y,predictions_f1_train[scenario])\n",
    "            f1_test[scenario] = f1_score(test_y,predictions_f1_test[scenario]) \n",
    "            probs_class_train[scenario] = best_dt_auc.predict_proba(train_X_auc)\n",
    "            probs_class_train[scenario]  = probs_class_train[scenario][:, 1]\n",
    "            probs_class_test[scenario] = best_dt_auc.predict_proba(test_X_auc)\n",
    "            probs_class_test[scenario]  = probs_class_test[scenario][:, 1]\n",
    "            auc_train[scenario] = roc_auc_score(train_y,probs_class_train[scenario])\n",
    "            auc_test[scenario] = roc_auc_score(test_y,probs_class_test[scenario]) \n",
    "        scenario += 1\n",
    "        other_count += 1\n",
    "\n",
    "print(\"Accuracy Trainingsdaten:\", acc_train)\n",
    "print(\"Accuracy Testdaten:\",acc_test)\n",
    "print(\"F1 Trainingsdaten:\", f1_train)\n",
    "print(\"F1 Testdaten:\",f1_test)\n",
    "print(\"AUC Trainingsdaten:\", auc_train)\n",
    "print(\"AUC Testdaten:\",auc_test)"
   ]
  },
  {
   "cell_type": "code",
   "execution_count": null,
   "metadata": {},
   "outputs": [],
   "source": []
  }
 ],
 "metadata": {
  "kernelspec": {
   "display_name": "Python 3",
   "language": "python",
   "name": "python3"
  },
  "language_info": {
   "codemirror_mode": {
    "name": "ipython",
    "version": 3
   },
   "file_extension": ".py",
   "mimetype": "text/x-python",
   "name": "python",
   "nbconvert_exporter": "python",
   "pygments_lexer": "ipython3",
   "version": "3.7.5"
  }
 },
 "nbformat": 4,
 "nbformat_minor": 2
}
