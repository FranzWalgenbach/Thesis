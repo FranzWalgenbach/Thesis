{
 "cells": [
  {
   "cell_type": "code",
   "execution_count": 1,
   "metadata": {},
   "outputs": [],
   "source": [
    "from sklearn.metrics import accuracy_score, mean_squared_error, mean_absolute_error, roc_auc_score, f1_score\n",
    "from sklearn.model_selection import train_test_split, cross_val_score\n",
    "from sklearn.tree import DecisionTreeClassifier\n",
    "from sklearn.tree import DecisionTreeRegressor\n",
    "from sklearn.model_selection import GridSearchCV\n",
    "from sklearn.utils import resample\n",
    "import matplotlib.pyplot as pyplot\n",
    "\n",
    "\n",
    "import math\n",
    "import numpy as np\n",
    "import copy\n",
    "\n",
    "import functions as func\n",
    "\n",
    "LENGTH = 1000"
   ]
  },
  {
   "cell_type": "code",
   "execution_count": 2,
   "metadata": {
    "scrolled": true
   },
   "outputs": [
    {
     "name": "stdout",
     "output_type": "stream",
     "text": [
      "=============\n",
      "RMSE  Prog1_scaled\n",
      "Fitting 5 folds for each of 10080 candidates, totalling 50400 fits\n"
     ]
    },
    {
     "name": "stderr",
     "output_type": "stream",
     "text": [
      "[Parallel(n_jobs=-1)]: Using backend LokyBackend with 4 concurrent workers.\n",
      "[Parallel(n_jobs=-1)]: Done 139 tasks      | elapsed:    3.3s\n",
      "[Parallel(n_jobs=-1)]: Done 6091 tasks      | elapsed:   15.8s\n",
      "[Parallel(n_jobs=-1)]: Done 16091 tasks      | elapsed:   37.3s\n",
      "[Parallel(n_jobs=-1)]: Done 30091 tasks      | elapsed:  1.3min\n",
      "[Parallel(n_jobs=-1)]: Done 40291 tasks      | elapsed:  2.1min\n",
      "[Parallel(n_jobs=-1)]: Done 50400 out of 50400 | elapsed:  2.9min finished\n"
     ]
    },
    {
     "name": "stdout",
     "output_type": "stream",
     "text": [
      "Best parameter for RMSE (CV score=-15676.186):\n",
      "{'criterion': 'mse', 'max_depth': 3, 'max_features': 0.25, 'max_leaf_nodes': 10, 'min_samples_leaf': 5, 'min_samples_split': 20}\n",
      "Scores: [121.48060253 133.47069019 131.23800705 115.25031899 123.70495279]\n",
      "Mean: 125.0289143103535\n",
      "Standard deviation: 6.62994313153732\n",
      "0\n",
      "100\n",
      "200\n",
      "300\n",
      "400\n",
      "500\n",
      "600\n",
      "700\n",
      "800\n",
      "900\n"
     ]
    },
    {
     "data": {
      "image/png": "[encoded data removed]",
      "text/plain": [
       "<Figure size 432x288 with 1 Axes>"
      ]
     },
     "metadata": {
      "needs_background": "light"
     },
     "output_type": "display_data"
    },
    {
     "name": "stdout",
     "output_type": "stream",
     "text": [
      "95.0% confidence interval from 121.9272 to 151.7814\n",
      "MAE  Prog1_scaled\n",
      "Fitting 5 folds for each of 10080 candidates, totalling 50400 fits\n"
     ]
    },
    {
     "name": "stderr",
     "output_type": "stream",
     "text": [
      "[Parallel(n_jobs=-1)]: Using backend LokyBackend with 4 concurrent workers.\n",
      "[Parallel(n_jobs=-1)]: Done 1300 tasks      | elapsed:    2.5s\n",
      "[Parallel(n_jobs=-1)]: Done 7000 tasks      | elapsed:   13.6s\n",
      "[Parallel(n_jobs=-1)]: Done 16500 tasks      | elapsed:   32.7s\n",
      "[Parallel(n_jobs=-1)]: Done 29800 tasks      | elapsed:  1.2min\n",
      "[Parallel(n_jobs=-1)]: Done 41276 tasks      | elapsed:  2.1min\n",
      "[Parallel(n_jobs=-1)]: Done 50400 out of 50400 | elapsed:  2.9min finished\n"
     ]
    },
    {
     "name": "stdout",
     "output_type": "stream",
     "text": [
      "Best parameter for MAE (CV score=-104.817):\n",
      "{'criterion': 'mse', 'max_depth': 10, 'max_features': 0.25, 'max_leaf_nodes': 20, 'min_samples_leaf': 5, 'min_samples_split': 20}\n",
      "Scores: [-113.16517728 -118.4440605  -103.27014337  -97.22676689  -91.97729501]\n",
      "Mean: -104.81668860919767\n",
      "Standard deviation: 9.80052314686688\n",
      "0\n",
      "100\n",
      "200\n",
      "300\n",
      "400\n",
      "500\n",
      "600\n",
      "700\n",
      "800\n",
      "900\n"
     ]
    },
    {
     "data": {
      "image/png": "[encoded data removed]",
      "text/plain": [
       "<Figure size 432x288 with 1 Axes>"
      ]
     },
     "metadata": {
      "needs_background": "light"
     },
     "output_type": "display_data"
    },
    {
     "name": "stdout",
     "output_type": "stream",
     "text": [
      "95.0% confidence interval from 99.6167 to 131.2266\n",
      "=============\n",
      "RMSE  Prog1_beste\n",
      "Fitting 5 folds for each of 10080 candidates, totalling 50400 fits\n"
     ]
    },
    {
     "name": "stderr",
     "output_type": "stream",
     "text": [
      "[Parallel(n_jobs=-1)]: Using backend LokyBackend with 4 concurrent workers.\n",
      "[Parallel(n_jobs=-1)]: Done 1096 tasks      | elapsed:    2.1s\n",
      "[Parallel(n_jobs=-1)]: Done 5896 tasks      | elapsed:   10.9s\n",
      "[Parallel(n_jobs=-1)]: Done 13896 tasks      | elapsed:   26.2s\n",
      "[Parallel(n_jobs=-1)]: Done 25096 tasks      | elapsed:   48.0s\n",
      "[Parallel(n_jobs=-1)]: Done 39496 tasks      | elapsed:  1.9min\n",
      "[Parallel(n_jobs=-1)]: Done 50152 tasks      | elapsed:  2.8min\n",
      "[Parallel(n_jobs=-1)]: Done 50400 out of 50400 | elapsed:  2.8min finished\n"
     ]
    },
    {
     "name": "stdout",
     "output_type": "stream",
     "text": [
      "Best parameter for RMSE (CV score=-19392.659):\n",
      "{'criterion': 'mse', 'max_depth': 4, 'max_features': 0.25, 'max_leaf_nodes': 5, 'min_samples_leaf': 10, 'min_samples_split': 30}\n",
      "Scores: [134.0629687  135.64439172 157.16465728 138.75946554 128.98099907]\n",
      "Mean: 138.92249646136307\n",
      "Standard deviation: 9.653987378707678\n",
      "0\n",
      "100\n",
      "200\n",
      "300\n",
      "400\n",
      "500\n",
      "600\n",
      "700\n",
      "800\n",
      "900\n"
     ]
    },
    {
     "data": {
      "image/png": "[encoded data removed]",
      "text/plain": [
       "<Figure size 432x288 with 1 Axes>"
      ]
     },
     "metadata": {
      "needs_background": "light"
     },
     "output_type": "display_data"
    },
    {
     "name": "stdout",
     "output_type": "stream",
     "text": [
      "95.0% confidence interval from 137.2299 to 169.2275\n",
      "MAE  Prog1_beste\n",
      "Fitting 5 folds for each of 10080 candidates, totalling 50400 fits\n"
     ]
    },
    {
     "name": "stderr",
     "output_type": "stream",
     "text": [
      "[Parallel(n_jobs=-1)]: Using backend LokyBackend with 4 concurrent workers.\n",
      "[Parallel(n_jobs=-1)]: Done 960 tasks      | elapsed:    2.1s\n",
      "[Parallel(n_jobs=-1)]: Done 5160 tasks      | elapsed:   11.1s\n",
      "[Parallel(n_jobs=-1)]: Done 12160 tasks      | elapsed:   25.2s\n",
      "[Parallel(n_jobs=-1)]: Done 21960 tasks      | elapsed:   47.0s\n",
      "[Parallel(n_jobs=-1)]: Done 34560 tasks      | elapsed:  1.5min\n",
      "[Parallel(n_jobs=-1)]: Done 49960 tasks      | elapsed:  2.8min\n",
      "[Parallel(n_jobs=-1)]: Done 50400 out of 50400 | elapsed:  2.9min finished\n"
     ]
    },
    {
     "name": "stdout",
     "output_type": "stream",
     "text": [
      "Best parameter for MAE (CV score=-112.599):\n",
      "{'criterion': 'mae', 'max_depth': 3, 'max_features': 1.0, 'max_leaf_nodes': 10, 'min_samples_leaf': 5, 'min_samples_split': 30}\n",
      "Scores: [-126.28205128  -90.52631579 -116.84210526 -137.10526316  -92.23684211]\n",
      "Mean: -112.59851551956815\n",
      "Standard deviation: 18.48030102481925\n",
      "0\n",
      "100\n",
      "200\n",
      "300\n",
      "400\n",
      "500\n",
      "600\n",
      "700\n",
      "800\n",
      "900\n"
     ]
    },
    {
     "data": {
      "image/png": "[encoded data removed]",
      "text/plain": [
       "<Figure size 432x288 with 1 Axes>"
      ]
     },
     "metadata": {
      "needs_background": "light"
     },
     "output_type": "display_data"
    },
    {
     "name": "stdout",
     "output_type": "stream",
     "text": [
      "95.0% confidence interval from 106.6142 to 144.7303\n",
      "=============\n",
      "RMSE  MfI1_beste\n",
      "Fitting 5 folds for each of 10080 candidates, totalling 50400 fits\n"
     ]
    },
    {
     "name": "stderr",
     "output_type": "stream",
     "text": [
      "[Parallel(n_jobs=-1)]: Using backend LokyBackend with 4 concurrent workers.\n",
      "[Parallel(n_jobs=-1)]: Done 1368 tasks      | elapsed:    2.6s\n",
      "[Parallel(n_jobs=-1)]: Done 7368 tasks      | elapsed:   13.2s\n",
      "[Parallel(n_jobs=-1)]: Done 17368 tasks      | elapsed:   32.7s\n",
      "[Parallel(n_jobs=-1)]: Done 31368 tasks      | elapsed:  1.0min\n",
      "[Parallel(n_jobs=-1)]: Done 49368 tasks      | elapsed:  1.8min\n",
      "[Parallel(n_jobs=-1)]: Done 50400 out of 50400 | elapsed:  1.8min finished\n"
     ]
    },
    {
     "name": "stdout",
     "output_type": "stream",
     "text": [
      "Best parameter for RMSE (CV score=-12017.082):\n",
      "{'criterion': 'mse', 'max_depth': 3, 'max_features': 0.75, 'max_leaf_nodes': 5, 'min_samples_leaf': 10, 'min_samples_split': 30}\n",
      "Scores: [100.76617295 116.03773635 137.73683096  85.99222234 100.50241002]\n",
      "Mean: 108.20707452336669\n",
      "Standard deviation: 17.558783036388835\n",
      "0\n",
      "100\n",
      "200\n",
      "300\n",
      "400\n",
      "500\n",
      "600\n",
      "700\n",
      "800\n",
      "900\n"
     ]
    },
    {
     "data": {
      "image/png": "[encoded data removed]",
      "text/plain": [
       "<Figure size 432x288 with 1 Axes>"
      ]
     },
     "metadata": {
      "needs_background": "light"
     },
     "output_type": "display_data"
    },
    {
     "name": "stdout",
     "output_type": "stream",
     "text": [
      "95.0% confidence interval from 104.3133 to 152.9044\n",
      "MAE  MfI1_beste\n",
      "Fitting 5 folds for each of 10080 candidates, totalling 50400 fits\n"
     ]
    },
    {
     "name": "stderr",
     "output_type": "stream",
     "text": [
      "[Parallel(n_jobs=-1)]: Using backend LokyBackend with 4 concurrent workers.\n",
      "[Parallel(n_jobs=-1)]: Done 1232 tasks      | elapsed:    2.3s\n",
      "[Parallel(n_jobs=-1)]: Done 6632 tasks      | elapsed:   12.1s\n",
      "[Parallel(n_jobs=-1)]: Done 15632 tasks      | elapsed:   28.0s\n",
      "[Parallel(n_jobs=-1)]: Done 28232 tasks      | elapsed:   52.7s\n",
      "[Parallel(n_jobs=-1)]: Done 44432 tasks      | elapsed:  1.6min\n",
      "[Parallel(n_jobs=-1)]: Done 50400 out of 50400 | elapsed:  1.9min finished\n"
     ]
    },
    {
     "name": "stdout",
     "output_type": "stream",
     "text": [
      "Best parameter for MAE (CV score=-81.431):\n",
      "{'criterion': 'mae', 'max_depth': 4, 'max_features': 1.0, 'max_leaf_nodes': 10, 'min_samples_leaf': 3, 'min_samples_split': 10}\n",
      "Scores: [-68.33333333 -87.64705882 -86.47058824 -89.41176471 -75.29411765]\n",
      "Mean: -81.43137254901961\n",
      "Standard deviation: 8.209015027401744\n",
      "0\n",
      "100\n",
      "200\n",
      "300\n",
      "400\n",
      "500\n",
      "600\n",
      "700\n",
      "800\n",
      "900\n"
     ]
    },
    {
     "data": {
      "image/png": "[encoded data removed]",
      "text/plain": [
       "<Figure size 432x288 with 1 Axes>"
      ]
     },
     "metadata": {
      "needs_background": "light"
     },
     "output_type": "display_data"
    },
    {
     "name": "stdout",
     "output_type": "stream",
     "text": [
      "95.0% confidence interval from 84.3091 to 137.2331\n",
      "=============\n",
      "RMSE  beste\n",
      "Fitting 5 folds for each of 10080 candidates, totalling 50400 fits\n"
     ]
    },
    {
     "name": "stderr",
     "output_type": "stream",
     "text": [
      "[Parallel(n_jobs=-1)]: Using backend LokyBackend with 4 concurrent workers.\n",
      "[Parallel(n_jobs=-1)]: Done 892 tasks      | elapsed:    1.7s\n",
      "[Parallel(n_jobs=-1)]: Done 4792 tasks      | elapsed:    8.9s\n",
      "[Parallel(n_jobs=-1)]: Done 11292 tasks      | elapsed:   21.3s\n",
      "[Parallel(n_jobs=-1)]: Done 20392 tasks      | elapsed:   39.0s\n",
      "[Parallel(n_jobs=-1)]: Done 32092 tasks      | elapsed:  1.3min\n",
      "[Parallel(n_jobs=-1)]: Done 46392 tasks      | elapsed:  2.5min\n",
      "[Parallel(n_jobs=-1)]: Done 50400 out of 50400 | elapsed:  2.8min finished\n"
     ]
    },
    {
     "name": "stdout",
     "output_type": "stream",
     "text": [
      "Best parameter for RMSE (CV score=-17138.817):\n",
      "{'criterion': 'mse', 'max_depth': 3, 'max_features': 0.75, 'max_leaf_nodes': 10, 'min_samples_leaf': 10, 'min_samples_split': 2}\n",
      "Scores: [122.18186927 145.87277368 128.01315495 115.07747973 140.9135089 ]\n",
      "Mean: 130.41175730593835\n",
      "Standard deviation: 11.471305359465664\n",
      "0\n",
      "100\n",
      "200\n",
      "300\n",
      "400\n",
      "500\n",
      "600\n",
      "700\n",
      "800\n",
      "900\n"
     ]
    },
    {
     "data": {
      "image/png": "[encoded data removed]",
      "text/plain": [
       "<Figure size 432x288 with 1 Axes>"
      ]
     },
     "metadata": {
      "needs_background": "light"
     },
     "output_type": "display_data"
    },
    {
     "name": "stdout",
     "output_type": "stream",
     "text": [
      "95.0% confidence interval from 132.4846 to 168.8003\n",
      "MAE  beste\n",
      "Fitting 5 folds for each of 10080 candidates, totalling 50400 fits\n"
     ]
    },
    {
     "name": "stderr",
     "output_type": "stream",
     "text": [
      "[Parallel(n_jobs=-1)]: Using backend LokyBackend with 4 concurrent workers.\n",
      "[Parallel(n_jobs=-1)]: Done 1300 tasks      | elapsed:    2.9s\n",
      "[Parallel(n_jobs=-1)]: Done 7000 tasks      | elapsed:   14.3s\n",
      "[Parallel(n_jobs=-1)]: Done 16500 tasks      | elapsed:   33.1s\n",
      "[Parallel(n_jobs=-1)]: Done 29800 tasks      | elapsed:  1.2min\n",
      "[Parallel(n_jobs=-1)]: Done 39699 tasks      | elapsed:  2.0min\n",
      "[Parallel(n_jobs=-1)]: Done 50149 tasks      | elapsed:  3.0min\n",
      "[Parallel(n_jobs=-1)]: Done 50400 out of 50400 | elapsed:  3.0min finished\n"
     ]
    },
    {
     "name": "stdout",
     "output_type": "stream",
     "text": [
      "Best parameter for MAE (CV score=-98.518):\n",
      "{'criterion': 'mae', 'max_depth': 3, 'max_features': 0.75, 'max_leaf_nodes': 10, 'min_samples_leaf': 10, 'min_samples_split': 30}\n",
      "Scores: [ -85.12820513 -118.58974359  -97.94871795  -91.31578947  -99.60526316]\n",
      "Mean: -98.51754385964912\n",
      "Standard deviation: 11.274214439105178\n",
      "0\n",
      "100\n",
      "200\n",
      "300\n",
      "400\n",
      "500\n",
      "600\n",
      "700\n",
      "800\n",
      "900\n"
     ]
    },
    {
     "data": {
      "image/png": "[encoded data removed]",
      "text/plain": [
       "<Figure size 432x288 with 1 Axes>"
      ]
     },
     "metadata": {
      "needs_background": "light"
     },
     "output_type": "display_data"
    },
    {
     "name": "stdout",
     "output_type": "stream",
     "text": [
      "95.0% confidence interval from 107.4058 to 147.4106\n",
      "RMSE Trainingsdaten: [110.59687567537208, 129.2591962605825, 97.03275265997658, 114.20618915403084]\n",
      "RMSE Testdaten: [139.8642552694308, 144.83986370280067, 109.8963029724517, 153.02216459374804]\n",
      "MAE Trainingsdaten: [72.6162766137475, 97.4869109947644, 44.18604651162791, 86.47668393782384]\n",
      "MAE Testdaten: [119.2460415918672, 102.28915662650603, 93.94736842105263, 125.11904761904762]\n"
     ]
    }
   ],
   "source": [
    "#Regression for scenarios 1. - 3.\n",
    "dt_reg = DecisionTreeRegressor(random_state=42)\n",
    "#Helper variables\n",
    "predictions_rmse_train = [[0] * LENGTH for i in range(4)]\n",
    "predictions_rmse_test = [[0] * LENGTH for i in range(4)]\n",
    "predictions_mae_train = [[0] * LENGTH for i in range(4)]\n",
    "predictions_mae_test = [[0] * LENGTH for i in range(4)]\n",
    "\n",
    "rmse_reg_train = [[0] * 1 for i in range(4)]\n",
    "rmse_reg_test = [[0] * 1 for i in range(4)]\n",
    "mae_reg_train = [[0] * 1 for i in range(4)]\n",
    "mae_reg_test = [[0] * 1 for i in range(4)]\n",
    "\n",
    "\n",
    "labels = [\"Prog1_scaled\",\"Prog1_beste\", \"MfI1_beste\", \"beste\"]\n",
    "others = [[\"Prog1_beste\",\"MfI1_beste\",\"beste\"],[\"MfI1_beste\",\"beste\",\"Prog1_scaled\"],[\"Prog1_beste\",\"beste\",\"Prog1_scaled\"],[\"Prog1_beste\",\"MfI1_beste\",\"Prog1_scaled\"]]\n",
    "\n",
    "scenario = 0\n",
    "other_count = 0\n",
    "\n",
    "#Parameters to be considered in Grid Search\n",
    "param_grid = {\n",
    "    'criterion':['mse', 'mae'],\n",
    "    'max_depth':[3,4,5,7, 10, 15, 100],\n",
    "    'min_samples_split':[2,5,10,20, 30, 40],\n",
    "    'min_samples_leaf':[1,3,5,10,20],\n",
    "    'max_features':[0.25,0.5,0.75,1.0],\n",
    "    'max_leaf_nodes':[5,10,20,25,30,100],\n",
    "    }\n",
    "\n",
    "\n",
    "for label in labels:  \n",
    "\n",
    "    print(\"=============\")\n",
    "    #Load data\n",
    "    data,X,y,train_X,test_X,train_y,test_y,names,feature_names,numcols,numrows = func.load_data_noten(label,others[other_count][0],others[other_count][1],others[other_count][2])\n",
    "    #Convert DataFrame to NumPy array\n",
    "    data_raw = data.to_numpy()\n",
    "    #Grid Search on train data\n",
    "    #RMSE\n",
    "    print(\"RMSE \",label)\n",
    "    grid = GridSearchCV(dt_reg, param_grid, n_jobs=-1,iid=False, cv=5,verbose=1, scoring='neg_mean_squared_error')\n",
    "    grid.fit(train_X, train_y)\n",
    "    print(\"Best parameter for RMSE (CV score=%0.3f):\" % (grid.best_score_))\n",
    "    print(grid.best_params_)\n",
    "    best_dt_rmse = grid.best_estimator_\n",
    "    func.cross_val(best_dt_rmse, train_X, train_y, scoring=\"neg_mean_squared_error\")\n",
    "    #Bootstrap confidence intervals\n",
    "    func.bootstrap_score(data_raw, best_dt_rmse,\"mean_squared_error\")\n",
    "    \n",
    "    #MAE\n",
    "    print(\"MAE \",label)\n",
    "    grid = GridSearchCV(dt_reg, param_grid, n_jobs=-1,iid=False, cv=5,verbose=1, scoring='neg_mean_absolute_error')\n",
    "    grid.fit(train_X, train_y)\n",
    "    print(\"Best parameter for MAE (CV score=%0.3f):\" % (grid.best_score_))\n",
    "    print(grid.best_params_)\n",
    "    best_dt_mae = grid.best_estimator_\n",
    "    func.cross_val(best_dt_mae, train_X, train_y, scoring=\"neg_mean_absolute_error\")\n",
    "    \n",
    "    #Bootstrap confidence intervals\n",
    "    func.bootstrap_score(data_raw, best_dt_mae,\"mean_absolute_error\")\n",
    "    \n",
    "    #Fit and store predictions\n",
    "    best_dt_rmse.fit(train_X, train_y)\n",
    "    predictions_rmse_train[scenario] = best_dt_rmse.predict(train_X)\n",
    "    predictions_rmse_test[scenario] = best_dt_rmse.predict(test_X)\n",
    "    \n",
    "    best_dt_mae.fit(train_X, train_y)\n",
    "    predictions_mae_train[scenario] = best_dt_mae.predict(train_X)\n",
    "    predictions_mae_test[scenario] = best_dt_mae.predict(test_X)\n",
    "    \n",
    "    #Calculate performance\n",
    "    rmse_reg_train[scenario] = sqrt(mean_squared_error(train_y,predictions_rmse_train[scenario]))\n",
    "    rmse_reg_test[scenario] = sqrt(mean_squared_error(test_y,predictions_rmse_test[scenario]))\n",
    "\n",
    "    mae_reg_train[scenario] = mean_absolute_error(train_y,predictions_mae_train[scenario])\n",
    "    mae_reg_test[scenario] = mean_absolute_error(test_y,predictions_mae_test[scenario])\n",
    "    scenario += 1\n",
    "    other_count += 1\n",
    "\n",
    "\n",
    "\n",
    "print(\"RMSE Trainingsdaten:\", rmse_reg_train)\n",
    "print(\"RMSE Testdaten:\",rmse_reg_test)\n",
    "print(\"MAE Trainingsdaten:\",mae_reg_train)\n",
    "print(\"MAE Testdaten:\",mae_reg_test)\n",
    "\n",
    "\n",
    "\n"
   ]
  },
  {
   "cell_type": "code",
   "execution_count": 3,
   "metadata": {},
   "outputs": [
    {
     "name": "stdout",
     "output_type": "stream",
     "text": [
      "==============\n",
      "==============\n",
      "ACC  Prog1_beste\n",
      "Fitting 5 folds for each of 10080 candidates, totalling 50400 fits\n"
     ]
    },
    {
     "name": "stderr",
     "output_type": "stream",
     "text": [
      "[Parallel(n_jobs=-1)]: Using backend LokyBackend with 4 concurrent workers.\n",
      "[Parallel(n_jobs=-1)]: Done 892 tasks      | elapsed:    1.8s\n",
      "[Parallel(n_jobs=-1)]: Done 4792 tasks      | elapsed:   10.1s\n",
      "[Parallel(n_jobs=-1)]: Done 11292 tasks      | elapsed:   24.9s\n",
      "[Parallel(n_jobs=-1)]: Done 20392 tasks      | elapsed:   46.0s\n",
      "[Parallel(n_jobs=-1)]: Done 32092 tasks      | elapsed:  1.2min\n",
      "[Parallel(n_jobs=-1)]: Done 46392 tasks      | elapsed:  1.8min\n",
      "[Parallel(n_jobs=-1)]: Done 50400 out of 50400 | elapsed:  2.0min finished\n"
     ]
    },
    {
     "name": "stdout",
     "output_type": "stream",
     "text": [
      "Best parameter for ACC (CV score=0.330):\n",
      "{'criterion': 'entropy', 'max_depth': 3, 'max_features': 0.75, 'max_leaf_nodes': 5, 'min_samples_leaf': 20, 'min_samples_split': 2}\n",
      "Scores: [0.30952381 0.33333333 0.30769231 0.38888889 0.3125    ]\n",
      "Mean: 0.3303876678876679\n",
      "Standard deviation: 0.03066404548077528\n",
      "0\n",
      "100\n",
      "200\n",
      "300\n",
      "400\n",
      "500\n",
      "600\n",
      "700\n",
      "800\n",
      "900\n"
     ]
    },
    {
     "data": {
      "image/png": "[encoded data removed]",
      "text/plain": [
       "<Figure size 432x288 with 1 Axes>"
      ]
     },
     "metadata": {
      "needs_background": "light"
     },
     "output_type": "display_data"
    },
    {
     "name": "stdout",
     "output_type": "stream",
     "text": [
      "95.0% confidence interval from 16.29% to 35.94%\n",
      "==============\n",
      "ACC  MfI1_beste\n",
      "Fitting 5 folds for each of 10080 candidates, totalling 50400 fits\n"
     ]
    },
    {
     "name": "stderr",
     "output_type": "stream",
     "text": [
      "/home/franz/miniconda3/envs/mainenv/lib/python3.7/site-packages/sklearn/model_selection/_split.py:657: Warning: The least populated class in y has only 1 members, which is too few. The minimum number of members in any class cannot be less than n_splits=5.\n",
      "  % (min_groups, self.n_splits)), Warning)\n",
      "[Parallel(n_jobs=-1)]: Using backend LokyBackend with 4 concurrent workers.\n",
      "[Parallel(n_jobs=-1)]: Done 960 tasks      | elapsed:    2.3s\n",
      "[Parallel(n_jobs=-1)]: Done 5160 tasks      | elapsed:   11.0s\n",
      "[Parallel(n_jobs=-1)]: Done 12160 tasks      | elapsed:   25.1s\n",
      "[Parallel(n_jobs=-1)]: Done 21960 tasks      | elapsed:   43.8s\n",
      "[Parallel(n_jobs=-1)]: Done 34560 tasks      | elapsed:  1.2min\n",
      "[Parallel(n_jobs=-1)]: Done 49960 tasks      | elapsed:  1.7min\n",
      "[Parallel(n_jobs=-1)]: Done 50400 out of 50400 | elapsed:  1.7min finished\n"
     ]
    },
    {
     "name": "stdout",
     "output_type": "stream",
     "text": [
      "Best parameter for ACC (CV score=0.420):\n",
      "{'criterion': 'entropy', 'max_depth': 3, 'max_features': 0.5, 'max_leaf_nodes': 5, 'min_samples_leaf': 20, 'min_samples_split': 2}\n",
      "Scores: [0.33333333 0.35       0.41176471 0.46666667 0.53846154]\n",
      "Mean: 0.4200452488687783\n",
      "Standard deviation: 0.07574936939073086\n",
      "0\n"
     ]
    },
    {
     "name": "stderr",
     "output_type": "stream",
     "text": [
      "/home/franz/miniconda3/envs/mainenv/lib/python3.7/site-packages/sklearn/model_selection/_split.py:657: Warning: The least populated class in y has only 1 members, which is too few. The minimum number of members in any class cannot be less than n_splits=5.\n",
      "  % (min_groups, self.n_splits)), Warning)\n"
     ]
    },
    {
     "name": "stdout",
     "output_type": "stream",
     "text": [
      "100\n",
      "200\n",
      "300\n",
      "400\n",
      "500\n",
      "600\n",
      "700\n",
      "800\n",
      "900\n"
     ]
    },
    {
     "data": {
      "image/png": "[encoded data removed]",
      "text/plain": [
       "<Figure size 432x288 with 1 Axes>"
      ]
     },
     "metadata": {
      "needs_background": "light"
     },
     "output_type": "display_data"
    },
    {
     "name": "stdout",
     "output_type": "stream",
     "text": [
      "95.0% confidence interval from 15.15% to 43.11%\n",
      "==============\n",
      "ACC  beste\n",
      "Fitting 5 folds for each of 10080 candidates, totalling 50400 fits\n"
     ]
    },
    {
     "name": "stderr",
     "output_type": "stream",
     "text": [
      "[Parallel(n_jobs=-1)]: Using backend LokyBackend with 4 concurrent workers.\n",
      "[Parallel(n_jobs=-1)]: Done 960 tasks      | elapsed:    2.1s\n",
      "[Parallel(n_jobs=-1)]: Done 5160 tasks      | elapsed:   11.9s\n",
      "[Parallel(n_jobs=-1)]: Done 12160 tasks      | elapsed:   28.4s\n",
      "[Parallel(n_jobs=-1)]: Done 21960 tasks      | elapsed:   49.6s\n",
      "[Parallel(n_jobs=-1)]: Done 34560 tasks      | elapsed:  1.3min\n",
      "[Parallel(n_jobs=-1)]: Done 49960 tasks      | elapsed:  1.9min\n",
      "[Parallel(n_jobs=-1)]: Done 50400 out of 50400 | elapsed:  1.9min finished\n"
     ]
    },
    {
     "name": "stdout",
     "output_type": "stream",
     "text": [
      "Best parameter for ACC (CV score=0.353):\n",
      "{'criterion': 'entropy', 'max_depth': 4, 'max_features': 0.75, 'max_leaf_nodes': 5, 'min_samples_leaf': 20, 'min_samples_split': 2}\n",
      "Scores: [0.30232558 0.375      0.41025641 0.32432432 0.35294118]\n",
      "Mean: 0.35296949848933434\n",
      "Standard deviation: 0.03782191534103783\n",
      "0\n",
      "100\n",
      "200\n",
      "300\n",
      "400\n",
      "500\n",
      "600\n",
      "700\n",
      "800\n",
      "900\n"
     ]
    },
    {
     "data": {
      "image/png": "[encoded data removed]",
      "text/plain": [
       "<Figure size 432x288 with 1 Axes>"
      ]
     },
     "metadata": {
      "needs_background": "light"
     },
     "output_type": "display_data"
    },
    {
     "name": "stdout",
     "output_type": "stream",
     "text": [
      "95.0% confidence interval from 17.91% to 36.22%\n",
      "================\n",
      "ACC  Prog1_beste\n",
      "Fitting 5 folds for each of 10080 candidates, totalling 50400 fits\n"
     ]
    },
    {
     "name": "stderr",
     "output_type": "stream",
     "text": [
      "[Parallel(n_jobs=-1)]: Using backend LokyBackend with 4 concurrent workers.\n",
      "[Parallel(n_jobs=-1)]: Done 1348 tasks      | elapsed:    3.4s\n",
      "[Parallel(n_jobs=-1)]: Done 8248 tasks      | elapsed:   22.2s\n",
      "[Parallel(n_jobs=-1)]: Done 19748 tasks      | elapsed:   53.8s\n",
      "[Parallel(n_jobs=-1)]: Done 35848 tasks      | elapsed:  1.5min\n",
      "[Parallel(n_jobs=-1)]: Done 50400 out of 50400 | elapsed:  2.1min finished\n"
     ]
    },
    {
     "name": "stdout",
     "output_type": "stream",
     "text": [
      "Best parameter for ACC (CV score=0.702):\n",
      "{'criterion': 'entropy', 'max_depth': 3, 'max_features': 0.75, 'max_leaf_nodes': 5, 'min_samples_leaf': 20, 'min_samples_split': 2}\n",
      "Scores: [0.74358974 0.64102564 0.68421053 0.60526316 0.83783784]\n",
      "Mean: 0.7023853813327496\n",
      "Standard deviation: 0.08194295187904205\n",
      "0\n",
      "100\n",
      "200\n",
      "300\n",
      "400\n",
      "500\n",
      "600\n",
      "700\n",
      "800\n",
      "900\n"
     ]
    },
    {
     "data": {
      "image/png": "[encoded data removed]",
      "text/plain": [
       "<Figure size 432x288 with 1 Axes>"
      ]
     },
     "metadata": {
      "needs_background": "light"
     },
     "output_type": "display_data"
    },
    {
     "name": "stdout",
     "output_type": "stream",
     "text": [
      "95.0% confidence interval from 54.76% to 74.81%\n",
      "F1  Prog1_beste\n",
      "Fitting 5 folds for each of 10080 candidates, totalling 50400 fits\n"
     ]
    },
    {
     "name": "stderr",
     "output_type": "stream",
     "text": [
      "[Parallel(n_jobs=-1)]: Using backend LokyBackend with 4 concurrent workers.\n",
      "[Parallel(n_jobs=-1)]: Done 824 tasks      | elapsed:    2.6s\n",
      "[Parallel(n_jobs=-1)]: Done 4424 tasks      | elapsed:   14.3s\n",
      "[Parallel(n_jobs=-1)]: Done 10424 tasks      | elapsed:   32.6s\n",
      "[Parallel(n_jobs=-1)]: Done 18824 tasks      | elapsed:   54.4s\n",
      "[Parallel(n_jobs=-1)]: Done 29624 tasks      | elapsed:  1.4min\n",
      "[Parallel(n_jobs=-1)]: Done 42824 tasks      | elapsed:  2.0min\n",
      "[Parallel(n_jobs=-1)]: Done 50400 out of 50400 | elapsed:  2.3min finished\n"
     ]
    },
    {
     "name": "stdout",
     "output_type": "stream",
     "text": [
      "Best parameter for F1 (CV score=0.429):\n",
      "{'criterion': 'entropy', 'max_depth': 4, 'max_features': 0.75, 'max_leaf_nodes': 10, 'min_samples_leaf': 20, 'min_samples_split': 2}\n",
      "Scores: [0.56       0.5        0.33333333 0.11764706 0.63157895]\n",
      "Mean: 0.42851186790505674\n",
      "Standard deviation: 0.1840281519999246\n",
      "0\n"
     ]
    },
    {
     "name": "stderr",
     "output_type": "stream",
     "text": [
      "/home/franz/miniconda3/envs/mainenv/lib/python3.7/site-packages/sklearn/metrics/classification.py:1437: UndefinedMetricWarning: F-score is ill-defined and being set to 0.0 due to no predicted samples.\n",
      "  'precision', 'predicted', average, warn_for)\n"
     ]
    },
    {
     "name": "stdout",
     "output_type": "stream",
     "text": [
      "100\n"
     ]
    },
    {
     "name": "stderr",
     "output_type": "stream",
     "text": [
      "/home/franz/miniconda3/envs/mainenv/lib/python3.7/site-packages/sklearn/metrics/classification.py:1437: UndefinedMetricWarning: F-score is ill-defined and being set to 0.0 due to no predicted samples.\n",
      "  'precision', 'predicted', average, warn_for)\n"
     ]
    },
    {
     "name": "stdout",
     "output_type": "stream",
     "text": [
      "200\n"
     ]
    },
    {
     "name": "stderr",
     "output_type": "stream",
     "text": [
      "/home/franz/miniconda3/envs/mainenv/lib/python3.7/site-packages/sklearn/metrics/classification.py:1437: UndefinedMetricWarning: F-score is ill-defined and being set to 0.0 due to no predicted samples.\n",
      "  'precision', 'predicted', average, warn_for)\n"
     ]
    },
    {
     "name": "stdout",
     "output_type": "stream",
     "text": [
      "300\n",
      "400\n",
      "500\n",
      "600\n",
      "700\n",
      "800\n"
     ]
    },
    {
     "name": "stderr",
     "output_type": "stream",
     "text": [
      "/home/franz/miniconda3/envs/mainenv/lib/python3.7/site-packages/sklearn/metrics/classification.py:1437: UndefinedMetricWarning: F-score is ill-defined and being set to 0.0 due to no predicted samples.\n",
      "  'precision', 'predicted', average, warn_for)\n",
      "/home/franz/miniconda3/envs/mainenv/lib/python3.7/site-packages/sklearn/metrics/classification.py:1437: UndefinedMetricWarning: F-score is ill-defined and being set to 0.0 due to no predicted samples.\n",
      "  'precision', 'predicted', average, warn_for)\n"
     ]
    },
    {
     "name": "stdout",
     "output_type": "stream",
     "text": [
      "900\n"
     ]
    },
    {
     "name": "stderr",
     "output_type": "stream",
     "text": [
      "/home/franz/miniconda3/envs/mainenv/lib/python3.7/site-packages/sklearn/metrics/classification.py:1437: UndefinedMetricWarning: F-score is ill-defined and being set to 0.0 due to no predicted samples.\n",
      "  'precision', 'predicted', average, warn_for)\n"
     ]
    },
    {
     "data": {
      "image/png": "[encoded data removed]",
      "text/plain": [
       "<Figure size 432x288 with 1 Axes>"
      ]
     },
     "metadata": {
      "needs_background": "light"
     },
     "output_type": "display_data"
    },
    {
     "name": "stdout",
     "output_type": "stream",
     "text": [
      "95.0% confidence interval from 7.69% to 45.95%\n",
      "AUC  Prog1_beste\n",
      "Fitting 5 folds for each of 10080 candidates, totalling 50400 fits\n"
     ]
    },
    {
     "name": "stderr",
     "output_type": "stream",
     "text": [
      "[Parallel(n_jobs=-1)]: Using backend LokyBackend with 4 concurrent workers.\n",
      "[Parallel(n_jobs=-1)]: Done 756 tasks      | elapsed:    2.4s\n",
      "[Parallel(n_jobs=-1)]: Done 4056 tasks      | elapsed:   11.3s\n",
      "[Parallel(n_jobs=-1)]: Done 9556 tasks      | elapsed:   26.2s\n",
      "[Parallel(n_jobs=-1)]: Done 17256 tasks      | elapsed:   50.7s\n",
      "[Parallel(n_jobs=-1)]: Done 27156 tasks      | elapsed:  1.3min\n",
      "[Parallel(n_jobs=-1)]: Done 39256 tasks      | elapsed:  1.9min\n",
      "[Parallel(n_jobs=-1)]: Done 50400 out of 50400 | elapsed:  2.4min finished\n"
     ]
    },
    {
     "name": "stdout",
     "output_type": "stream",
     "text": [
      "Best parameter for AUC (CV score=0.671):\n",
      "{'criterion': 'entropy', 'max_depth': 5, 'max_features': 0.75, 'max_leaf_nodes': 10, 'min_samples_leaf': 10, 'min_samples_split': 40}\n",
      "Scores: [0.73863636 0.64285714 0.63804714 0.52861953 0.80555556]\n",
      "Mean: 0.6707431457431458\n",
      "Standard deviation: 0.09468860068227977\n",
      "0\n",
      "100\n",
      "200\n",
      "300\n",
      "400\n",
      "500\n",
      "600\n",
      "700\n",
      "800\n",
      "900\n"
     ]
    },
    {
     "data": {
      "image/png": "[encoded data removed]",
      "text/plain": [
       "<Figure size 432x288 with 1 Axes>"
      ]
     },
     "metadata": {
      "needs_background": "light"
     },
     "output_type": "display_data"
    },
    {
     "name": "stdout",
     "output_type": "stream",
     "text": [
      "95.0% confidence interval from 0.4434 to 0.6278\n",
      "================\n",
      "ACC  MfI1_beste\n",
      "Fitting 5 folds for each of 10080 candidates, totalling 50400 fits\n"
     ]
    },
    {
     "name": "stderr",
     "output_type": "stream",
     "text": [
      "[Parallel(n_jobs=-1)]: Using backend LokyBackend with 4 concurrent workers.\n",
      "[Parallel(n_jobs=-1)]: Done 1096 tasks      | elapsed:    3.1s\n",
      "[Parallel(n_jobs=-1)]: Done 5896 tasks      | elapsed:   16.4s\n",
      "[Parallel(n_jobs=-1)]: Done 13896 tasks      | elapsed:   36.4s\n",
      "[Parallel(n_jobs=-1)]: Done 25096 tasks      | elapsed:   58.5s\n",
      "[Parallel(n_jobs=-1)]: Done 39496 tasks      | elapsed:  1.4min\n",
      "[Parallel(n_jobs=-1)]: Done 50400 out of 50400 | elapsed:  1.8min finished\n"
     ]
    },
    {
     "name": "stdout",
     "output_type": "stream",
     "text": [
      "Best parameter for ACC (CV score=0.851):\n",
      "{'criterion': 'entropy', 'max_depth': 5, 'max_features': 0.5, 'max_leaf_nodes': 20, 'min_samples_leaf': 1, 'min_samples_split': 5}\n",
      "Scores: [0.66666667 0.82352941 0.88235294 0.88235294 1.        ]\n",
      "Mean: 0.8509803921568627\n",
      "Standard deviation: 0.10853609806351411\n",
      "0\n",
      "100\n",
      "200\n",
      "300\n",
      "400\n",
      "500\n",
      "600\n",
      "700\n",
      "800\n",
      "900\n"
     ]
    },
    {
     "data": {
      "image/png": "[encoded data removed]",
      "text/plain": [
       "<Figure size 432x288 with 1 Axes>"
      ]
     },
     "metadata": {
      "needs_background": "light"
     },
     "output_type": "display_data"
    },
    {
     "name": "stdout",
     "output_type": "stream",
     "text": [
      "95.0% confidence interval from 46.03% to 71.19%\n",
      "F1  MfI1_beste\n",
      "Fitting 5 folds for each of 10080 candidates, totalling 50400 fits\n"
     ]
    },
    {
     "name": "stderr",
     "output_type": "stream",
     "text": [
      "[Parallel(n_jobs=-1)]: Using backend LokyBackend with 4 concurrent workers.\n",
      "[Parallel(n_jobs=-1)]: Done 1028 tasks      | elapsed:    2.6s\n",
      "[Parallel(n_jobs=-1)]: Done 5528 tasks      | elapsed:   13.5s\n",
      "[Parallel(n_jobs=-1)]: Done 13028 tasks      | elapsed:   34.6s\n",
      "[Parallel(n_jobs=-1)]: Done 23528 tasks      | elapsed:  1.1min\n",
      "[Parallel(n_jobs=-1)]: Done 37028 tasks      | elapsed:  1.7min\n",
      "[Parallel(n_jobs=-1)]: Done 50400 out of 50400 | elapsed:  2.2min finished\n"
     ]
    },
    {
     "name": "stdout",
     "output_type": "stream",
     "text": [
      "Best parameter for F1 (CV score=0.806):\n",
      "{'criterion': 'entropy', 'max_depth': 5, 'max_features': 0.5, 'max_leaf_nodes': 20, 'min_samples_leaf': 1, 'min_samples_split': 5}\n",
      "Scores: [0.57142857 0.76923077 0.85714286 0.83333333 1.        ]\n",
      "Mean: 0.8062271062271062\n",
      "Standard deviation: 0.13955226726574932\n",
      "0\n",
      "100\n",
      "200\n",
      "300\n",
      "400\n",
      "500\n",
      "600\n",
      "700\n",
      "800\n",
      "900\n"
     ]
    },
    {
     "data": {
      "image/png": "[encoded data removed]",
      "text/plain": [
       "<Figure size 432x288 with 1 Axes>"
      ]
     },
     "metadata": {
      "needs_background": "light"
     },
     "output_type": "display_data"
    },
    {
     "name": "stdout",
     "output_type": "stream",
     "text": [
      "95.0% confidence interval from 26.92% to 63.83%\n",
      "AUC  MfI1_beste\n",
      "Fitting 5 folds for each of 10080 candidates, totalling 50400 fits\n"
     ]
    },
    {
     "name": "stderr",
     "output_type": "stream",
     "text": [
      "[Parallel(n_jobs=-1)]: Using backend LokyBackend with 4 concurrent workers.\n",
      "[Parallel(n_jobs=-1)]: Done 1164 tasks      | elapsed:    2.7s\n",
      "[Parallel(n_jobs=-1)]: Done 6264 tasks      | elapsed:   17.0s\n",
      "[Parallel(n_jobs=-1)]: Done 14764 tasks      | elapsed:   39.5s\n",
      "[Parallel(n_jobs=-1)]: Done 26664 tasks      | elapsed:  1.2min\n",
      "[Parallel(n_jobs=-1)]: Done 41964 tasks      | elapsed:  1.8min\n",
      "[Parallel(n_jobs=-1)]: Done 50400 out of 50400 | elapsed:  2.1min finished\n"
     ]
    },
    {
     "name": "stdout",
     "output_type": "stream",
     "text": [
      "Best parameter for AUC (CV score=0.832):\n",
      "{'criterion': 'gini', 'max_depth': 4, 'max_features': 0.5, 'max_leaf_nodes': 10, 'min_samples_leaf': 3, 'min_samples_split': 10}\n",
      "Scores: [0.70779221 0.85       0.77142857 0.82857143 1.        ]\n",
      "Mean: 0.8315584415584416\n",
      "Standard deviation: 0.09762710057875532\n",
      "0\n",
      "100\n",
      "200\n",
      "300\n",
      "400\n",
      "500\n",
      "600\n",
      "700\n",
      "800\n",
      "900\n"
     ]
    },
    {
     "data": {
      "image/png": "[encoded data removed]",
      "text/plain": [
       "<Figure size 432x288 with 1 Axes>"
      ]
     },
     "metadata": {
      "needs_background": "light"
     },
     "output_type": "display_data"
    },
    {
     "name": "stdout",
     "output_type": "stream",
     "text": [
      "95.0% confidence interval from 0.4402 to 0.7000\n",
      "================\n",
      "ACC  beste\n",
      "Fitting 5 folds for each of 10080 candidates, totalling 50400 fits\n"
     ]
    },
    {
     "name": "stderr",
     "output_type": "stream",
     "text": [
      "[Parallel(n_jobs=-1)]: Using backend LokyBackend with 4 concurrent workers.\n",
      "[Parallel(n_jobs=-1)]: Done 1232 tasks      | elapsed:    2.7s\n",
      "[Parallel(n_jobs=-1)]: Done 6632 tasks      | elapsed:   15.9s\n",
      "[Parallel(n_jobs=-1)]: Done 15632 tasks      | elapsed:   36.2s\n",
      "[Parallel(n_jobs=-1)]: Done 28232 tasks      | elapsed:  1.1min\n",
      "[Parallel(n_jobs=-1)]: Done 44432 tasks      | elapsed:  1.8min\n",
      "[Parallel(n_jobs=-1)]: Done 50400 out of 50400 | elapsed:  2.1min finished\n"
     ]
    },
    {
     "name": "stdout",
     "output_type": "stream",
     "text": [
      "Best parameter for ACC (CV score=0.751):\n",
      "{'criterion': 'entropy', 'max_depth': 7, 'max_features': 1.0, 'max_leaf_nodes': 20, 'min_samples_leaf': 3, 'min_samples_split': 10}\n",
      "Scores: [0.79487179 0.74358974 0.79487179 0.63157895 0.78947368]\n",
      "Mean: 0.7508771929824561\n",
      "Standard deviation: 0.06268319942561851\n",
      "0\n",
      "100\n",
      "200\n",
      "300\n",
      "400\n",
      "500\n",
      "600\n",
      "700\n",
      "800\n",
      "900\n"
     ]
    },
    {
     "data": {
      "image/png": "[encoded data removed]",
      "text/plain": [
       "<Figure size 432x288 with 1 Axes>"
      ]
     },
     "metadata": {
      "needs_background": "light"
     },
     "output_type": "display_data"
    },
    {
     "name": "stdout",
     "output_type": "stream",
     "text": [
      "95.0% confidence interval from 54.95% to 71.33%\n",
      "F1  beste\n",
      "Fitting 5 folds for each of 10080 candidates, totalling 50400 fits\n"
     ]
    },
    {
     "name": "stderr",
     "output_type": "stream",
     "text": [
      "[Parallel(n_jobs=-1)]: Using backend LokyBackend with 4 concurrent workers.\n",
      "[Parallel(n_jobs=-1)]: Done 756 tasks      | elapsed:    1.9s\n",
      "[Parallel(n_jobs=-1)]: Done 4056 tasks      | elapsed:   10.8s\n",
      "[Parallel(n_jobs=-1)]: Done 9556 tasks      | elapsed:   25.7s\n",
      "[Parallel(n_jobs=-1)]: Done 17256 tasks      | elapsed:   47.7s\n",
      "[Parallel(n_jobs=-1)]: Done 27156 tasks      | elapsed:  1.3min\n",
      "[Parallel(n_jobs=-1)]: Done 39256 tasks      | elapsed:  1.8min\n",
      "[Parallel(n_jobs=-1)]: Done 50400 out of 50400 | elapsed:  2.3min finished\n"
     ]
    },
    {
     "name": "stdout",
     "output_type": "stream",
     "text": [
      "Best parameter for F1 (CV score=0.536):\n",
      "{'criterion': 'entropy', 'max_depth': 7, 'max_features': 1.0, 'max_leaf_nodes': 20, 'min_samples_leaf': 1, 'min_samples_split': 10}\n",
      "Scores: [0.5        0.59259259 0.42105263 0.5        0.66666667]\n",
      "Mean: 0.5360623781676412\n",
      "Standard deviation: 0.08494866375155657\n",
      "0\n",
      "100\n",
      "200\n",
      "300\n",
      "400\n",
      "500\n",
      "600\n",
      "700\n",
      "800\n",
      "900\n"
     ]
    },
    {
     "data": {
      "image/png": "[encoded data removed]",
      "text/plain": [
       "<Figure size 432x288 with 1 Axes>"
      ]
     },
     "metadata": {
      "needs_background": "light"
     },
     "output_type": "display_data"
    },
    {
     "name": "stdout",
     "output_type": "stream",
     "text": [
      "95.0% confidence interval from 15.09% to 45.58%\n",
      "AUC  beste\n",
      "Fitting 5 folds for each of 10080 candidates, totalling 50400 fits\n"
     ]
    },
    {
     "name": "stderr",
     "output_type": "stream",
     "text": [
      "[Parallel(n_jobs=-1)]: Using backend LokyBackend with 4 concurrent workers.\n",
      "[Parallel(n_jobs=-1)]: Done 824 tasks      | elapsed:    2.1s\n",
      "[Parallel(n_jobs=-1)]: Done 4424 tasks      | elapsed:   12.2s\n",
      "[Parallel(n_jobs=-1)]: Done 10424 tasks      | elapsed:   33.4s\n",
      "[Parallel(n_jobs=-1)]: Done 18824 tasks      | elapsed:   56.2s\n",
      "[Parallel(n_jobs=-1)]: Done 29624 tasks      | elapsed:  1.4min\n",
      "[Parallel(n_jobs=-1)]: Done 42824 tasks      | elapsed:  2.1min\n",
      "[Parallel(n_jobs=-1)]: Done 50400 out of 50400 | elapsed:  2.4min finished\n"
     ]
    },
    {
     "name": "stdout",
     "output_type": "stream",
     "text": [
      "Best parameter for AUC (CV score=0.702):\n",
      "{'criterion': 'gini', 'max_depth': 10, 'max_features': 1.0, 'max_leaf_nodes': 10, 'min_samples_leaf': 3, 'min_samples_split': 20}\n",
      "Scores: [0.72077922 0.71753247 0.78896104 0.63571429 0.64642857]\n",
      "Mean: 0.7018831168831169\n",
      "Standard deviation: 0.055925039582331845\n",
      "0\n",
      "100\n",
      "200\n",
      "300\n",
      "400\n",
      "500\n",
      "600\n",
      "700\n",
      "800\n",
      "900\n"
     ]
    },
    {
     "data": {
      "image/png": "[encoded data removed]",
      "text/plain": [
       "<Figure size 432x288 with 1 Axes>"
      ]
     },
     "metadata": {
      "needs_background": "light"
     },
     "output_type": "display_data"
    },
    {
     "name": "stdout",
     "output_type": "stream",
     "text": [
      "95.0% confidence interval from 0.4506 to 0.6253\n",
      "================\n",
      "ACC  beide\n",
      "Fitting 5 folds for each of 10080 candidates, totalling 50400 fits\n"
     ]
    },
    {
     "name": "stderr",
     "output_type": "stream",
     "text": [
      "[Parallel(n_jobs=-1)]: Using backend LokyBackend with 4 concurrent workers.\n",
      "[Parallel(n_jobs=-1)]: Done 960 tasks      | elapsed:    1.8s\n",
      "[Parallel(n_jobs=-1)]: Done 5160 tasks      | elapsed:    9.6s\n",
      "[Parallel(n_jobs=-1)]: Done 12160 tasks      | elapsed:   22.7s\n",
      "[Parallel(n_jobs=-1)]: Done 21960 tasks      | elapsed:   41.1s\n",
      "[Parallel(n_jobs=-1)]: Done 34560 tasks      | elapsed:  1.1min\n",
      "[Parallel(n_jobs=-1)]: Done 49960 tasks      | elapsed:  1.6min\n",
      "[Parallel(n_jobs=-1)]: Done 50400 out of 50400 | elapsed:  1.6min finished\n"
     ]
    },
    {
     "name": "stdout",
     "output_type": "stream",
     "text": [
      "Best parameter for ACC (CV score=0.580):\n",
      "{'criterion': 'entropy', 'max_depth': 4, 'max_features': 0.25, 'max_leaf_nodes': 5, 'min_samples_leaf': 5, 'min_samples_split': 30}\n",
      "Scores: [0.54545455 0.5        0.68181818 0.57142857 0.6       ]\n",
      "Mean: 0.5797402597402598\n",
      "Standard deviation: 0.06071814002628018\n",
      "0\n",
      "100\n",
      "200\n",
      "300\n",
      "400\n",
      "500\n",
      "600\n",
      "700\n",
      "800\n",
      "900\n"
     ]
    },
    {
     "data": {
      "image/png": "[encoded data removed]",
      "text/plain": [
       "<Figure size 432x288 with 1 Axes>"
      ]
     },
     "metadata": {
      "needs_background": "light"
     },
     "output_type": "display_data"
    },
    {
     "name": "stdout",
     "output_type": "stream",
     "text": [
      "95.0% confidence interval from 29.63% to 56.58%\n",
      "Accuracy Trainingsdaten: [0.33507853403141363, 0.4069767441860465, 0.38860103626943004, 0.7696335078534031, 0.9418604651162791, 0.9378238341968912, 0.5887850467289719]\n",
      "Accuracy Testdaten: [0.3614457831325301, 0.3684210526315789, 0.2976190476190476, 0.7108433734939759, 0.5263157894736842, 0.6547619047619048, 0.5319148936170213]\n",
      "F1 Trainingsdaten: [[0], [0], [0], 0.4054054054054055, 0.923076923076923, 0.875, [0]]\n",
      "F1 Testdaten: [[0], [0], [0], 0.4, 0.39999999999999997, 0.2926829268292683, [0]]\n",
      "AUC Trainingsdaten: [[0], [0], [0], 0.849080832657475, 0.9456582633053222, 0.8868598382749326, [0]]\n",
      "AUC Testdaten: [[0], [0], [0], 0.653954802259887, 0.5014880952380952, 0.5294915254237288, [0]]\n"
     ]
    }
   ],
   "source": [
    "#Classification\n",
    "dt_class = DecisionTreeClassifier(random_state=42)\n",
    "#helper variables\n",
    "predictions_acc_train = [[0] * LENGTH for i in range(7)]\n",
    "predictions_acc_test = [[0] * LENGTH for i in range(7)]\n",
    "predictions_f1_train = [[0] * LENGTH for i in range(7)]\n",
    "predictions_f1_test = [[0] * LENGTH for i in range(7)]\n",
    "predictions_auc_train = [[0] * LENGTH for i in range(7)]\n",
    "predictions_auc_test = [[0] * LENGTH for i in range(7)]\n",
    "\n",
    "probs_class_train = [[0] * LENGTH for i in range(7)]\n",
    "probs_class_test = [[0] * LENGTH for i in range(7)]\n",
    "\n",
    "\n",
    "acc_train = [[0] * 1 for i in range(7)]\n",
    "acc_test = [[0] * 1 for i in range(7)]\n",
    "f1_train = [[0] * 1 for i in range(7)]\n",
    "f1_test = [[0] * 1 for i in range(7)]\n",
    "auc_train = [[0] * 1 for i in range(7)]\n",
    "auc_test = [[0] * 1 for i in range(7)]\n",
    "\n",
    "\n",
    "labels_class = [\"Prog1_beste\", \"MfI1_beste\", \"beste\", \"beide\"]\n",
    "others_class = [[\"MfI1_beste\",\"beste\",\"beide\"],[\"Prog1_beste\",\"beste\",\"beide\"],[\"Prog1_beste\",\"MfI1_beste\",\"beide\"]\n",
    "         ,[\"Prog1_beste\",\"MfI1_beste\",\"beste\"]]\n",
    "scenario = 0\n",
    "other_count = 0\n",
    "\n",
    "#Parameters to be considered in Grid Search\n",
    "param_grid_class = {\n",
    "    'criterion':('gini', 'entropy'),\n",
    "    'max_depth':[3,4,5,7, 10, 15, 100],\n",
    "    'min_samples_split':[2,5,10,20, 30, 40],\n",
    "    'min_samples_leaf':[1,3,5,10,20],\n",
    "    'max_features':[0.25,0.5,0.75,1.0],\n",
    "    'max_leaf_nodes':[5,10,20,25,30,100],\n",
    "    }\n",
    "\n",
    "#Scenarios 1. - 3.\n",
    "for label in labels:\n",
    "    print(\"==============\")\n",
    "    #Continuuos labels after normalization and scaling not suitable for accuracy\n",
    "    if label == \"Prog1_scaled\":\n",
    "        other_count+=1\n",
    "        continue\n",
    "    #Load data\n",
    "    data,X,y,train_X,test_X,train_y,test_y,names,feature_names,numcols,numrows = func.load_data_noten(label,others[other_count][0],others[other_count][1],others[other_count][2])\n",
    "    data_raw = data.to_numpy()\n",
    "    #Grid Search on train data\n",
    "    print(\"ACC \",label)\n",
    "    grid = GridSearchCV(dt_class, param_grid_class, n_jobs=-1,iid=False, cv=5,verbose=1, scoring='accuracy')\n",
    "    grid.fit(train_X, train_y)\n",
    "    print(\"Best parameter for ACC (CV score=%0.3f):\" % (grid.best_score_))\n",
    "    print(grid.best_params_)\n",
    "    best_dt_acc = grid.best_estimator_\n",
    "    func.cross_val(best_dt_acc, train_X, train_y, scoring=\"accuracy\")\n",
    "\n",
    "    #Bootstrap confidence intervals\n",
    "    func.bootstrap_score(data_raw, best_dt_acc,\"accuracy\")\n",
    "    \n",
    "    #Fitand store predictions\n",
    "    best_dt_acc.fit(train_X, train_y)\n",
    "    predictions_acc_train[scenario] = best_dt_acc.predict(train_X)\n",
    "    predictions_acc_test[scenario] = best_dt_acc.predict(test_X)\n",
    "    #Calculate accuracy\n",
    "    acc_train[scenario] = accuracy_score(train_y,predictions_acc_train[scenario])\n",
    "    acc_test[scenario] = accuracy_score(test_y,predictions_acc_test[scenario])   \n",
    "    scenario += 1\n",
    "    other_count += 1\n",
    "    \n",
    "other_count = 0\n",
    "#Scenarios 4. - 7.\n",
    "for label in labels_class:   \n",
    "    print(\"================\")\n",
    "    #Load data\n",
    "    data,X,y,train_X,test_X,train_y,test_y,names,feature_names,numcols,numrows = func.load_data_bestanden(label,others_class[other_count][0],\n",
    "                                                                 others_class[other_count][1],\n",
    "                                                                 others_class[other_count][2])\n",
    "    data_raw = data.to_numpy()\n",
    "    #Grid Search on train data for accuracy\n",
    "    print(\"ACC \",label)\n",
    "    grid = GridSearchCV(dt_class, param_grid_class, n_jobs=-1,iid=False, cv=5,verbose=1, scoring='accuracy')\n",
    "    grid.fit(train_X, train_y)\n",
    "    print(\"Best parameter for ACC (CV score=%0.3f):\" % (grid.best_score_))\n",
    "    print(grid.best_params_)\n",
    "    best_dt_acc = grid.best_estimator_\n",
    "    func.cross_val(best_dt_acc, train_X, train_y, scoring=\"accuracy\")\n",
    "    #Botstrap confidence intervals\n",
    "    func.bootstrap_score(data_raw, best_dt_acc,\"accuracy\")\n",
    "    \n",
    "    #Fit and store predictions\n",
    "    best_dt_acc.fit(train_X, train_y)\n",
    "    predictions_acc_train[scenario] = best_dt_acc.predict(train_X)\n",
    "    predictions_acc_test[scenario] = best_dt_acc.predict(test_X)\n",
    "    #Calculate accuracy\n",
    "    acc_train[scenario] = accuracy_score(train_y,predictions_acc_train[scenario])\n",
    "    acc_test[scenario] = accuracy_score(test_y,predictions_acc_test[scenario])\n",
    "    if(label!=\"beide\"):\n",
    "        # Grid Search F1\n",
    "        print(\"F1 \",label)\n",
    "        grid = GridSearchCV(dt_class, param_grid_class, n_jobs=-1,iid=False, cv=5,verbose=1, scoring='f1')\n",
    "        grid.fit(train_X, train_y)\n",
    "        print(\"Best parameter for F1 (CV score=%0.3f):\" % (grid.best_score_))\n",
    "        print(grid.best_params_)\n",
    "        best_dt_f1 = grid.best_estimator_\n",
    "        func.cross_val(best_dt_f1, train_X, train_y, scoring=\"f1\")\n",
    "\n",
    "        #Bootstrap confidence intervals\n",
    "        func.bootstrap_score(data_raw, best_dt_f1,\"f1\")\n",
    "    \n",
    "        #Grid Search ROC_AUC\n",
    "        print(\"AUC \",label)\n",
    "        grid = GridSearchCV(dt_class, param_grid_class, n_jobs=-1,iid=False, cv=5,verbose=1, scoring='roc_auc')\n",
    "        grid.fit(train_X, train_y)\n",
    "        print(\"Best parameter for AUC (CV score=%0.3f):\" % (grid.best_score_))\n",
    "        print(grid.best_params_)\n",
    "        best_dt_auc = grid.best_estimator_\n",
    "        func.cross_val(best_dt_auc, train_X, train_y, scoring=\"roc_auc\")\n",
    "        \n",
    "        #Bootstrap confidence intervals\n",
    "        func.bootstrap_score(data_raw, best_dt_auc,\"roc_auc\")\n",
    "        \n",
    "        #Fit and store predictions\n",
    "        best_dt_f1.fit(train_X, train_y)\n",
    "        predictions_f1_train[scenario] = best_dt_f1.predict(train_X)\n",
    "        predictions_f1_test[scenario] = best_dt_f1.predict(test_X)\n",
    "        best_dt_auc.fit(train_X, train_y)\n",
    "        \n",
    "        #Calculate performance\n",
    "        f1_train[scenario] = f1_score(train_y,predictions_f1_train[scenario])\n",
    "        f1_test[scenario] = f1_score(test_y,predictions_f1_test[scenario]) \n",
    "        probs_class_train[scenario] = best_dt_auc.predict_proba(train_X)\n",
    "        probs_class_train[scenario]  = probs_class_train[scenario][:, 1]\n",
    "        probs_class_test[scenario] = best_dt_auc.predict_proba(test_X)\n",
    "        probs_class_test[scenario]  = probs_class_test[scenario][:, 1]\n",
    "        auc_train[scenario] = roc_auc_score(train_y,probs_class_train[scenario])\n",
    "        auc_test[scenario] = roc_auc_score(test_y,probs_class_test[scenario]) \n",
    "    scenario += 1\n",
    "    other_count += 1\n",
    "\n",
    "print(\"Accuracy Trainingsdaten:\", acc_train)\n",
    "print(\"Accuracy Testdaten:\",acc_test)\n",
    "print(\"F1 Trainingsdaten:\", f1_train)\n",
    "print(\"F1 Testdaten:\",f1_test)\n",
    "print(\"AUC Trainingsdaten:\", auc_train)\n",
    "print(\"AUC Testdaten:\",auc_test)"
   ]
  }
 ],
 "metadata": {
  "kernelspec": {
   "display_name": "Python 3",
   "language": "python",
   "name": "python3"
  },
  "language_info": {
   "codemirror_mode": {
    "name": "ipython",
    "version": 3
   },
   "file_extension": ".py",
   "mimetype": "text/x-python",
   "name": "python",
   "nbconvert_exporter": "python",
   "pygments_lexer": "ipython3",
   "version": "3.7.5"
  }
 },
 "nbformat": 4,
 "nbformat_minor": 2
}
