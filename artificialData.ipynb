{
 "cells": [
  {
   "cell_type": "code",
   "execution_count": 1,
   "metadata": {},
   "outputs": [],
   "source": [
    "import pandas as pd\n",
    "import numpy as np\n",
    "import statistics\n",
    "from random import choice\n",
    "from sklearn.preprocessing import MinMaxScaler\n",
    "from sklearn.tree import DecisionTreeClassifier\n",
    "import matplotlib.pyplot as plt\n",
    "from sklearn.model_selection import train_test_split\n",
    "from sklearn.metrics import roc_auc_score\n",
    "from sklearn.model_selection import GridSearchCV\n",
    "from sklearn.metrics import confusion_matrix\n",
    "from sklearn.utils import resample\n",
    "import copy\n",
    "from sklearn.metrics import accuracy_score,f1_score,roc_auc_score, mean_absolute_error, mean_squared_error\n",
    "import math \n",
    "from scipy.linalg import cholesky \n",
    "from numpy.random import seed\n",
    "from numpy.random import randint\n",
    "from scipy.stats import spearmanr\n",
    "import os\n",
    "from sklearn.feature_selection import RFECV\n",
    "\n",
    "import functions as func\n",
    "pd.set_option('display.max_columns', None)\n",
    "np.set_printoptions(threshold=np.inf)\n"
   ]
  },
  {
   "cell_type": "code",
   "execution_count": 2,
   "metadata": {},
   "outputs": [],
   "source": [
    "# Set gobal variables \n",
    "numcols = 0\n",
    "numrows = 0\n",
    "np.random.seed(42)\n",
    "num = 277\n",
    "#a=1.5 -> r=0.5 , a=0.5 -> r=0.15 , a=3.0 -> r=0.7, a=4.0 -> r=0.8\n",
    "a = 4.0"
   ]
  },
  {
   "cell_type": "code",
   "execution_count": 3,
   "metadata": {},
   "outputs": [],
   "source": [
    "def create_tree_png(dt, label, measure,num,a):\n",
    "    \"\"\"Creates a png of given Decision Tree\n",
    "\n",
    "    Parameters\n",
    "    ----------\n",
    "    dt : DecisionTreeClassifier or DecisionTreeRegressor\n",
    "        The Decision Tree to convert\n",
    "    label : String\n",
    "        A string used for file name\n",
    "    measure : String\n",
    "        A string used for file name\n",
    "    num : int\n",
    "        An int used for file name\n",
    "    a : String\n",
    "        A string used for file name\n",
    "    \"\"\"\n",
    "    os.makedirs(os.path.dirname('graphs/dot/synthetic/all/%s/%s/best_pruned_%d_%s.dot'%(label,measure,num,a)), exist_ok = True)\n",
    "    os.makedirs(os.path.dirname('graphs/synthetic/all/%s/%s/best_pruned_%d_%s.png'%(label,measure,num,a)), exist_ok = True)\n",
    "\n",
    "    tree.export_graphviz(dt, out_file='graphs/dot/synthetic/all/%s/%s/best_pruned_%d_%s.dot'%(label,measure,num,a), feature_names= train_X.columns,\n",
    "                        filled=True, rounded=True,special_characters=True)\n",
    "    os.system(\"dot -T png graphs/dot/synthetic/all/%s/%s/best_pruned_%d_%s.dot -o graphs/synthetic/all/%s/%s/best_pruned_%d_%s.png\"%(label,measure,num,a,label,measure,num,a))\n",
    "\n",
    "def get_random_features(data,label,a=0.5,reg=False):\n",
    "    \"\"\"Creates random features matrix with respect to label distribution given in data. Adds noise.\n",
    "\n",
    "    Parameters\n",
    "    ----------\n",
    "    data : pandas csv file\n",
    "        The original data\n",
    "    label : String\n",
    "        Name of the label \n",
    "    a : float, optional\n",
    "        Width of normal distribution to draw random samples for correlation matrix from. \n",
    "        Higher values mean higher correlations.\n",
    "    reg : Boolean, optional\n",
    "        A flag indicating if regression or classification scenario is considered\n",
    "    \n",
    "    Returns\n",
    "    -------\n",
    "    (DataFrame, DataFrame)\n",
    "        generated features and corresponding labels as one DataFrame without noise\n",
    "        , noisy features as DataFrame\n",
    "    \"\"\"\n",
    "    # swap beste to front\n",
    "    list1 = [-1]\n",
    "    list2 = [i for i in range(numcols-1)]\n",
    "    new_columns = list1 + list2\n",
    "    data = data[data.columns[new_columns]]\n",
    "    # create the Label \n",
    "    # seed random number generator\n",
    "    seed(1)\n",
    "    # check for class distribution in original data\n",
    "    labels = []\n",
    "    if reg and label != \"Prog1_scaled\":\n",
    "        fractions = {}\n",
    "        unique, counts = np.unique(data[\"%s\"%(label)].values, return_counts=True)\n",
    "        fractions = dict(zip(unique, counts))\n",
    "        fractions.update({key: fractions[key]/numrows for key in fractions.keys()})\n",
    "        marks = [100,130,170,200,230,270,300,330,370,400,500]\n",
    "        for i in range(num):\n",
    "            rnd = np.random.choice(marks,p=list(fractions.values()))\n",
    "            labels.append(rnd)\n",
    "    elif reg and label == \"Prog1_scaled\":\n",
    "        fractions = {}\n",
    "        unique, counts = np.unique(data[\"%s\"%(label)].values, return_counts=True)\n",
    "        fractions = dict(zip(unique, counts))\n",
    "        fractions.update({key: fractions[key]/numrows for key in fractions.keys()})\n",
    "        marks = [100,124.043025059752,130,148.080043771593,170,180.129402054054,\n",
    "                 200,204.166420765875,228.203439477715,230,260.252797760176,270,284.289816471997,\n",
    "                 300,308.326835183838,330,340.376193466299,364.41321217812,370,\n",
    "                 400,444.536607884242,500]\n",
    "        for i in range(num):\n",
    "            rnd = np.random.choice(marks,p=list(fractions.values()))\n",
    "            labels.append(rnd)\n",
    "    else:\n",
    "        zeros = 0\n",
    "        ones = 0\n",
    "        twos = 0\n",
    "        for i in range(numrows):\n",
    "            if data.iloc[i][\"%s\"%(label)] == 0:\n",
    "                zeros += 1\n",
    "            elif data.iloc[i][\"%s\"%(label)] == 1:\n",
    "                ones += 1\n",
    "            elif data.iloc[i][\"%s\"%(label)] == 2:\n",
    "                twos += 1\n",
    "        frac_z = zeros/numrows\n",
    "        frac_o = ones/numrows\n",
    "        frac_t = twos/numrows\n",
    "        print(frac_z,frac_o,frac_t)\n",
    "        for i in range(num):\n",
    "            rnd = np.random.choice(np.arange(0, 3), p=[frac_z, frac_o, frac_t])\n",
    "            labels.append(rnd)\n",
    "\n",
    "    #generate Correlationmatrix\n",
    "    n = 85\n",
    "    if label == \"MfI1_beste\" or label ==\"beide\":\n",
    "        n = 86\n",
    "        \n",
    "    A = np.matrix([np.random.randn(n) + np.random.randn(1)*a for i in range(n)])\n",
    "    A = A*np.transpose(A)\n",
    "    D_half = np.diag(np.diag(A)**(-0.5))\n",
    "    C = D_half*A*D_half\n",
    "    corrs = np.argsort(np.abs(C[:,0]))\n",
    "    corrs = np.sort(np.abs(np.array(C[0,:])))\n",
    "    print(corrs[0])\n",
    "    vals = list(np.array(C.ravel())[0])\n",
    "    plt.hist(vals, range=(-1,1))\n",
    "    plt.show()\n",
    "\n",
    "    features = np.random.normal(0.0, 1.0, size=(num, numcols))\n",
    "    features[:,0] = labels\n",
    "    chol = cholesky(C) \n",
    "    features = features @ chol\n",
    "    scaler = MinMaxScaler(feature_range=(0,1))\n",
    "    features[:,1:] = scaler.fit_transform(features[:,1:])\n",
    "    features = pd.DataFrame(data=features, columns=data.columns)\n",
    "    #Check for change in labels\n",
    "    print(np.max(np.abs(features[\"%s\"%(label)]-labels))) \n",
    "    \n",
    "    #Adding noise to data\n",
    "    noise_rate = 0.1\n",
    "    if reg:\n",
    "        noise_rate = 0.5\n",
    "     \n",
    "    noise = [[0] * (numcols-1) for i in range(num)]\n",
    "    noise = np.random.normal(-noise_rate, noise_rate, size=(num, numcols-1))\n",
    "    X_noise = [sum(x) for x in zip(features.to_numpy()[:,1:], noise)]\n",
    "    X_noise = pd.DataFrame(data=X_noise,columns=feature_names)\n",
    "    return features, X_noise\n",
    "\n"
   ]
  },
  {
   "cell_type": "code",
   "execution_count": 4,
   "metadata": {
    "scrolled": true
   },
   "outputs": [
    {
     "name": "stdout",
     "output_type": "stream",
     "text": [
      "==============\n",
      "[0.06305516 0.07285401 0.13681979 0.14420057 0.19694782 0.21123607\n",
      " 0.21375046 0.22693215 0.23822097 0.26278227 0.32716641 0.40053899\n",
      " 0.4585088  0.46986722 0.53757194 0.6159278  0.62585398 0.63685981\n",
      " 0.63885305 0.69405629 0.74198799 0.77278937 0.7741798  0.79007113\n",
      " 0.82490939 0.83045478 0.84386615 0.84755388 0.85290408 0.86415675\n",
      " 0.86557866 0.87325617 0.87637501 0.87843796 0.88243806 0.88268967\n",
      " 0.89155636 0.89212539 0.89290594 0.89350237 0.89623729 0.89688955\n",
      " 0.89849132 0.90158015 0.90331098 0.90976604 0.91793859 0.91930495\n",
      " 0.92140305 0.92439885 0.92690461 0.92807242 0.92878734 0.93110728\n",
      " 0.93116411 0.93118436 0.93151726 0.93170973 0.93171068 0.9319432\n",
      " 0.9320303  0.93294525 0.93364418 0.93375882 0.93381571 0.9338405\n",
      " 0.9354857  0.93610165 0.93615458 0.9381035  0.93843432 0.93901914\n",
      " 0.93972036 0.94081162 0.94110127 0.94119462 0.94170002 0.94394497\n",
      " 0.94502605 0.94626368 0.94782381 0.94828813 0.94837615 0.94882056\n",
      " 1.        ]\n"
     ]
    },
    {
     "data": {
      "image/png": "[encoded data removed]",
      "text/plain": [
       "<Figure size 432x288 with 1 Axes>"
      ]
     },
     "metadata": {
      "needs_background": "light"
     },
     "output_type": "display_data"
    },
    {
     "name": "stdout",
     "output_type": "stream",
     "text": [
      "0.0\n",
      "ACC  Prog1_beste\n",
      "Fitting 5 folds for each of 10080 candidates, totalling 50400 fits\n"
     ]
    },
    {
     "name": "stderr",
     "output_type": "stream",
     "text": [
      "[Parallel(n_jobs=-1)]: Using backend LokyBackend with 4 concurrent workers.\n",
      "[Parallel(n_jobs=-1)]: Done 115 tasks      | elapsed:    2.7s\n",
      "[Parallel(n_jobs=-1)]: Done 4579 tasks      | elapsed:   15.0s\n",
      "[Parallel(n_jobs=-1)]: Done 12079 tasks      | elapsed:   39.2s\n",
      "[Parallel(n_jobs=-1)]: Done 22579 tasks      | elapsed:  1.2min\n",
      "[Parallel(n_jobs=-1)]: Done 36079 tasks      | elapsed:  2.1min\n",
      "[Parallel(n_jobs=-1)]: Done 50400 out of 50400 | elapsed:  3.1min finished\n"
     ]
    },
    {
     "name": "stdout",
     "output_type": "stream",
     "text": [
      "Best parameter for ACC (CV score=0.4594)\n",
      "{'criterion': 'entropy', 'max_depth': 3, 'max_features': 1.0, 'max_leaf_nodes': 10, 'min_samples_leaf': 1, 'min_samples_split': 20}\n",
      "Scores: [0.40909091 0.45238095 0.42105263 0.51428571 0.5       ]\n",
      "Mean: 0.4593620414673046\n",
      "Standard deviation: 0.041741075095880334\n",
      "==============\n",
      "[0.10230075 0.12314701 0.29234363 0.32058717 0.33874183 0.44474386\n",
      " 0.47737384 0.51215258 0.62631465 0.64336164 0.66875837 0.69448319\n",
      " 0.7276567  0.75223288 0.75322953 0.75955673 0.76889512 0.78666359\n",
      " 0.7885897  0.79231852 0.7947743  0.7977959  0.80240649 0.81198665\n",
      " 0.82408204 0.83067351 0.84307445 0.84480166 0.8454279  0.85604878\n",
      " 0.86305633 0.87291161 0.8771884  0.88477212 0.88935463 0.89155449\n",
      " 0.89562041 0.89691985 0.89951429 0.90022909 0.90479135 0.90753946\n",
      " 0.90927614 0.91275499 0.91321467 0.91560503 0.91745483 0.91963676\n",
      " 0.92008848 0.92118419 0.92264636 0.92266683 0.92463663 0.92514145\n",
      " 0.9264816  0.92899327 0.92963819 0.93156973 0.93674444 0.93726432\n",
      " 0.9378499  0.93929742 0.94141989 0.94212163 0.94345849 0.94564234\n",
      " 0.94566132 0.94623295 0.94687288 0.94706561 0.94723412 0.94761576\n",
      " 0.9482624  0.94915993 0.95064377 0.95071043 0.95186128 0.9518688\n",
      " 0.95732019 0.95787361 0.95798862 0.95930586 0.9597204  0.95992996\n",
      " 0.96017624 1.        ]\n"
     ]
    },
    {
     "data": {
      "image/png": "[encoded data removed]",
      "text/plain": [
       "<Figure size 432x288 with 1 Axes>"
      ]
     },
     "metadata": {
      "needs_background": "light"
     },
     "output_type": "display_data"
    },
    {
     "name": "stdout",
     "output_type": "stream",
     "text": [
      "0.0\n",
      "ACC  MfI1_beste\n",
      "Fitting 5 folds for each of 10080 candidates, totalling 50400 fits\n"
     ]
    },
    {
     "name": "stderr",
     "output_type": "stream",
     "text": [
      "/home/franz/miniconda3/envs/mainenv/lib/python3.7/site-packages/sklearn/model_selection/_split.py:657: Warning: The least populated class in y has only 3 members, which is too few. The minimum number of members in any class cannot be less than n_splits=5.\n",
      "  % (min_groups, self.n_splits)), Warning)\n",
      "[Parallel(n_jobs=-1)]: Using backend LokyBackend with 4 concurrent workers.\n",
      "[Parallel(n_jobs=-1)]: Done 824 tasks      | elapsed:    2.0s\n",
      "[Parallel(n_jobs=-1)]: Done 4424 tasks      | elapsed:   11.1s\n",
      "[Parallel(n_jobs=-1)]: Done 10424 tasks      | elapsed:   27.4s\n",
      "[Parallel(n_jobs=-1)]: Done 18824 tasks      | elapsed:   49.6s\n",
      "[Parallel(n_jobs=-1)]: Done 29624 tasks      | elapsed:  1.4min\n",
      "[Parallel(n_jobs=-1)]: Done 42824 tasks      | elapsed:  2.3min\n",
      "[Parallel(n_jobs=-1)]: Done 50400 out of 50400 | elapsed:  2.8min finished\n"
     ]
    },
    {
     "name": "stdout",
     "output_type": "stream",
     "text": [
      "Best parameter for ACC (CV score=0.5073)\n",
      "{'criterion': 'gini', 'max_depth': 3, 'max_features': 0.5, 'max_leaf_nodes': 10, 'min_samples_leaf': 20, 'min_samples_split': 2}\n",
      "Scores: [0.47727273 0.42857143 0.51282051 0.52941176 0.58823529]\n",
      "Mean: 0.5072623454976396\n",
      "Standard deviation: 0.05323484950938387\n",
      "==============\n",
      "[0.06305516 0.07285401 0.13681979 0.14420057 0.19694782 0.21123607\n",
      " 0.21375046 0.22693215 0.23822097 0.26278227 0.32716641 0.40053899\n",
      " 0.4585088  0.46986722 0.53757194 0.6159278  0.62585398 0.63685981\n",
      " 0.63885305 0.69405629 0.74198799 0.77278937 0.7741798  0.79007113\n",
      " 0.82490939 0.83045478 0.84386615 0.84755388 0.85290408 0.86415675\n",
      " 0.86557866 0.87325617 0.87637501 0.87843796 0.88243806 0.88268967\n",
      " 0.89155636 0.89212539 0.89290594 0.89350237 0.89623729 0.89688955\n",
      " 0.89849132 0.90158015 0.90331098 0.90976604 0.91793859 0.91930495\n",
      " 0.92140305 0.92439885 0.92690461 0.92807242 0.92878734 0.93110728\n",
      " 0.93116411 0.93118436 0.93151726 0.93170973 0.93171068 0.9319432\n",
      " 0.9320303  0.93294525 0.93364418 0.93375882 0.93381571 0.9338405\n",
      " 0.9354857  0.93610165 0.93615458 0.9381035  0.93843432 0.93901914\n",
      " 0.93972036 0.94081162 0.94110127 0.94119462 0.94170002 0.94394497\n",
      " 0.94502605 0.94626368 0.94782381 0.94828813 0.94837615 0.94882056\n",
      " 1.        ]\n"
     ]
    },
    {
     "name": "stderr",
     "output_type": "stream",
     "text": [
      "/home/franz/miniconda3/envs/mainenv/lib/python3.7/site-packages/sklearn/model_selection/_split.py:657: Warning: The least populated class in y has only 3 members, which is too few. The minimum number of members in any class cannot be less than n_splits=5.\n",
      "  % (min_groups, self.n_splits)), Warning)\n"
     ]
    },
    {
     "data": {
      "image/png": "[encoded data removed]",
      "text/plain": [
       "<Figure size 432x288 with 1 Axes>"
      ]
     },
     "metadata": {
      "needs_background": "light"
     },
     "output_type": "display_data"
    },
    {
     "name": "stdout",
     "output_type": "stream",
     "text": [
      "0.0\n",
      "ACC  beste\n",
      "Fitting 5 folds for each of 10080 candidates, totalling 50400 fits\n"
     ]
    },
    {
     "name": "stderr",
     "output_type": "stream",
     "text": [
      "/home/franz/miniconda3/envs/mainenv/lib/python3.7/site-packages/sklearn/model_selection/_split.py:657: Warning: The least populated class in y has only 4 members, which is too few. The minimum number of members in any class cannot be less than n_splits=5.\n",
      "  % (min_groups, self.n_splits)), Warning)\n",
      "[Parallel(n_jobs=-1)]: Using backend LokyBackend with 4 concurrent workers.\n",
      "[Parallel(n_jobs=-1)]: Done 824 tasks      | elapsed:    2.4s\n",
      "[Parallel(n_jobs=-1)]: Done 4424 tasks      | elapsed:   11.8s\n",
      "[Parallel(n_jobs=-1)]: Done 10424 tasks      | elapsed:   27.7s\n",
      "[Parallel(n_jobs=-1)]: Done 18824 tasks      | elapsed:   49.8s\n",
      "[Parallel(n_jobs=-1)]: Done 29624 tasks      | elapsed:  1.4min\n",
      "[Parallel(n_jobs=-1)]: Done 42824 tasks      | elapsed:  2.3min\n",
      "[Parallel(n_jobs=-1)]: Done 50400 out of 50400 | elapsed:  2.8min finished\n",
      "/home/franz/miniconda3/envs/mainenv/lib/python3.7/site-packages/sklearn/model_selection/_split.py:657: Warning: The least populated class in y has only 4 members, which is too few. The minimum number of members in any class cannot be less than n_splits=5.\n",
      "  % (min_groups, self.n_splits)), Warning)\n"
     ]
    },
    {
     "name": "stdout",
     "output_type": "stream",
     "text": [
      "Best parameter for ACC (CV score=0.4744)\n",
      "{'criterion': 'entropy', 'max_depth': 3, 'max_features': 0.75, 'max_leaf_nodes': 5, 'min_samples_leaf': 1, 'min_samples_split': 100}\n",
      "Scores: [0.46511628 0.41860465 0.48717949 0.48571429 0.51515152]\n",
      "Mean: 0.4743532436555693\n",
      "Standard deviation: 0.03209770034235138\n",
      "================\n",
      "0.7153284671532847 0.2846715328467153 0.0\n",
      "[0.06305516 0.07285401 0.13681979 0.14420057 0.19694782 0.21123607\n",
      " 0.21375046 0.22693215 0.23822097 0.26278227 0.32716641 0.40053899\n",
      " 0.4585088  0.46986722 0.53757194 0.6159278  0.62585398 0.63685981\n",
      " 0.63885305 0.69405629 0.74198799 0.77278937 0.7741798  0.79007113\n",
      " 0.82490939 0.83045478 0.84386615 0.84755388 0.85290408 0.86415675\n",
      " 0.86557866 0.87325617 0.87637501 0.87843796 0.88243806 0.88268967\n",
      " 0.89155636 0.89212539 0.89290594 0.89350237 0.89623729 0.89688955\n",
      " 0.89849132 0.90158015 0.90331098 0.90976604 0.91793859 0.91930495\n",
      " 0.92140305 0.92439885 0.92690461 0.92807242 0.92878734 0.93110728\n",
      " 0.93116411 0.93118436 0.93151726 0.93170973 0.93171068 0.9319432\n",
      " 0.9320303  0.93294525 0.93364418 0.93375882 0.93381571 0.9338405\n",
      " 0.9354857  0.93610165 0.93615458 0.9381035  0.93843432 0.93901914\n",
      " 0.93972036 0.94081162 0.94110127 0.94119462 0.94170002 0.94394497\n",
      " 0.94502605 0.94626368 0.94782381 0.94828813 0.94837615 0.94882056\n",
      " 1.        ]\n"
     ]
    },
    {
     "data": {
      "image/png": "[encoded data removed]",
      "text/plain": [
       "<Figure size 432x288 with 1 Axes>"
      ]
     },
     "metadata": {
      "needs_background": "light"
     },
     "output_type": "display_data"
    },
    {
     "name": "stdout",
     "output_type": "stream",
     "text": [
      "0.0\n",
      "ACC  Prog1_beste\n",
      "Fitting 5 folds for each of 10080 candidates, totalling 50400 fits\n"
     ]
    },
    {
     "name": "stderr",
     "output_type": "stream",
     "text": [
      "[Parallel(n_jobs=-1)]: Using backend LokyBackend with 4 concurrent workers.\n",
      "[Parallel(n_jobs=-1)]: Done 892 tasks      | elapsed:    2.0s\n",
      "[Parallel(n_jobs=-1)]: Done 4792 tasks      | elapsed:   11.3s\n",
      "[Parallel(n_jobs=-1)]: Done 11292 tasks      | elapsed:   27.3s\n",
      "[Parallel(n_jobs=-1)]: Done 20392 tasks      | elapsed:   50.4s\n",
      "[Parallel(n_jobs=-1)]: Done 32092 tasks      | elapsed:  1.3min\n",
      "[Parallel(n_jobs=-1)]: Done 46392 tasks      | elapsed:  2.0min\n",
      "[Parallel(n_jobs=-1)]: Done 50400 out of 50400 | elapsed:  2.1min finished\n"
     ]
    },
    {
     "name": "stdout",
     "output_type": "stream",
     "text": [
      "Best parameter for ACC (CV score=0.9013)\n",
      "{'criterion': 'gini', 'max_depth': 3, 'max_features': 0.5, 'max_leaf_nodes': 10, 'min_samples_leaf': 1, 'min_samples_split': 2}\n",
      "Scores: [0.925      0.8974359  0.94736842 0.81578947 0.92105263]\n",
      "Mean: 0.9013292847503374\n",
      "Standard deviation: 0.04560950116811714\n",
      "F1  Prog1_beste\n",
      "Fitting 5 folds for each of 10080 candidates, totalling 50400 fits\n"
     ]
    },
    {
     "name": "stderr",
     "output_type": "stream",
     "text": [
      "[Parallel(n_jobs=-1)]: Using backend LokyBackend with 4 concurrent workers.\n",
      "[Parallel(n_jobs=-1)]: Done 688 tasks      | elapsed:    2.0s\n",
      "[Parallel(n_jobs=-1)]: Done 3688 tasks      | elapsed:   10.8s\n",
      "[Parallel(n_jobs=-1)]: Done 8688 tasks      | elapsed:   25.4s\n",
      "[Parallel(n_jobs=-1)]: Done 15688 tasks      | elapsed:   45.9s\n",
      "[Parallel(n_jobs=-1)]: Done 24688 tasks      | elapsed:  1.2min\n",
      "[Parallel(n_jobs=-1)]: Done 35688 tasks      | elapsed:  1.8min\n",
      "[Parallel(n_jobs=-1)]: Done 48688 tasks      | elapsed:  2.4min\n",
      "[Parallel(n_jobs=-1)]: Done 50400 out of 50400 | elapsed:  2.5min finished\n"
     ]
    },
    {
     "name": "stdout",
     "output_type": "stream",
     "text": [
      "Best parameter for F1 (CV score=0.8274)\n",
      "{'criterion': 'gini', 'max_depth': 3, 'max_features': 0.5, 'max_leaf_nodes': 10, 'min_samples_leaf': 1, 'min_samples_split': 2}\n",
      "Scores: [0.88       0.83333333 0.9        0.66666667 0.85714286]\n",
      "Mean: 0.8274285714285714\n",
      "Standard deviation: 0.08341769879141554\n",
      "AUC  Prog1_beste\n",
      "Fitting 5 folds for each of 10080 candidates, totalling 50400 fits\n"
     ]
    },
    {
     "name": "stderr",
     "output_type": "stream",
     "text": [
      "[Parallel(n_jobs=-1)]: Using backend LokyBackend with 4 concurrent workers.\n",
      "[Parallel(n_jobs=-1)]: Done 688 tasks      | elapsed:    1.9s\n",
      "[Parallel(n_jobs=-1)]: Done 3688 tasks      | elapsed:   10.7s\n",
      "[Parallel(n_jobs=-1)]: Done 8688 tasks      | elapsed:   25.4s\n",
      "[Parallel(n_jobs=-1)]: Done 15688 tasks      | elapsed:   46.3s\n",
      "[Parallel(n_jobs=-1)]: Done 24688 tasks      | elapsed:  1.2min\n",
      "[Parallel(n_jobs=-1)]: Done 35688 tasks      | elapsed:  1.8min\n",
      "[Parallel(n_jobs=-1)]: Done 48688 tasks      | elapsed:  2.5min\n",
      "[Parallel(n_jobs=-1)]: Done 50400 out of 50400 | elapsed:  2.6min finished\n"
     ]
    },
    {
     "name": "stdout",
     "output_type": "stream",
     "text": [
      "Best parameter for AUC (CV score=0.9429)\n",
      "{'criterion': 'entropy', 'max_depth': 3, 'max_features': 0.5, 'max_leaf_nodes': 5, 'min_samples_leaf': 5, 'min_samples_split': 2}\n",
      "Scores: [0.99553571 0.94444444 0.98148148 0.84848485 0.94444444]\n",
      "Mean: 0.9428781866281867\n",
      "Standard deviation: 0.05133816943653179\n",
      "================\n",
      "0.6048387096774194 0.3951612903225806 0.0\n",
      "[0.10230075 0.12314701 0.29234363 0.32058717 0.33874183 0.44474386\n",
      " 0.47737384 0.51215258 0.62631465 0.64336164 0.66875837 0.69448319\n",
      " 0.7276567  0.75223288 0.75322953 0.75955673 0.76889512 0.78666359\n",
      " 0.7885897  0.79231852 0.7947743  0.7977959  0.80240649 0.81198665\n",
      " 0.82408204 0.83067351 0.84307445 0.84480166 0.8454279  0.85604878\n",
      " 0.86305633 0.87291161 0.8771884  0.88477212 0.88935463 0.89155449\n",
      " 0.89562041 0.89691985 0.89951429 0.90022909 0.90479135 0.90753946\n",
      " 0.90927614 0.91275499 0.91321467 0.91560503 0.91745483 0.91963676\n",
      " 0.92008848 0.92118419 0.92264636 0.92266683 0.92463663 0.92514145\n",
      " 0.9264816  0.92899327 0.92963819 0.93156973 0.93674444 0.93726432\n",
      " 0.9378499  0.93929742 0.94141989 0.94212163 0.94345849 0.94564234\n",
      " 0.94566132 0.94623295 0.94687288 0.94706561 0.94723412 0.94761576\n",
      " 0.9482624  0.94915993 0.95064377 0.95071043 0.95186128 0.9518688\n",
      " 0.95732019 0.95787361 0.95798862 0.95930586 0.9597204  0.95992996\n",
      " 0.96017624 1.        ]\n"
     ]
    },
    {
     "data": {
      "image/png": "[encoded data removed]",
      "text/plain": [
       "<Figure size 432x288 with 1 Axes>"
      ]
     },
     "metadata": {
      "needs_background": "light"
     },
     "output_type": "display_data"
    },
    {
     "name": "stdout",
     "output_type": "stream",
     "text": [
      "0.0\n",
      "ACC  MfI1_beste\n",
      "Fitting 5 folds for each of 10080 candidates, totalling 50400 fits\n"
     ]
    },
    {
     "name": "stderr",
     "output_type": "stream",
     "text": [
      "[Parallel(n_jobs=-1)]: Using backend LokyBackend with 4 concurrent workers.\n",
      "[Parallel(n_jobs=-1)]: Done 960 tasks      | elapsed:    2.3s\n",
      "[Parallel(n_jobs=-1)]: Done 5160 tasks      | elapsed:   12.1s\n",
      "[Parallel(n_jobs=-1)]: Done 12160 tasks      | elapsed:   28.9s\n",
      "[Parallel(n_jobs=-1)]: Done 21960 tasks      | elapsed:   55.7s\n",
      "[Parallel(n_jobs=-1)]: Done 34560 tasks      | elapsed:  1.5min\n",
      "[Parallel(n_jobs=-1)]: Done 49960 tasks      | elapsed:  2.2min\n",
      "[Parallel(n_jobs=-1)]: Done 50400 out of 50400 | elapsed:  2.2min finished\n"
     ]
    },
    {
     "name": "stdout",
     "output_type": "stream",
     "text": [
      "Best parameter for ACC (CV score=0.9376)\n",
      "{'criterion': 'entropy', 'max_depth': 3, 'max_features': 0.5, 'max_leaf_nodes': 10, 'min_samples_leaf': 3, 'min_samples_split': 2}\n",
      "Scores: [0.95       0.94871795 0.97368421 0.89473684 0.92105263]\n",
      "Mean: 0.9376383265856951\n",
      "Standard deviation: 0.02716798628804775\n",
      "F1  MfI1_beste\n",
      "Fitting 5 folds for each of 10080 candidates, totalling 50400 fits\n"
     ]
    },
    {
     "name": "stderr",
     "output_type": "stream",
     "text": [
      "[Parallel(n_jobs=-1)]: Using backend LokyBackend with 4 concurrent workers.\n",
      "[Parallel(n_jobs=-1)]: Done 824 tasks      | elapsed:    2.4s\n",
      "[Parallel(n_jobs=-1)]: Done 4424 tasks      | elapsed:   12.6s\n",
      "[Parallel(n_jobs=-1)]: Done 10424 tasks      | elapsed:   29.9s\n",
      "[Parallel(n_jobs=-1)]: Done 18824 tasks      | elapsed:   52.2s\n",
      "[Parallel(n_jobs=-1)]: Done 29624 tasks      | elapsed:  1.4min\n",
      "[Parallel(n_jobs=-1)]: Done 42824 tasks      | elapsed:  2.1min\n",
      "[Parallel(n_jobs=-1)]: Done 50400 out of 50400 | elapsed:  2.5min finished\n"
     ]
    },
    {
     "name": "stdout",
     "output_type": "stream",
     "text": [
      "Best parameter for F1 (CV score=0.9264)\n",
      "{'criterion': 'entropy', 'max_depth': 3, 'max_features': 0.5, 'max_leaf_nodes': 10, 'min_samples_leaf': 3, 'min_samples_split': 2}\n",
      "Scores: [0.94117647 0.9375     0.96774194 0.88235294 0.90322581]\n",
      "Mean: 0.9263994307400379\n",
      "Standard deviation: 0.03009284416135776\n",
      "AUC  MfI1_beste\n",
      "Fitting 5 folds for each of 10080 candidates, totalling 50400 fits\n"
     ]
    },
    {
     "name": "stderr",
     "output_type": "stream",
     "text": [
      "[Parallel(n_jobs=-1)]: Using backend LokyBackend with 4 concurrent workers.\n",
      "[Parallel(n_jobs=-1)]: Done 688 tasks      | elapsed:    1.9s\n",
      "[Parallel(n_jobs=-1)]: Done 3688 tasks      | elapsed:   10.6s\n",
      "[Parallel(n_jobs=-1)]: Done 8688 tasks      | elapsed:   24.5s\n",
      "[Parallel(n_jobs=-1)]: Done 15688 tasks      | elapsed:   44.7s\n",
      "[Parallel(n_jobs=-1)]: Done 24688 tasks      | elapsed:  1.2min\n",
      "[Parallel(n_jobs=-1)]: Done 35688 tasks      | elapsed:  1.7min\n",
      "[Parallel(n_jobs=-1)]: Done 48688 tasks      | elapsed:  2.4min\n",
      "[Parallel(n_jobs=-1)]: Done 50400 out of 50400 | elapsed:  2.5min finished\n"
     ]
    },
    {
     "name": "stdout",
     "output_type": "stream",
     "text": [
      "Best parameter for AUC (CV score=0.9584)\n",
      "{'criterion': 'gini', 'max_depth': 3, 'max_features': 0.25, 'max_leaf_nodes': 10, 'min_samples_leaf': 5, 'min_samples_split': 2}\n",
      "Scores: [0.95396419 0.95454545 0.94886364 0.97727273 0.95738636]\n",
      "Mean: 0.9584064752383167\n",
      "Standard deviation: 0.009825306177091386\n",
      "================\n",
      "0.7184115523465704 0.2815884476534296 0.0\n",
      "[0.06305516 0.07285401 0.13681979 0.14420057 0.19694782 0.21123607\n",
      " 0.21375046 0.22693215 0.23822097 0.26278227 0.32716641 0.40053899\n",
      " 0.4585088  0.46986722 0.53757194 0.6159278  0.62585398 0.63685981\n",
      " 0.63885305 0.69405629 0.74198799 0.77278937 0.7741798  0.79007113\n",
      " 0.82490939 0.83045478 0.84386615 0.84755388 0.85290408 0.86415675\n",
      " 0.86557866 0.87325617 0.87637501 0.87843796 0.88243806 0.88268967\n",
      " 0.89155636 0.89212539 0.89290594 0.89350237 0.89623729 0.89688955\n",
      " 0.89849132 0.90158015 0.90331098 0.90976604 0.91793859 0.91930495\n",
      " 0.92140305 0.92439885 0.92690461 0.92807242 0.92878734 0.93110728\n",
      " 0.93116411 0.93118436 0.93151726 0.93170973 0.93171068 0.9319432\n",
      " 0.9320303  0.93294525 0.93364418 0.93375882 0.93381571 0.9338405\n",
      " 0.9354857  0.93610165 0.93615458 0.9381035  0.93843432 0.93901914\n",
      " 0.93972036 0.94081162 0.94110127 0.94119462 0.94170002 0.94394497\n",
      " 0.94502605 0.94626368 0.94782381 0.94828813 0.94837615 0.94882056\n",
      " 1.        ]\n"
     ]
    },
    {
     "data": {
      "image/png": "[encoded data removed]",
      "text/plain": [
       "<Figure size 432x288 with 1 Axes>"
      ]
     },
     "metadata": {
      "needs_background": "light"
     },
     "output_type": "display_data"
    },
    {
     "name": "stdout",
     "output_type": "stream",
     "text": [
      "0.0\n",
      "ACC  beste\n",
      "Fitting 5 folds for each of 10080 candidates, totalling 50400 fits\n"
     ]
    },
    {
     "name": "stderr",
     "output_type": "stream",
     "text": [
      "[Parallel(n_jobs=-1)]: Using backend LokyBackend with 4 concurrent workers.\n",
      "[Parallel(n_jobs=-1)]: Done 960 tasks      | elapsed:    2.2s\n",
      "[Parallel(n_jobs=-1)]: Done 5160 tasks      | elapsed:   12.7s\n",
      "[Parallel(n_jobs=-1)]: Done 12160 tasks      | elapsed:   30.2s\n",
      "[Parallel(n_jobs=-1)]: Done 21960 tasks      | elapsed:   56.1s\n",
      "[Parallel(n_jobs=-1)]: Done 34560 tasks      | elapsed:  1.5min\n",
      "[Parallel(n_jobs=-1)]: Done 49960 tasks      | elapsed:  2.1min\n",
      "[Parallel(n_jobs=-1)]: Done 50400 out of 50400 | elapsed:  2.2min finished\n"
     ]
    },
    {
     "name": "stdout",
     "output_type": "stream",
     "text": [
      "Best parameter for ACC (CV score=0.9013)\n",
      "{'criterion': 'gini', 'max_depth': 3, 'max_features': 0.5, 'max_leaf_nodes': 10, 'min_samples_leaf': 1, 'min_samples_split': 2}\n",
      "Scores: [0.925      0.8974359  0.94736842 0.81578947 0.92105263]\n",
      "Mean: 0.9013292847503374\n",
      "Standard deviation: 0.04560950116811714\n",
      "F1  beste\n",
      "Fitting 5 folds for each of 10080 candidates, totalling 50400 fits\n"
     ]
    },
    {
     "name": "stderr",
     "output_type": "stream",
     "text": [
      "[Parallel(n_jobs=-1)]: Using backend LokyBackend with 4 concurrent workers.\n",
      "[Parallel(n_jobs=-1)]: Done 688 tasks      | elapsed:    2.4s\n",
      "[Parallel(n_jobs=-1)]: Done 3688 tasks      | elapsed:   12.1s\n",
      "[Parallel(n_jobs=-1)]: Done 8688 tasks      | elapsed:   27.2s\n",
      "[Parallel(n_jobs=-1)]: Done 15688 tasks      | elapsed:   47.4s\n",
      "[Parallel(n_jobs=-1)]: Done 24688 tasks      | elapsed:  1.2min\n",
      "[Parallel(n_jobs=-1)]: Done 35688 tasks      | elapsed:  1.8min\n",
      "[Parallel(n_jobs=-1)]: Done 48688 tasks      | elapsed:  2.4min\n",
      "[Parallel(n_jobs=-1)]: Done 50400 out of 50400 | elapsed:  2.5min finished\n"
     ]
    },
    {
     "name": "stdout",
     "output_type": "stream",
     "text": [
      "Best parameter for F1 (CV score=0.8274)\n",
      "{'criterion': 'gini', 'max_depth': 3, 'max_features': 0.5, 'max_leaf_nodes': 10, 'min_samples_leaf': 1, 'min_samples_split': 2}\n",
      "Scores: [0.88       0.83333333 0.9        0.66666667 0.85714286]\n",
      "Mean: 0.8274285714285714\n",
      "Standard deviation: 0.08341769879141554\n",
      "AUC  beste\n",
      "Fitting 5 folds for each of 10080 candidates, totalling 50400 fits\n"
     ]
    },
    {
     "name": "stderr",
     "output_type": "stream",
     "text": [
      "[Parallel(n_jobs=-1)]: Using backend LokyBackend with 4 concurrent workers.\n",
      "[Parallel(n_jobs=-1)]: Done 892 tasks      | elapsed:    2.7s\n",
      "[Parallel(n_jobs=-1)]: Done 4792 tasks      | elapsed:   13.5s\n",
      "[Parallel(n_jobs=-1)]: Done 11292 tasks      | elapsed:   32.3s\n",
      "[Parallel(n_jobs=-1)]: Done 20392 tasks      | elapsed:   58.4s\n",
      "[Parallel(n_jobs=-1)]: Done 32092 tasks      | elapsed:  1.5min\n",
      "[Parallel(n_jobs=-1)]: Done 46392 tasks      | elapsed:  2.2min\n",
      "[Parallel(n_jobs=-1)]: Done 50400 out of 50400 | elapsed:  2.4min finished\n"
     ]
    },
    {
     "name": "stdout",
     "output_type": "stream",
     "text": [
      "Best parameter for AUC (CV score=0.9429)\n",
      "{'criterion': 'entropy', 'max_depth': 3, 'max_features': 0.5, 'max_leaf_nodes': 5, 'min_samples_leaf': 5, 'min_samples_split': 2}\n",
      "Scores: [0.99553571 0.94444444 0.98148148 0.84848485 0.94444444]\n",
      "Mean: 0.9428781866281867\n",
      "Standard deviation: 0.05133816943653179\n",
      "================\n",
      "0.3181818181818182 0.21428571428571427 0.4675324675324675\n",
      "[0.10230075 0.12314701 0.29234363 0.32058717 0.33874183 0.44474386\n",
      " 0.47737384 0.51215258 0.62631465 0.64336164 0.66875837 0.69448319\n",
      " 0.7276567  0.75223288 0.75322953 0.75955673 0.76889512 0.78666359\n",
      " 0.7885897  0.79231852 0.7947743  0.7977959  0.80240649 0.81198665\n",
      " 0.82408204 0.83067351 0.84307445 0.84480166 0.8454279  0.85604878\n",
      " 0.86305633 0.87291161 0.8771884  0.88477212 0.88935463 0.89155449\n",
      " 0.89562041 0.89691985 0.89951429 0.90022909 0.90479135 0.90753946\n",
      " 0.90927614 0.91275499 0.91321467 0.91560503 0.91745483 0.91963676\n",
      " 0.92008848 0.92118419 0.92264636 0.92266683 0.92463663 0.92514145\n",
      " 0.9264816  0.92899327 0.92963819 0.93156973 0.93674444 0.93726432\n",
      " 0.9378499  0.93929742 0.94141989 0.94212163 0.94345849 0.94564234\n",
      " 0.94566132 0.94623295 0.94687288 0.94706561 0.94723412 0.94761576\n",
      " 0.9482624  0.94915993 0.95064377 0.95071043 0.95186128 0.9518688\n",
      " 0.95732019 0.95787361 0.95798862 0.95930586 0.9597204  0.95992996\n",
      " 0.96017624 1.        ]\n"
     ]
    },
    {
     "data": {
      "image/png": "[encoded data removed]",
      "text/plain": [
       "<Figure size 432x288 with 1 Axes>"
      ]
     },
     "metadata": {
      "needs_background": "light"
     },
     "output_type": "display_data"
    },
    {
     "name": "stdout",
     "output_type": "stream",
     "text": [
      "0.0\n",
      "ACC  beide\n",
      "Fitting 5 folds for each of 10080 candidates, totalling 50400 fits\n"
     ]
    },
    {
     "name": "stderr",
     "output_type": "stream",
     "text": [
      "[Parallel(n_jobs=-1)]: Using backend LokyBackend with 4 concurrent workers.\n",
      "[Parallel(n_jobs=-1)]: Done 892 tasks      | elapsed:    1.9s\n",
      "[Parallel(n_jobs=-1)]: Done 4792 tasks      | elapsed:   10.3s\n",
      "[Parallel(n_jobs=-1)]: Done 11292 tasks      | elapsed:   25.0s\n",
      "[Parallel(n_jobs=-1)]: Done 20392 tasks      | elapsed:   45.5s\n",
      "[Parallel(n_jobs=-1)]: Done 32092 tasks      | elapsed:  1.2min\n",
      "[Parallel(n_jobs=-1)]: Done 46392 tasks      | elapsed:  1.8min\n"
     ]
    },
    {
     "name": "stdout",
     "output_type": "stream",
     "text": [
      "Best parameter for ACC (CV score=0.8972)\n",
      "{'criterion': 'gini', 'max_depth': 3, 'max_features': 0.5, 'max_leaf_nodes': 10, 'min_samples_leaf': 3, 'min_samples_split': 10}\n",
      "Scores: [0.87179487 0.8974359  0.87179487 0.87179487 0.97297297]\n",
      "Mean: 0.8971586971586971\n",
      "Standard deviation: 0.03918635519794273\n",
      "Accuracy Trainingsdaten: [0.5181347150259067, 0.5544041450777202, 0.48186528497409326, 0.9844559585492227, 0.9740932642487047, 0.9844559585492227, 0.9585492227979274]\n",
      "Accuracy Testdaten: [0.14285714285714285, 0.047619047619047616, 0.14285714285714285, 0.8809523809523809, 0.9166666666666666, 0.8809523809523809, 0.9404761904761905]\n",
      "F1 Trainingsdaten: [[0], [0], [0], 0.9743589743589743, 0.9685534591194969, 0.9743589743589743, [0]]\n",
      "F1 Testdaten: [[0], [0], [0], 0.7368421052631579, 0.8955223880597015, 0.7368421052631579, [0]]\n",
      "AUC Trainingsdaten: [[0], [0], [0], 0.9903895768833849, 0.9954954954954954, 0.9903895768833849, [0]]\n",
      "AUC Testdaten: [[0], [0], [0], 0.9444444444444444, 0.9348752282410225, 0.9444444444444444, [0]]\n"
     ]
    },
    {
     "name": "stderr",
     "output_type": "stream",
     "text": [
      "[Parallel(n_jobs=-1)]: Done 50400 out of 50400 | elapsed:  2.0min finished\n"
     ]
    }
   ],
   "source": [
    "#Classification\n",
    "#Variables to store intermediate results\n",
    "dt_class = DecisionTreeClassifier(random_state=42)\n",
    "\n",
    "predictions_acc_train = [[0] * num for i in range(7)]\n",
    "predictions_acc_test = [[0] * num for i in range(7)]\n",
    "predictions_f1_train = [[0] * num for i in range(7)]\n",
    "predictions_f1_test = [[0] * num for i in range(7)]\n",
    "predictions_auc_train = [[0] * num for i in range(7)]\n",
    "predictions_auc_test = [[0] * num for i in range(7)]\n",
    "\n",
    "probs_class_train = [[0] * num for i in range(7)]\n",
    "probs_class_test = [[0] * num for i in range(7)]\n",
    "\n",
    "\n",
    "acc_train = [[0] * 1 for i in range(7)]\n",
    "acc_test = [[0] * 1 for i in range(7)]\n",
    "f1_train = [[0] * 1 for i in range(7)]\n",
    "f1_test = [[0] * 1 for i in range(7)]\n",
    "auc_train = [[0] * 1 for i in range(7)]\n",
    "auc_test = [[0] * 1 for i in range(7)]\n",
    "\n",
    "#Lists of labels for each scenario\n",
    "labels_class = [\"Prog1_scaled\",\"Prog1_beste\", \"MfI1_beste\", \"beste\", \"beide\"]\n",
    "others_class = [[\"Prog1_beste\",\"MfI1_beste\",\"beste\",\"beide\"],[\"MfI1_beste\",\"beste\",\"beide\",\"Prog1_scaled\"],[\"Prog1_beste\",\"beste\",\"beide\",\"Prog1_scaled\"],[\"Prog1_beste\",\"MfI1_beste\",\"beide\",\"Prog1_scaled\"]\n",
    "         ,[\"Prog1_beste\",\"MfI1_beste\",\"beste\",\"Prog1_scaled\"]]\n",
    "labels = [\"Prog1_scaled\",\"Prog1_beste\", \"MfI1_beste\", \"beste\"]\n",
    "others = [[\"Prog1_beste\",\"MfI1_beste\",\"beste\"],[\"MfI1_beste\",\"beste\",\"Prog1_scaled\"],[\"Prog1_beste\",\"beste\",\"Prog1_scaled\"],[\"Prog1_beste\",\"MfI1_beste\",\"Prog1_scaled\"]]\n",
    "\n",
    "\n",
    "scenario = 0\n",
    "other_count = 0\n",
    "\n",
    "\n",
    "selector_acc = {}\n",
    "\n",
    "# parameters to use in GridSearch\n",
    "param_grid_class = {\n",
    "    'criterion':('gini', 'entropy'),\n",
    "    'max_depth':[3,4,5, 10, 15, 100,1000],\n",
    "    'min_samples_split':[2,5,10,20, 40, 100],\n",
    "    'min_samples_leaf':[1,3,5,20,100],\n",
    "    'max_features':[0.25,0.5,0.75,1.0],\n",
    "    'max_leaf_nodes':[5,10,20,30,100,1000],\n",
    "    }\n",
    "\n",
    "for label in labels:\n",
    "    #Continuuos labels after normalization and scaling not suitable for accuracy\n",
    "    if label == \"Prog1_scaled\":\n",
    "        other_count+=1\n",
    "        continue\n",
    "    #Store results\n",
    "    os.makedirs(os.path.dirname('Auswertung/scores/neu/%.1f/%d/cv_scores_classR.txt'%(a,num)), exist_ok = True) \n",
    "    f = open('Auswertung/scores/neu/%.1f/%d/cv_scores_classR.txt'%(a,num),'a')\n",
    "    \n",
    "    print(\"==============\")\n",
    "    f.write(\"========%s=======\\n\"%(label))\n",
    "    \n",
    "    #Load data\n",
    "    data,_,y,train_X,test_X,train_y,test_y,names,feature_names,numcols,numrows = func.load_data_noten(label,others[other_count][0],others[other_count][1],others[other_count][2])\n",
    "    features,X_noise = get_random_features(data,label,a=a,reg=True)\n",
    "    y = round(features[\"%s\"%(label)])\n",
    "    X = features\n",
    "    del X[\"%s\"%(label)]\n",
    "    train_Xn, test_Xn, train_yn, test_yn = train_test_split(X_noise,y,test_size=0.3,random_state=42)\n",
    "    train_X, test_X, train_y, test_y = train_test_split(X,y,test_size=0.3,random_state=42)\n",
    "    \n",
    "    #Cross_Validation on train data\n",
    "    print(\"ACC \",label)\n",
    "    grid = GridSearchCV(dt_class, param_grid_class, n_jobs=-1,iid=False, cv=5,verbose=1, scoring='accuracy')\n",
    "    grid.fit(train_Xn, train_yn)\n",
    "    f.write(\"Best parameter for ACC (CV score=%0.4f)\\n\" % (grid.best_score_))\n",
    "    f.write('' + repr(grid.best_params_) + '\\n')\n",
    "    print(\"Best parameter for ACC (CV score=%0.4f)\" % (grid.best_score_))\n",
    "    print(grid.best_params_)\n",
    "    best_dt_acc = grid.best_estimator_\n",
    "    func.cross_val(best_dt_acc, train_Xn, train_yn, scoring=\"accuracy\")\n",
    "\n",
    " \n",
    "    \n",
    "    #Fit and store predictions\n",
    "    best_dt_acc.fit(train_Xn, train_yn)\n",
    "    predictions_acc_train[scenario] = best_dt_acc.predict(train_Xn)\n",
    "    predictions_acc_test[scenario] = best_dt_acc.predict(test_X)\n",
    "    \n",
    "    #Calculate performance\n",
    "    acc_train[scenario] = accuracy_score(train_yn,predictions_acc_train[scenario])\n",
    "    acc_test[scenario] = accuracy_score(test_y,predictions_acc_test[scenario])   \n",
    "    scenario += 1\n",
    "    other_count += 1\n",
    "    f.close()\n",
    "other_count = 0\n",
    "for label in labels_class: \n",
    "    #Continuuos labels after normalization and scaling not suitable for accuracy\n",
    "    if label == \"Prog1_scaled\":\n",
    "        other_count+=1\n",
    "        continue\n",
    "    os.makedirs(os.path.dirname('Auswertung/scores/neu/%.1f/%d/cv_scores_class.txt'%(a,num)), exist_ok = True) \n",
    "    f = open('Auswertung/scores/neu/%.1f/%d/cv_scores_class.txt'%(a,num),'a')\n",
    "    \n",
    "    print(\"================\")\n",
    "    f.write(\"========%s=======\\n\"%(label))\n",
    "    #Load data\n",
    "    \n",
    "    data,_,y,train_X,test_X,train_y,test_y,names,feature_names,numcols,numrows = func.load_data_bestanden(label,others_class[other_count][0],\n",
    "                                                                 others_class[other_count][1],\n",
    "                                                                 others_class[other_count][2])\n",
    "    features,X_noise = get_random_features(data,label,a=a)\n",
    "    y = round(features[\"%s\"%(label)])\n",
    "    X = features\n",
    "    del X[\"%s\"%(label)]\n",
    "    \n",
    "\n",
    "    train_Xn, test_Xn, train_yn, test_yn = train_test_split(X_noise,y,test_size=0.3,random_state=42)\n",
    "    train_X, test_X, train_y, test_y = train_test_split(X,y,test_size=0.3,random_state=42)\n",
    "    \n",
    "    \n",
    "    #Cross_Validation on train data\n",
    "    print(\"ACC \",label)\n",
    "    grid = GridSearchCV(dt_class, param_grid_class, n_jobs=-1,iid=False, cv=5,verbose=1, scoring='accuracy')\n",
    "    grid.fit(train_Xn, train_yn)\n",
    "    f.write(\"Best parameter for ACC (CV score=%0.4f) \\n\" % (grid.best_score_))\n",
    "    f.write('' + repr(grid.best_params_) + '\\n')\n",
    "    print(\"Best parameter for ACC (CV score=%0.4f)\" % (grid.best_score_))\n",
    "    print(grid.best_params_)\n",
    "    best_dt_acc = grid.best_estimator_\n",
    "    func.cross_val(best_dt_acc, train_Xn, train_yn, scoring=\"accuracy\")\n",
    "    \n",
    "    #fit and store predictions\n",
    "    best_dt_acc.fit(train_Xn, train_yn)\n",
    "    predictions_acc_train[scenario] = best_dt_acc.predict(train_Xn)\n",
    "    predictions_acc_test[scenario] = best_dt_acc.predict(test_X)\n",
    "    create_tree_png(best_dt_acc,label,\"accuracy\",num,a)\n",
    "    \n",
    "    #Calculate performance\n",
    "    acc_train[scenario] = accuracy_score(train_yn,predictions_acc_train[scenario])\n",
    "    acc_test[scenario] = accuracy_score(test_y,predictions_acc_test[scenario])\n",
    "    \n",
    "    # If label==beide only accuracy can be calculated\n",
    "    if(label!=\"beide\"):\n",
    "        print(\"F1 \",label)\n",
    "        grid = GridSearchCV(dt_class, param_grid_class, n_jobs=-1,iid=False, cv=5,verbose=1, scoring='f1')\n",
    "        grid.fit(train_Xn, train_yn)\n",
    "        f.write(\"Best parameter for F1 (CV score=%0.4f)\\n\" % (grid.best_score_))\n",
    "        f.write('' + repr(grid.best_params_) + '\\n')\n",
    "        print(\"Best parameter for F1 (CV score=%0.4f)\" % (grid.best_score_))\n",
    "        print(grid.best_params_)\n",
    "        best_dt_f1 = grid.best_estimator_\n",
    "        func.cross_val(best_dt_f1, train_Xn, train_yn, scoring=\"f1\")\n",
    "\n",
    "\n",
    "        print(\"AUC \",label)\n",
    "    \n",
    "        grid = GridSearchCV(dt_class, param_grid_class, n_jobs=-1,iid=False, cv=5,verbose=1, scoring='roc_auc')\n",
    "        grid.fit(train_Xn, train_yn)\n",
    "        f.write(\"Best parameter for AUC (CV score=%0.4f)\\n\" % (grid.best_score_))\n",
    "        f.write('' + repr(grid.best_params_) + '\\n')\n",
    "        print(\"Best parameter for AUC (CV score=%0.4f)\" % (grid.best_score_))\n",
    "        print(grid.best_params_)\n",
    "        best_dt_auc = grid.best_estimator_\n",
    "        func.cross_val(best_dt_auc, train_Xn, train_yn, scoring=\"roc_auc\")\n",
    "\n",
    "        #Fit and store predictions\n",
    "        best_dt_f1.fit(train_Xn, train_yn)\n",
    "        predictions_f1_train[scenario] = best_dt_f1.predict(train_Xn)\n",
    "        predictions_f1_test[scenario] = best_dt_f1.predict(test_X)\n",
    "        create_tree_png(best_dt_f1,label,\"f1\",num,a)\n",
    "        \n",
    "        best_dt_auc.fit(train_Xn, train_yn)\n",
    "        create_tree_png(best_dt_auc,label,\"roc_auc\",num,a)\n",
    "        \n",
    "        #Calculate Performance\n",
    "        f1_train[scenario] = f1_score(train_yn,predictions_f1_train[scenario])\n",
    "        f1_test[scenario] = f1_score(test_y,predictions_f1_test[scenario]) \n",
    "        probs_class_train[scenario] = best_dt_auc.predict_proba(train_Xn)\n",
    "        probs_class_train[scenario]  = probs_class_train[scenario][:, 1]\n",
    "        probs_class_test[scenario] = best_dt_auc.predict_proba(test_X)\n",
    "        probs_class_test[scenario]  = probs_class_test[scenario][:, 1]\n",
    "        auc_train[scenario] = roc_auc_score(train_yn,probs_class_train[scenario])\n",
    "        auc_test[scenario] = roc_auc_score(test_y,probs_class_test[scenario]) \n",
    "    scenario += 1\n",
    "    other_count += 1\n",
    "    f.close()\n",
    "\n",
    "os.makedirs(os.path.dirname('Auswertung/scores/neu/%.1f/%d/scores.txt'%(a,num)), exist_ok = True) \n",
    "    \n",
    "f = open('Auswertung/scores/neu/%.1f/%d/scores.txt'%(a,num),'a')\n",
    "\n",
    "print(\"Accuracy Trainingsdaten:\", acc_train)\n",
    "print(\"Accuracy Testdaten:\",acc_test)\n",
    "print(\"F1 Trainingsdaten:\", f1_train)\n",
    "print(\"F1 Testdaten:\",f1_test)\n",
    "print(\"AUC Trainingsdaten:\", auc_train)\n",
    "print(\"AUC Testdaten:\",auc_test)\n",
    "\n",
    "f.write(\"Accuracy Trainingsdaten: \"+ repr(acc_train)+\"\\n\")\n",
    "f.write(\"Accuracy Testdaten: \"+ repr(acc_test)+\"\\n\")\n",
    "f.write(\"F1 Trainingsdaten: \"+ repr(f1_train)+\"\\n\")\n",
    "f.write(\"F1 Testdaten: \"+ repr(f1_test)+\"\\n\")\n",
    "f.write(\"AUC Trainingsdaten: \"+ repr(auc_train)+\"\\n\")\n",
    "f.write(\"AUC Testdaten: \"+ repr(auc_train)+\"\\n\")\n",
    "\n",
    "f.close()"
   ]
  },
  {
   "cell_type": "code",
   "execution_count": 6,
   "metadata": {},
   "outputs": [
    {
     "name": "stdout",
     "output_type": "stream",
     "text": [
      "=============\n",
      "[0.06305516 0.07285401 0.13681979 0.14420057 0.19694782 0.21123607\n",
      " 0.21375046 0.22693215 0.23822097 0.26278227 0.32716641 0.40053899\n",
      " 0.4585088  0.46986722 0.53757194 0.6159278  0.62585398 0.63685981\n",
      " 0.63885305 0.69405629 0.74198799 0.77278937 0.7741798  0.79007113\n",
      " 0.82490939 0.83045478 0.84386615 0.84755388 0.85290408 0.86415675\n",
      " 0.86557866 0.87325617 0.87637501 0.87843796 0.88243806 0.88268967\n",
      " 0.89155636 0.89212539 0.89290594 0.89350237 0.89623729 0.89688955\n",
      " 0.89849132 0.90158015 0.90331098 0.90976604 0.91793859 0.91930495\n",
      " 0.92140305 0.92439885 0.92690461 0.92807242 0.92878734 0.93110728\n",
      " 0.93116411 0.93118436 0.93151726 0.93170973 0.93171068 0.9319432\n",
      " 0.9320303  0.93294525 0.93364418 0.93375882 0.93381571 0.9338405\n",
      " 0.9354857  0.93610165 0.93615458 0.9381035  0.93843432 0.93901914\n",
      " 0.93972036 0.94081162 0.94110127 0.94119462 0.94170002 0.94394497\n",
      " 0.94502605 0.94626368 0.94782381 0.94828813 0.94837615 0.94882056\n",
      " 1.        ]\n"
     ]
    },
    {
     "data": {
      "image/png": "[encoded data removed]",
      "text/plain": [
       "<Figure size 432x288 with 1 Axes>"
      ]
     },
     "metadata": {
      "needs_background": "light"
     },
     "output_type": "display_data"
    },
    {
     "name": "stdout",
     "output_type": "stream",
     "text": [
      "0.0\n",
      "RMSE  Prog1_scaled\n",
      "Fitting 5 folds for each of 10080 candidates, totalling 50400 fits\n"
     ]
    },
    {
     "name": "stderr",
     "output_type": "stream",
     "text": [
      "[Parallel(n_jobs=-1)]: Using backend LokyBackend with 4 concurrent workers.\n",
      "[Parallel(n_jobs=-1)]: Done 1096 tasks      | elapsed:    2.3s\n",
      "[Parallel(n_jobs=-1)]: Done 5896 tasks      | elapsed:   12.4s\n",
      "[Parallel(n_jobs=-1)]: Done 13896 tasks      | elapsed:   29.6s\n",
      "[Parallel(n_jobs=-1)]: Done 25096 tasks      | elapsed:   54.8s\n",
      "[Parallel(n_jobs=-1)]: Done 37624 tasks      | elapsed:  2.0min\n",
      "[Parallel(n_jobs=-1)]: Done 46424 tasks      | elapsed:  2.8min\n",
      "[Parallel(n_jobs=-1)]: Done 50400 out of 50400 | elapsed:  3.2min finished\n"
     ]
    },
    {
     "name": "stdout",
     "output_type": "stream",
     "text": [
      "Best parameter for RMSE (CV score=-8438.6385):\n",
      "{'criterion': 'mae', 'max_depth': 10, 'max_features': 1.0, 'max_leaf_nodes': 100, 'min_samples_leaf': 1, 'min_samples_split': 2}\n",
      "Scores: [ 82.19177075  89.48112536  98.69819316 102.13059235  85.19883864]\n",
      "Mean: 91.54010405249315\n",
      "Standard deviation: 7.68425738748948\n",
      "MAE  Prog1_scaled\n",
      "Fitting 5 folds for each of 10080 candidates, totalling 50400 fits\n"
     ]
    },
    {
     "name": "stderr",
     "output_type": "stream",
     "text": [
      "[Parallel(n_jobs=-1)]: Using backend LokyBackend with 4 concurrent workers.\n",
      "[Parallel(n_jobs=-1)]: Done 1028 tasks      | elapsed:    2.0s\n",
      "[Parallel(n_jobs=-1)]: Done 5528 tasks      | elapsed:   11.5s\n",
      "[Parallel(n_jobs=-1)]: Done 13028 tasks      | elapsed:   27.7s\n",
      "[Parallel(n_jobs=-1)]: Done 23528 tasks      | elapsed:   50.8s\n",
      "[Parallel(n_jobs=-1)]: Done 37028 tasks      | elapsed:  1.9min\n",
      "[Parallel(n_jobs=-1)]: Done 46508 tasks      | elapsed:  2.9min\n",
      "[Parallel(n_jobs=-1)]: Done 50400 out of 50400 | elapsed:  3.2min finished\n"
     ]
    },
    {
     "name": "stdout",
     "output_type": "stream",
     "text": [
      "Best parameter for MAE (CV score=-68.9108):\n",
      "{'criterion': 'mae', 'max_depth': 10, 'max_features': 1.0, 'max_leaf_nodes': 100, 'min_samples_leaf': 1, 'min_samples_split': 2}\n",
      "Scores: [-54.46153846 -68.71794872 -74.76923077 -82.34210526 -64.26315789]\n",
      "Mean: -68.91079622132253\n",
      "Standard deviation: 9.435466071290799\n",
      "=============\n",
      "[0.06305516 0.07285401 0.13681979 0.14420057 0.19694782 0.21123607\n",
      " 0.21375046 0.22693215 0.23822097 0.26278227 0.32716641 0.40053899\n",
      " 0.4585088  0.46986722 0.53757194 0.6159278  0.62585398 0.63685981\n",
      " 0.63885305 0.69405629 0.74198799 0.77278937 0.7741798  0.79007113\n",
      " 0.82490939 0.83045478 0.84386615 0.84755388 0.85290408 0.86415675\n",
      " 0.86557866 0.87325617 0.87637501 0.87843796 0.88243806 0.88268967\n",
      " 0.89155636 0.89212539 0.89290594 0.89350237 0.89623729 0.89688955\n",
      " 0.89849132 0.90158015 0.90331098 0.90976604 0.91793859 0.91930495\n",
      " 0.92140305 0.92439885 0.92690461 0.92807242 0.92878734 0.93110728\n",
      " 0.93116411 0.93118436 0.93151726 0.93170973 0.93171068 0.9319432\n",
      " 0.9320303  0.93294525 0.93364418 0.93375882 0.93381571 0.9338405\n",
      " 0.9354857  0.93610165 0.93615458 0.9381035  0.93843432 0.93901914\n",
      " 0.93972036 0.94081162 0.94110127 0.94119462 0.94170002 0.94394497\n",
      " 0.94502605 0.94626368 0.94782381 0.94828813 0.94837615 0.94882056\n",
      " 1.        ]\n"
     ]
    },
    {
     "data": {
      "image/png": "[encoded data removed]",
      "text/plain": [
       "<Figure size 432x288 with 1 Axes>"
      ]
     },
     "metadata": {
      "needs_background": "light"
     },
     "output_type": "display_data"
    },
    {
     "name": "stdout",
     "output_type": "stream",
     "text": [
      "0.0\n",
      "RMSE  Prog1_beste\n",
      "Fitting 5 folds for each of 10080 candidates, totalling 50400 fits\n"
     ]
    },
    {
     "name": "stderr",
     "output_type": "stream",
     "text": [
      "[Parallel(n_jobs=-1)]: Using backend LokyBackend with 4 concurrent workers.\n",
      "[Parallel(n_jobs=-1)]: Done 1028 tasks      | elapsed:    2.1s\n",
      "[Parallel(n_jobs=-1)]: Done 5528 tasks      | elapsed:   11.7s\n",
      "[Parallel(n_jobs=-1)]: Done 13028 tasks      | elapsed:   28.2s\n",
      "[Parallel(n_jobs=-1)]: Done 23528 tasks      | elapsed:   52.1s\n",
      "[Parallel(n_jobs=-1)]: Done 32468 tasks      | elapsed:  1.6min\n",
      "[Parallel(n_jobs=-1)]: Done 40718 tasks      | elapsed:  2.3min\n",
      "[Parallel(n_jobs=-1)]: Done 50400 out of 50400 | elapsed:  3.2min finished\n"
     ]
    },
    {
     "name": "stdout",
     "output_type": "stream",
     "text": [
      "Best parameter for RMSE (CV score=-6705.7981):\n",
      "{'criterion': 'mse', 'max_depth': 10, 'max_features': 1.0, 'max_leaf_nodes': 20, 'min_samples_leaf': 5, 'min_samples_split': 2}\n",
      "Scores: [90.61436183 78.86273154 67.46135704 89.93374802 80.37153593]\n",
      "Mean: 81.4487468736721\n",
      "Standard deviation: 8.47937114745791\n",
      "MAE  Prog1_beste\n",
      "Fitting 5 folds for each of 10080 candidates, totalling 50400 fits\n"
     ]
    },
    {
     "name": "stderr",
     "output_type": "stream",
     "text": [
      "[Parallel(n_jobs=-1)]: Using backend LokyBackend with 4 concurrent workers.\n",
      "[Parallel(n_jobs=-1)]: Done 1028 tasks      | elapsed:    2.0s\n",
      "[Parallel(n_jobs=-1)]: Done 5528 tasks      | elapsed:   10.6s\n",
      "[Parallel(n_jobs=-1)]: Done 13028 tasks      | elapsed:   26.5s\n",
      "[Parallel(n_jobs=-1)]: Done 23528 tasks      | elapsed:   50.3s\n",
      "[Parallel(n_jobs=-1)]: Done 32708 tasks      | elapsed:  1.6min\n",
      "[Parallel(n_jobs=-1)]: Done 40958 tasks      | elapsed:  2.4min\n",
      "[Parallel(n_jobs=-1)]: Done 50400 out of 50400 | elapsed:  3.3min finished\n"
     ]
    },
    {
     "name": "stdout",
     "output_type": "stream",
     "text": [
      "Best parameter for MAE (CV score=-59.2840):\n",
      "{'criterion': 'mse', 'max_depth': 10, 'max_features': 1.0, 'max_leaf_nodes': 25, 'min_samples_leaf': 5, 'min_samples_split': 2}\n",
      "Scores: [-64.68131868 -55.08180708 -51.87820513 -63.91144528 -60.86716792]\n",
      "Mean: -59.28398881819934\n",
      "Standard deviation: 5.011086557471141\n",
      "=============\n",
      "[0.10230075 0.12314701 0.29234363 0.32058717 0.33874183 0.44474386\n",
      " 0.47737384 0.51215258 0.62631465 0.64336164 0.66875837 0.69448319\n",
      " 0.7276567  0.75223288 0.75322953 0.75955673 0.76889512 0.78666359\n",
      " 0.7885897  0.79231852 0.7947743  0.7977959  0.80240649 0.81198665\n",
      " 0.82408204 0.83067351 0.84307445 0.84480166 0.8454279  0.85604878\n",
      " 0.86305633 0.87291161 0.8771884  0.88477212 0.88935463 0.89155449\n",
      " 0.89562041 0.89691985 0.89951429 0.90022909 0.90479135 0.90753946\n",
      " 0.90927614 0.91275499 0.91321467 0.91560503 0.91745483 0.91963676\n",
      " 0.92008848 0.92118419 0.92264636 0.92266683 0.92463663 0.92514145\n",
      " 0.9264816  0.92899327 0.92963819 0.93156973 0.93674444 0.93726432\n",
      " 0.9378499  0.93929742 0.94141989 0.94212163 0.94345849 0.94564234\n",
      " 0.94566132 0.94623295 0.94687288 0.94706561 0.94723412 0.94761576\n",
      " 0.9482624  0.94915993 0.95064377 0.95071043 0.95186128 0.9518688\n",
      " 0.95732019 0.95787361 0.95798862 0.95930586 0.9597204  0.95992996\n",
      " 0.96017624 1.        ]\n"
     ]
    },
    {
     "data": {
      "image/png": "[encoded data removed]",
      "text/plain": [
       "<Figure size 432x288 with 1 Axes>"
      ]
     },
     "metadata": {
      "needs_background": "light"
     },
     "output_type": "display_data"
    },
    {
     "name": "stdout",
     "output_type": "stream",
     "text": [
      "0.0\n",
      "RMSE  MfI1_beste\n",
      "Fitting 5 folds for each of 10080 candidates, totalling 50400 fits\n"
     ]
    },
    {
     "name": "stderr",
     "output_type": "stream",
     "text": [
      "[Parallel(n_jobs=-1)]: Using backend LokyBackend with 4 concurrent workers.\n",
      "[Parallel(n_jobs=-1)]: Done 1164 tasks      | elapsed:    2.4s\n",
      "[Parallel(n_jobs=-1)]: Done 6264 tasks      | elapsed:   14.6s\n",
      "[Parallel(n_jobs=-1)]: Done 14764 tasks      | elapsed:   35.0s\n",
      "[Parallel(n_jobs=-1)]: Done 26664 tasks      | elapsed:  1.1min\n",
      "[Parallel(n_jobs=-1)]: Done 35130 tasks      | elapsed:  1.9min\n",
      "[Parallel(n_jobs=-1)]: Done 44480 tasks      | elapsed:  2.8min\n",
      "[Parallel(n_jobs=-1)]: Done 50400 out of 50400 | elapsed:  3.3min finished\n"
     ]
    },
    {
     "name": "stdout",
     "output_type": "stream",
     "text": [
      "Best parameter for RMSE (CV score=-6074.8149):\n",
      "{'criterion': 'mse', 'max_depth': 10, 'max_features': 1.0, 'max_leaf_nodes': 30, 'min_samples_leaf': 3, 'min_samples_split': 2}\n",
      "Scores: [76.28048407 72.10692638 82.12523444 81.86828406 76.8699108 ]\n",
      "Mean: 77.85016795183415\n",
      "Standard deviation: 3.7638035506205854\n",
      "MAE  MfI1_beste\n",
      "Fitting 5 folds for each of 10080 candidates, totalling 50400 fits\n"
     ]
    },
    {
     "name": "stderr",
     "output_type": "stream",
     "text": [
      "[Parallel(n_jobs=-1)]: Using backend LokyBackend with 4 concurrent workers.\n",
      "[Parallel(n_jobs=-1)]: Done 1536 tasks      | elapsed:    2.9s\n",
      "[Parallel(n_jobs=-1)]: Done 9336 tasks      | elapsed:   18.0s\n",
      "[Parallel(n_jobs=-1)]: Done 22336 tasks      | elapsed:   44.5s\n",
      "[Parallel(n_jobs=-1)]: Done 34478 tasks      | elapsed:  1.5min\n",
      "[Parallel(n_jobs=-1)]: Done 46178 tasks      | elapsed:  2.5min\n",
      "[Parallel(n_jobs=-1)]: Done 50400 out of 50400 | elapsed:  2.9min finished\n"
     ]
    },
    {
     "name": "stdout",
     "output_type": "stream",
     "text": [
      "Best parameter for MAE (CV score=-52.2308):\n",
      "{'criterion': 'mae', 'max_depth': 10, 'max_features': 1.0, 'max_leaf_nodes': 20, 'min_samples_leaf': 3, 'min_samples_split': 2}\n",
      "Scores: [-61.28205128 -55.38461538 -39.48717949 -50.26315789 -54.73684211]\n",
      "Mean: -52.23076923076924\n",
      "Standard deviation: 7.272185744449518\n",
      "=============\n",
      "[0.06305516 0.07285401 0.13681979 0.14420057 0.19694782 0.21123607\n",
      " 0.21375046 0.22693215 0.23822097 0.26278227 0.32716641 0.40053899\n",
      " 0.4585088  0.46986722 0.53757194 0.6159278  0.62585398 0.63685981\n",
      " 0.63885305 0.69405629 0.74198799 0.77278937 0.7741798  0.79007113\n",
      " 0.82490939 0.83045478 0.84386615 0.84755388 0.85290408 0.86415675\n",
      " 0.86557866 0.87325617 0.87637501 0.87843796 0.88243806 0.88268967\n",
      " 0.89155636 0.89212539 0.89290594 0.89350237 0.89623729 0.89688955\n",
      " 0.89849132 0.90158015 0.90331098 0.90976604 0.91793859 0.91930495\n",
      " 0.92140305 0.92439885 0.92690461 0.92807242 0.92878734 0.93110728\n",
      " 0.93116411 0.93118436 0.93151726 0.93170973 0.93171068 0.9319432\n",
      " 0.9320303  0.93294525 0.93364418 0.93375882 0.93381571 0.9338405\n",
      " 0.9354857  0.93610165 0.93615458 0.9381035  0.93843432 0.93901914\n",
      " 0.93972036 0.94081162 0.94110127 0.94119462 0.94170002 0.94394497\n",
      " 0.94502605 0.94626368 0.94782381 0.94828813 0.94837615 0.94882056\n",
      " 1.        ]\n"
     ]
    },
    {
     "data": {
      "image/png": "[encoded data removed]",
      "text/plain": [
       "<Figure size 432x288 with 1 Axes>"
      ]
     },
     "metadata": {
      "needs_background": "light"
     },
     "output_type": "display_data"
    },
    {
     "name": "stdout",
     "output_type": "stream",
     "text": [
      "0.0\n",
      "RMSE  beste\n",
      "Fitting 5 folds for each of 10080 candidates, totalling 50400 fits\n"
     ]
    },
    {
     "name": "stderr",
     "output_type": "stream",
     "text": [
      "[Parallel(n_jobs=-1)]: Using backend LokyBackend with 4 concurrent workers.\n",
      "[Parallel(n_jobs=-1)]: Done 1164 tasks      | elapsed:    2.1s\n",
      "[Parallel(n_jobs=-1)]: Done 6264 tasks      | elapsed:   11.9s\n",
      "[Parallel(n_jobs=-1)]: Done 14764 tasks      | elapsed:   29.2s\n",
      "[Parallel(n_jobs=-1)]: Done 26664 tasks      | elapsed:   55.2s\n",
      "[Parallel(n_jobs=-1)]: Done 40757 tasks      | elapsed:  2.0min\n",
      "[Parallel(n_jobs=-1)]: Done 50107 tasks      | elapsed:  2.9min\n",
      "[Parallel(n_jobs=-1)]: Done 50400 out of 50400 | elapsed:  2.9min finished\n"
     ]
    },
    {
     "name": "stdout",
     "output_type": "stream",
     "text": [
      "Best parameter for RMSE (CV score=-6636.9985):\n",
      "{'criterion': 'mse', 'max_depth': 5, 'max_features': 1.0, 'max_leaf_nodes': 20, 'min_samples_leaf': 5, 'min_samples_split': 2}\n",
      "Scores: [90.15373449 83.5455287  67.0841597  88.02443783 76.34694053]\n",
      "Mean: 81.03096025063726\n",
      "Standard deviation: 8.425082543125876\n",
      "MAE  beste\n",
      "Fitting 5 folds for each of 10080 candidates, totalling 50400 fits\n"
     ]
    },
    {
     "name": "stderr",
     "output_type": "stream",
     "text": [
      "[Parallel(n_jobs=-1)]: Using backend LokyBackend with 4 concurrent workers.\n",
      "[Parallel(n_jobs=-1)]: Done 960 tasks      | elapsed:    1.8s\n",
      "[Parallel(n_jobs=-1)]: Done 5160 tasks      | elapsed:    9.7s\n",
      "[Parallel(n_jobs=-1)]: Done 12160 tasks      | elapsed:   23.7s\n",
      "[Parallel(n_jobs=-1)]: Done 21960 tasks      | elapsed:   44.1s\n",
      "[Parallel(n_jobs=-1)]: Done 34560 tasks      | elapsed:  1.5min\n",
      "[Parallel(n_jobs=-1)]: Done 49960 tasks      | elapsed:  2.8min\n",
      "[Parallel(n_jobs=-1)]: Done 50400 out of 50400 | elapsed:  2.9min finished\n"
     ]
    },
    {
     "name": "stdout",
     "output_type": "stream",
     "text": [
      "Best parameter for MAE (CV score=-57.5332):\n",
      "{'criterion': 'mse', 'max_depth': 10, 'max_features': 0.75, 'max_leaf_nodes': 25, 'min_samples_leaf': 1, 'min_samples_split': 10}\n",
      "Scores: [-64.3482906  -54.84859585 -50.02747253 -67.27339181 -51.16812865]\n",
      "Mean: -57.53317588843904\n",
      "Standard deviation: 7.005340448262544\n",
      "RMSE Trainingsdaten: [1.03813303928441, 34.021049433601526, 22.51581737186487, 36.5555485162202]\n",
      "RMSE Testdaten: [140.36092930794695, 117.81970342383718, 96.76604381314385, 128.57515867604997]\n",
      "MAE Trainingsdaten: [0.14507772020725387, 20.4053787318036, 14.61139896373057, 16.627513554081357]\n",
      "MAE Testdaten: [110.11904761904762, 87.73809523809524, 57.142857142857146, 97.71620142309796]\n"
     ]
    }
   ],
   "source": [
    "# Regression\n",
    "dt_reg = DecisionTreeRegressor(random_state=42)\n",
    "\n",
    "#Variables to store intermediate results\n",
    "predictions_rmse_train = [[0] * num for i in range(4)]\n",
    "predictions_rmse_test = [[0] * num for i in range(4)]\n",
    "predictions_mae_train = [[0] * num for i in range(4)]\n",
    "predictions_mae_test = [[0] * num for i in range(4)]\n",
    "\n",
    "rmse_reg_train = [[0] * 1 for i in range(4)]\n",
    "rmse_reg_test = [[0] * 1 for i in range(4)]\n",
    "mae_reg_train = [[0] * 1 for i in range(4)]\n",
    "mae_reg_test = [[0] * 1 for i in range(4)]\n",
    "\n",
    "#Lists of labels for each scenario\n",
    "labels = [\"Prog1_scaled\",\"Prog1_beste\", \"MfI1_beste\", \"beste\"]\n",
    "others = [[\"Prog1_beste\",\"MfI1_beste\",\"beste\"],[\"MfI1_beste\",\"beste\",\"Prog1_scaled\"],[\"Prog1_beste\",\"beste\",\"Prog1_scaled\"],[\"Prog1_beste\",\"MfI1_beste\",\"Prog1_scaled\"]]\n",
    "\n",
    "\n",
    "scenario = 0\n",
    "other_count = 0\n",
    "\n",
    "#Parameters to use in GridSearch\n",
    "param_grid = {\n",
    "    'criterion':('mse', 'mae'),\n",
    "    'max_depth':[3,4,5, 10,15, 100,1000],\n",
    "    'min_samples_split':[2,5,10,20, 40,100],\n",
    "    'min_samples_leaf':[1,3,5,20,100],\n",
    "    'max_features':[0.25,0.5,0.75,1.0],\n",
    "    'max_leaf_nodes':[5,10,20,25,30,100],\n",
    "    }\n",
    "\n",
    "for label in labels:  \n",
    "    os.makedirs(os.path.dirname('Auswertung/scores/neu/%.1f/%d/cv_scores_reg.txt'%(a,num)), exist_ok = True) \n",
    "    f = open('Auswertung/scores/neu/%.1f/%d/cv_scores_reg.txt'%(a,num),'a')\n",
    "    print(\"=============\")\n",
    "    f.write(\"========%s=======\\n\"%(label))\n",
    "\n",
    "    #Load data\n",
    "    data,_,y,train_X,test_X,train_y,test_y,names,feature_names,numcols,numrows = func.load_data_noten(label,others[other_count][0],others[other_count][1],others[other_count][2])\n",
    "    features,X_noise = get_random_features(data,label,a=a,reg=True)\n",
    "    y = round(features[\"%s\"%(label)])\n",
    "    X = features\n",
    "    del X[\"%s\"%(label)]\n",
    "    train_Xn, test_Xn, train_yn, test_yn = train_test_split(X_noise,y,test_size=0.3,random_state=42)\n",
    "    train_X, test_X, train_y, test_y = train_test_split(X,y,test_size=0.3,random_state=42)\n",
    "    \n",
    "    \n",
    "    #Cross_Validation on train data\n",
    "    print(\"RMSE \",label)\n",
    "    grid = GridSearchCV(dt_reg, param_grid, n_jobs=-1,iid=False, cv=5,verbose=1, scoring='neg_mean_squared_error')\n",
    "    grid.fit(train_Xn, train_yn)\n",
    "    f.write(\"Best parameter for RMSE (CV score=%0.4f)\\n\" % (sqrt(-1*grid.best_score_)))\n",
    "    f.write('' + repr(grid.best_params_) + '\\n')\n",
    "    print(\"Best parameter for RMSE (CV score=%0.4f):\" % (grid.best_score_))\n",
    "    print(grid.best_params_)\n",
    "    best_dt_rmse = grid.best_estimator_\n",
    "    func.cross_val(best_dt_rmse, train_Xn, train_yn, scoring=\"neg_mean_squared_error\")\n",
    "    \n",
    "    print(\"MAE \",label)\n",
    "    grid = GridSearchCV(dt_reg, param_grid, n_jobs=-1,iid=False, cv=5,verbose=1, scoring='neg_mean_absolute_error')\n",
    "    grid.fit(train_Xn, train_yn)\n",
    "    f.write(\"Best parameter for MAE (CV score=%0.4f)\\n\" % (grid.best_score_))\n",
    "    f.write('' + repr(grid.best_params_) + '\\n')\n",
    "    print(\"Best parameter for MAE (CV score=%0.4f):\" % (grid.best_score_))\n",
    "    print(grid.best_params_)\n",
    "    best_dt_mae = grid.best_estimator_\n",
    "    func.cross_val(best_dt_mae, train_Xn, train_yn, scoring=\"neg_mean_absolute_error\")\n",
    "    \n",
    "    \n",
    "    #Fit and store predictions\n",
    "    best_dt_rmse.fit(train_Xn, train_yn)\n",
    "    predictions_rmse_train[scenario] = best_dt_rmse.predict(train_Xn)\n",
    "    predictions_rmse_test[scenario] = best_dt_rmse.predict(test_X)\n",
    "    create_tree_png(best_dt_rmse,label,\"rmse\",num,a)\n",
    "    \n",
    "    best_dt_mae.fit(train_Xn, train_yn)\n",
    "    predictions_mae_train[scenario] = best_dt_mae.predict(train_Xn)\n",
    "    predictions_mae_test[scenario] = best_dt_mae.predict(test_X)\n",
    "    create_tree_png(best_dt_mae,label,\"mae\",num,a)\n",
    "    \n",
    "    #Calculate performance\n",
    "    rmse_reg_train[scenario] = sqrt(mean_squared_error(train_yn,predictions_rmse_train[scenario]))\n",
    "    rmse_reg_test[scenario] = sqrt(mean_squared_error(test_y,predictions_rmse_test[scenario]))\n",
    "\n",
    "    mae_reg_train[scenario] = mean_absolute_error(train_yn,predictions_mae_train[scenario])\n",
    "    mae_reg_test[scenario] = mean_absolute_error(test_y,predictions_mae_test[scenario])\n",
    "    scenario += 1\n",
    "    other_count += 1\n",
    "    f.close()\n",
    "\n",
    "os.makedirs(os.path.dirname('Auswertung/scores/neu/%.1f/%d/scores.txt'%(a,num)), exist_ok = True) \n",
    "    \n",
    "f = open('Auswertung/scores/neu/%.1f/%d/scores.txt'%(a,num),'a')\n",
    "\n",
    "print(\"RMSE Trainingsdaten:\", rmse_reg_train)\n",
    "print(\"RMSE Testdaten:\",rmse_reg_test)\n",
    "print(\"MAE Trainingsdaten:\",mae_reg_train)\n",
    "print(\"MAE Testdaten:\",mae_reg_test)\n",
    "\n",
    "f.write(\"=====Regression=====\\n\")\n",
    "f.write(\"RMSE Trainingsdaten: \"+ repr(rmse_reg_train)+\"\\n\")\n",
    "f.write(\"RMSE Testdaten: \"+ repr(rmse_reg_test)+\"\\n\")\n",
    "f.write(\"MAE Trainingsdaten: \"+ repr(mae_reg_train)+\"\\n\")\n",
    "f.write(\"MAE Testdaten: \"+ repr(mae_reg_test)+\"\\n\")\n",
    "f.close()"
   ]
  }
 ],
 "metadata": {
  "kernelspec": {
   "display_name": "Python 3",
   "language": "python",
   "name": "python3"
  },
  "language_info": {
   "codemirror_mode": {
    "name": "ipython",
    "version": 3
   },
   "file_extension": ".py",
   "mimetype": "text/x-python",
   "name": "python",
   "nbconvert_exporter": "python",
   "pygments_lexer": "ipython3",
   "version": "3.7.5"
  }
 },
 "nbformat": 4,
 "nbformat_minor": 2
}
